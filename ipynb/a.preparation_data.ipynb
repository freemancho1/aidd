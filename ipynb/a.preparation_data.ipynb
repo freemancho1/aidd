{
 "cells": [
  {
   "cell_type": "markdown",
   "metadata": {},
   "source": [
    "#### 개요\n",
    "\n",
    "학습용 데이터와 온라인 시험용 테스트 데이터를 준비하고, 제약조건(전주/전선 수 10개 미만 제외)을 검사해 레코드를 제거하고, 학습에 필요한 컬럼만 추려 데이터를 저장함\n",
    "* 배치/온라인 부분이 구분되어 구현됨"
   ]
  },
  {
   "cell_type": "code",
   "execution_count": 1,
   "metadata": {},
   "outputs": [],
   "source": [
    "import pandas as pd\n",
    "from io import StringIO\n",
    "\n",
    "import aidd.sys.config as cfg\n",
    "from aidd.utils.data_io import get_provide_data, save_data"
   ]
  },
  {
   "cell_type": "markdown",
   "metadata": {},
   "source": [
    "#### 학습대상 레코드와 컬럼 추출"
   ]
  },
  {
   "cell_type": "markdown",
   "metadata": {},
   "source": [
    "##### 공통함수 생성"
   ]
  },
  {
   "cell_type": "code",
   "execution_count": 2,
   "metadata": {},
   "outputs": [],
   "source": [
    "def preparation_data(pdf_dict=None, is_batch=True):\n",
    "    # 제약조건을 충족한 학습용 레코드와 컬럼이 저장된 딕셔너리\n",
    "    df_dict = {}\n",
    "    \n",
    "    # 공사비 데이터 학습대상 레코드 추출(제약조건이 있어 별도 처리)\n",
    "    key = cfg.DATA_SETs[0]\n",
    "    df = pdf_dict[key]\n",
    "    # (전주/전선 수를 제외한) 공사비 데이터 부분에서 학습 대상 레코드 조건\n",
    "    # * 접수종류명(ACC_TYPE_NAME), 계약전력(CONT_CAP),\n",
    "    # * 공사형태코드(CONS_TYPE_CD), 총공사비(TOTAL_CONS_COST)\n",
    "    modeling_records = \\\n",
    "        (df.ACC_TYPE_NAME  == cfg.CONSTRAINTS['ACC_TYPE_NAME']) & \\\n",
    "        (df.CONT_CAP        < cfg.CONSTRAINTS['MAX_CONT_CAP']) & \\\n",
    "        (df.CONS_TYPE_CD   == cfg.CONSTRAINTS['CONS_TYPE_CD']) & \\\n",
    "        (df.TOTAL_CONS_COST < cfg.CONSTRAINTS['MAX_TOTAL_CONS_COST'])\n",
    "    df = df[modeling_records].reset_index(drop=True)\n",
    "    cons_df = df[cfg.COLS['PP'][key]['SOURCE']]\n",
    "    df_dict[key] = cons_df\n",
    "    \n",
    "    # 전주/전선/인입선 데이터 제약조건 처리\n",
    "    for key in cfg.DATA_SETs[1:]:\n",
    "        df = pdf_dict[key]\n",
    "        df = df[df.CONS_ID.isin(cons_df.CONS_ID)]\n",
    "        df_dict[key] = df[cfg.COLS['PP'][key]['SOURCE']]\n",
    "        \n",
    "    # 데이터 저장\n",
    "    if is_batch:\n",
    "        for key in cfg.DATA_SETs:\n",
    "            save_data(df_dict[key], f'MERGE,BATCH,{key}')\n",
    "    else:\n",
    "        # 이 부분을 서비스 시 수행할 필요 없으니 주석처리\n",
    "        for key in cfg.DATA_SETs:\n",
    "            save_data(df_dict[key], f'MERGE,ONLINE,{key}')\n",
    "            \n",
    "    return df_dict"
   ]
  },
  {
   "cell_type": "markdown",
   "metadata": {},
   "source": [
    "##### 배치 작업"
   ]
  },
  {
   "cell_type": "code",
   "execution_count": 3,
   "metadata": {},
   "outputs": [
    {
     "name": "stdout",
     "output_type": "stream",
     "text": [
      "Data Type: CONS, Size: (19052, 143), pTime: 0:00:27.832838\n",
      "Data Type: POLE, Size: (38533, 63), pTime: 0:00:24.872879\n",
      "Data Type: LINE, Size: (40019, 77), pTime: 0:00:31.416517\n",
      "Data Type: SL, Size: (22632, 57), pTime: 0:00:12.980993\n"
     ]
    }
   ],
   "source": [
    "# 제공받은 데이터가 저장된 딕셔너리\n",
    "pdf_dict = get_provide_data()"
   ]
  },
  {
   "cell_type": "code",
   "execution_count": 4,
   "metadata": {},
   "outputs": [],
   "source": [
    "batch_df_dict = preparation_data(pdf_dict=pdf_dict)"
   ]
  },
  {
   "cell_type": "code",
   "execution_count": 5,
   "metadata": {},
   "outputs": [
    {
     "data": {
      "text/plain": [
       "CONS_ID                   70HC20234512\n",
       "TOTAL_CONS_COST               29998731\n",
       "CONS_TYPE_CD                         2\n",
       "LAST_MOD_DATE      2023-09-01 15:54:47\n",
       "LAST_MOD_EID                MMP1900092\n",
       "OFFICE_NAME                       충주지사\n",
       "CONT_CAP                            49\n",
       "ACC_TYPE_NAME                신설(상용/임시)\n",
       "dtype: object"
      ]
     },
     "execution_count": 5,
     "metadata": {},
     "output_type": "execute_result"
    }
   ],
   "source": [
    "batch_df_dict['CONS'].max()"
   ]
  },
  {
   "cell_type": "code",
   "execution_count": 6,
   "metadata": {},
   "outputs": [
    {
     "name": "stdout",
     "output_type": "stream",
     "text": [
      "Data Type: CONS, Size: (15335, 8)\n",
      "Data Type: POLE, Size: (27896, 6)\n",
      "Data Type: LINE, Size: (30348, 11)\n",
      "Data Type: SL, Size: (17034, 6)\n"
     ]
    }
   ],
   "source": [
    "# 제약조건을 충족한 데이터 크기\n",
    "for key in cfg.DATA_SETs:\n",
    "    print(f'Data Type: {key}, Size: {batch_df_dict[key].shape}')"
   ]
  },
  {
   "cell_type": "markdown",
   "metadata": {},
   "source": [
    "##### 온라인 작업"
   ]
  },
  {
   "cell_type": "code",
   "execution_count": 7,
   "metadata": {},
   "outputs": [],
   "source": [
    "def get_online_sample(pdf_dict=None):\n",
    "    \"\"\"온라인 서비스 샘플 데이터 생성 함수\n",
    "    * 온라인 서비스나 온라인 서비스를 위한 전처리 프로세스 테스트를 위한\n",
    "      샘플 데이터를 생성하는 함수로, 대상 데이터는 `config`에 지정되어 있음\n",
    "    * 실제 온라인 작업에선 사용하지 않음\n",
    "    Args:\n",
    "        data (dict): 학습용으로 제공받은 전체 데이터\n",
    "            - `key: df`로 구성된 딕셔너리로 제공됨\n",
    "    Returns:\n",
    "        jsons (dict): Online으로 받을 예정인 JSON 데이터의 딕셔너리\n",
    "    \"\"\"\n",
    "    # 전체 데이터에서 샘플 데이터만 추출한 데이터프레임 딕셔너리\n",
    "    jsons = {}\n",
    "    for key in cfg.DATA_SETs:\n",
    "        df = pdf_dict[key]\n",
    "        df = df[df.CONS_ID.isin(cfg.CHECK_CONS_IDS)]\n",
    "        modeling_cols = cfg.COLS['PP'][key]['SOURCE']\n",
    "        # 데이터프레임을 이용해 날자 데이터를 JSON으로 변경해서 다시 복원하기 위해서는,\n",
    "        # JSON 데이터로 만들기 전에 숫자로 만들고, 복원 시 이 숫자를 이용해 날자를 만들어야 함\n",
    "        # 이 부분을 수행하지 않으면 JSON변환 과정에서 데이터가 짤리면서 1970년대 데이터로 변환됨\n",
    "        if key == 'CONS':\n",
    "            df.loc[:, 'LAST_MOD_DATE'] = df.LAST_MOD_DATE.astype(int)\n",
    "        jsons[key] = df[modeling_cols].to_json(orient='records')\n",
    "        \n",
    "    return jsons"
   ]
  },
  {
   "cell_type": "code",
   "execution_count": 8,
   "metadata": {},
   "outputs": [],
   "source": [
    "# RESTful 데이터 받기(임의 생성)\n",
    "js_dict = get_online_sample(pdf_dict=pdf_dict)"
   ]
  },
  {
   "cell_type": "markdown",
   "metadata": {},
   "source": [
    "###### 수정 예정\n",
    "이 아래 부분은 추후 수정할 사항이 많아 보임(RESTful JSON 데이터를 데이터프레임으로 변환)"
   ]
  },
  {
   "cell_type": "code",
   "execution_count": 9,
   "metadata": {},
   "outputs": [],
   "source": [
    "# Web데이터를 데이터프레임으로 전환\n",
    "js_df_dict = {}\n",
    "for key in js_dict.keys():\n",
    "    js_df_dict[key] = pd.read_json(StringIO(js_dict[key]))"
   ]
  },
  {
   "cell_type": "code",
   "execution_count": 10,
   "metadata": {},
   "outputs": [],
   "source": [
    "# 총공사비가 없는 경우에는 총공사비 컬럼을 0으로 추가\n",
    "# 예측해야할 값이긴 하지만 온라인/배치 전처리를 같은 함수로 하기 위해 \n",
    "# 컬럼만 추가함\n",
    "if 'TOTAL_CONS_COST' not in js_df_dict['CONS'].keys():\n",
    "    js_df_dict['CONS'].loc[:, 'TOTAL_CONS_COST'] = 0"
   ]
  },
  {
   "cell_type": "code",
   "execution_count": 11,
   "metadata": {},
   "outputs": [],
   "source": [
    "# 날짜형 데이터 복원(JSON변환 과정에서 숫자로 처리해 둠)\n",
    "js_df_dict['CONS'].LAST_MOD_DATE = \\\n",
    "    pd.to_datetime(js_df_dict['CONS'].LAST_MOD_DATE)"
   ]
  },
  {
   "cell_type": "code",
   "execution_count": 12,
   "metadata": {},
   "outputs": [],
   "source": [
    "# 온라인으로 들어온 데이터의 경우 CONS_ID가 정수형으로 들어오는데,\n",
    "# 배치 작업과 병행처리를 위해 문자형으로 변환\n",
    "for key in cfg.DATA_SETs:\n",
    "    df = js_df_dict[key]\n",
    "    df.CONS_ID = df.CONS_ID.astype(str)\n",
    "    js_df_dict[key] = df"
   ]
  },
  {
   "cell_type": "code",
   "execution_count": 13,
   "metadata": {},
   "outputs": [
    {
     "name": "stdout",
     "output_type": "stream",
     "text": [
      "<class 'pandas.core.frame.DataFrame'>\n",
      "RangeIndex: 3 entries, 0 to 2\n",
      "Data columns (total 8 columns):\n",
      " #   Column           Non-Null Count  Dtype         \n",
      "---  ------           --------------  -----         \n",
      " 0   CONS_ID          3 non-null      object        \n",
      " 1   TOTAL_CONS_COST  3 non-null      int64         \n",
      " 2   CONS_TYPE_CD     3 non-null      int64         \n",
      " 3   LAST_MOD_DATE    3 non-null      datetime64[ns]\n",
      " 4   LAST_MOD_EID     3 non-null      object        \n",
      " 5   OFFICE_NAME      3 non-null      object        \n",
      " 6   CONT_CAP         3 non-null      int64         \n",
      " 7   ACC_TYPE_NAME    3 non-null      object        \n",
      "dtypes: datetime64[ns](1), int64(3), object(4)\n",
      "memory usage: 320.0+ bytes\n"
     ]
    }
   ],
   "source": [
    "js_df_dict['CONS'].info()"
   ]
  },
  {
   "cell_type": "code",
   "execution_count": 14,
   "metadata": {},
   "outputs": [],
   "source": [
    "# 온라인용 데이터 딕셔너리\n",
    "online_df_dict = preparation_data(pdf_dict=js_df_dict, is_batch=False)"
   ]
  },
  {
   "cell_type": "code",
   "execution_count": 15,
   "metadata": {},
   "outputs": [
    {
     "name": "stdout",
     "output_type": "stream",
     "text": [
      "Data Type: CONS, Size: (3, 8)\n",
      "Data Type: POLE, Size: (9, 6)\n",
      "Data Type: LINE, Size: (9, 11)\n",
      "Data Type: SL, Size: (3, 6)\n"
     ]
    }
   ],
   "source": [
    "# 제약조건을 충족한 데이터 크기\n",
    "for key in cfg.DATA_SETs:\n",
    "    print(f'Data Type: {key}, Size: {online_df_dict[key].shape}')"
   ]
  },
  {
   "cell_type": "code",
   "execution_count": 16,
   "metadata": {},
   "outputs": [
    {
     "name": "stdout",
     "output_type": "stream",
     "text": [
      "<class 'pandas.core.frame.DataFrame'>\n",
      "RangeIndex: 3 entries, 0 to 2\n",
      "Data columns (total 8 columns):\n",
      " #   Column           Non-Null Count  Dtype         \n",
      "---  ------           --------------  -----         \n",
      " 0   CONS_ID          3 non-null      object        \n",
      " 1   TOTAL_CONS_COST  3 non-null      int64         \n",
      " 2   CONS_TYPE_CD     3 non-null      int64         \n",
      " 3   LAST_MOD_DATE    3 non-null      datetime64[ns]\n",
      " 4   LAST_MOD_EID     3 non-null      object        \n",
      " 5   OFFICE_NAME      3 non-null      object        \n",
      " 6   CONT_CAP         3 non-null      int64         \n",
      " 7   ACC_TYPE_NAME    3 non-null      object        \n",
      "dtypes: datetime64[ns](1), int64(3), object(4)\n",
      "memory usage: 320.0+ bytes\n"
     ]
    }
   ],
   "source": [
    "online_df_dict['CONS'].info()"
   ]
  },
  {
   "cell_type": "code",
   "execution_count": null,
   "metadata": {},
   "outputs": [],
   "source": []
  }
 ],
 "metadata": {
  "kernelspec": {
   "display_name": "t213p310",
   "language": "python",
   "name": "python3"
  },
  "language_info": {
   "codemirror_mode": {
    "name": "ipython",
    "version": 3
   },
   "file_extension": ".py",
   "mimetype": "text/x-python",
   "name": "python",
   "nbconvert_exporter": "python",
   "pygments_lexer": "ipython3",
   "version": "3.10.12"
  }
 },
 "nbformat": 4,
 "nbformat_minor": 2
}
