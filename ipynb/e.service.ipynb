{
 "cells": [
  {
   "cell_type": "code",
   "execution_count": 1,
   "metadata": {},
   "outputs": [],
   "source": [
    "import pandas as pd\n",
    "\n",
    "import aidd.sys.config as cfg\n",
    "from aidd.utils.data_io import read_data, save_data\n",
    "from aidd.utils.data_io import read_pickle, save_pickle"
   ]
  },
  {
   "cell_type": "code",
   "execution_count": 2,
   "metadata": {},
   "outputs": [],
   "source": [
    "def service(row_df=None, scaler=None):\n",
    "    df = row_df\n",
    "    pc = df.loc[0, 'POLE_CNT']\n",
    "    if pc == 1.0:\n",
    "        processing_scaler = scaler['1']\n",
    "    else:\n",
    "        processing_scaler = scaler['N1']\n",
    "    all_scaler = scaler['ALL']\n",
    "    scaled_data = processing_scaler.transform(df)\n",
    "    scaled_all = all_scaler.transform(df)\n",
    "    \n",
    "    # print(scaled_data[0], scaled_all[0])\n",
    "    \n",
    "    tcc = 0\n",
    "    return tcc"
   ]
  },
  {
   "cell_type": "code",
   "execution_count": 3,
   "metadata": {},
   "outputs": [],
   "source": [
    "def service_main(pdf=None):\n",
    "    df = read_data('ONLINE') if pdf is None else pdf\n",
    "    # 추후에 메모리에 상주한 클레스의 인스턴스에 로드할 것\n",
    "    scaler = {pc_mode: read_pickle(f'DUMP,SCALER,{pc_mode}') for pc_mode in cfg.DATA_PC_TYPE}\n",
    "    \n",
    "    ### 임시 체크 코드\n",
    "    pb_df = read_data('PP,SL', dtype={'CONS_ID': str})\n",
    "    bcols = pb_df.columns.tolist()\n",
    "    ocols = df.columns.tolist()\n",
    "    for i in range(len(bcols)):\n",
    "        if bcols[i] != ocols[i]:\n",
    "            print('False')\n",
    "    ### 임시 체크 코드\n",
    "    \n",
    "    # 리턴할 데이터프레임\n",
    "    return_df = df[['CONS_ID']].copy()\n",
    "    return_tcc = []\n",
    "    \n",
    "    training_cols = df.columns[5:].tolist()\n",
    "    X = df[training_cols].copy()\n",
    "    for _, row in X.iterrows():\n",
    "        row_df = pd.DataFrame(row).transpose()\n",
    "        # 아래 코드를 사용해야 service 함수에서 0번 인덱스를 사용할 수 없음\n",
    "        row_df.reset_index(drop=True, inplace=True)\n",
    "        return_tcc.append(service(row_df, scaler))\n",
    "        \n",
    "    return_df.loc[:, 'TOTAL_CONS_COST'] = return_tcc\n",
    "    return return_df"
   ]
  },
  {
   "cell_type": "code",
   "execution_count": 4,
   "metadata": {},
   "outputs": [
    {
     "data": {
      "text/html": [
       "<div>\n",
       "<style scoped>\n",
       "    .dataframe tbody tr th:only-of-type {\n",
       "        vertical-align: middle;\n",
       "    }\n",
       "\n",
       "    .dataframe tbody tr th {\n",
       "        vertical-align: top;\n",
       "    }\n",
       "\n",
       "    .dataframe thead th {\n",
       "        text-align: right;\n",
       "    }\n",
       "</style>\n",
       "<table border=\"1\" class=\"dataframe\">\n",
       "  <thead>\n",
       "    <tr style=\"text-align: right;\">\n",
       "      <th></th>\n",
       "      <th>CONS_ID</th>\n",
       "      <th>TOTAL_CONS_COST</th>\n",
       "    </tr>\n",
       "  </thead>\n",
       "  <tbody>\n",
       "    <tr>\n",
       "      <th>0</th>\n",
       "      <td>477420204194</td>\n",
       "      <td>0</td>\n",
       "    </tr>\n",
       "    <tr>\n",
       "      <th>1</th>\n",
       "      <td>475920223725</td>\n",
       "      <td>0</td>\n",
       "    </tr>\n",
       "    <tr>\n",
       "      <th>2</th>\n",
       "      <td>474620226651</td>\n",
       "      <td>0</td>\n",
       "    </tr>\n",
       "  </tbody>\n",
       "</table>\n",
       "</div>"
      ],
      "text/plain": [
       "        CONS_ID  TOTAL_CONS_COST\n",
       "0  477420204194                0\n",
       "1  475920223725                0\n",
       "2  474620226651                0"
      ]
     },
     "execution_count": 4,
     "metadata": {},
     "output_type": "execute_result"
    }
   ],
   "source": [
    "rdf = service_main()\n",
    "rdf"
   ]
  },
  {
   "cell_type": "markdown",
   "metadata": {},
   "source": [
    "#### 여기서부터는 단순 테스트"
   ]
  },
  {
   "cell_type": "code",
   "execution_count": 5,
   "metadata": {},
   "outputs": [
    {
     "name": "stderr",
     "output_type": "stream",
     "text": [
      "/home/freeman/projects/aidd/utils/data_io.py:23: DtypeWarning: Columns (0) have mixed types. Specify dtype option on import or set low_memory=False.\n",
      "  return pd.read_csv(file_path, **kwargs)\n"
     ]
    }
   ],
   "source": [
    "pb_df = read_data('PP,SL')\n",
    "po_df = read_data('ONLINE')"
   ]
  },
  {
   "cell_type": "code",
   "execution_count": 6,
   "metadata": {},
   "outputs": [],
   "source": [
    "bcols = pb_df.columns.tolist()\n",
    "ocols = po_df.columns.tolist()"
   ]
  },
  {
   "cell_type": "code",
   "execution_count": 7,
   "metadata": {},
   "outputs": [],
   "source": [
    "for i in range(len(bcols)):\n",
    "    if bcols[i] != ocols[i]:\n",
    "        print('False')"
   ]
  },
  {
   "cell_type": "code",
   "execution_count": null,
   "metadata": {},
   "outputs": [],
   "source": []
  }
 ],
 "metadata": {
  "kernelspec": {
   "display_name": "t213p310",
   "language": "python",
   "name": "python3"
  },
  "language_info": {
   "codemirror_mode": {
    "name": "ipython",
    "version": 3
   },
   "file_extension": ".py",
   "mimetype": "text/x-python",
   "name": "python",
   "nbconvert_exporter": "python",
   "pygments_lexer": "ipython3",
   "version": "3.10.13"
  }
 },
 "nbformat": 4,
 "nbformat_minor": 2
}
