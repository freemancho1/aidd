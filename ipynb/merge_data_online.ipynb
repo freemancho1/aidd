{
 "cells": [
  {
   "cell_type": "markdown",
   "metadata": {},
   "source": [
    "### Data Merge - Online\n",
    "* Online Sample Data: 477420204194, 474620226651"
   ]
  },
  {
   "cell_type": "code",
   "execution_count": 1,
   "metadata": {},
   "outputs": [],
   "source": [
    "import os\n",
    "import sys\n",
    "import json\n",
    "\n",
    "import aidd.sys.config as cfg\n",
    "from aidd.batch.data_manager import get_provide_data, read_data\n",
    "from aidd.online.data_manager import get_online_sample"
   ]
  },
  {
   "cell_type": "code",
   "execution_count": 2,
   "metadata": {},
   "outputs": [
    {
     "name": "stdout",
     "output_type": "stream",
     "text": [
      "[cf3e07ef9614][2024-03-12 22:24:44.475359] 제공받은 데이터 불러오기 시작\n",
      "[cf3e07ef9614][2024-03-12 22:25:03.772961]   읽은 데이터: CONS, 데이터 크기: (19052, 143), 처리시간: 0:00:19.297519\n",
      "[cf3e07ef9614][2024-03-12 22:25:21.569626]   읽은 데이터: POLE, 데이터 크기: (38533, 63), 처리시간: 0:00:17.796546\n",
      "[cf3e07ef9614][2024-03-12 22:25:43.921812]   읽은 데이터: LINE, 데이터 크기: (40019, 77), 처리시간: 0:00:22.352102\n",
      "[cf3e07ef9614][2024-03-12 22:25:52.994653]   읽은 데이터: SL, 데이터 크기: (22632, 57), 처리시간: 0:00:09.072730\n",
      "[cf3e07ef9614][2024-03-12 22:25:52.994722] 제공받은 데이터 불러오기 종료, 최종 처리시간: 0:01:08.519367\n"
     ]
    }
   ],
   "source": [
    "pdata = get_provide_data()"
   ]
  },
  {
   "cell_type": "code",
   "execution_count": 3,
   "metadata": {},
   "outputs": [
    {
     "name": "stdout",
     "output_type": "stream",
     "text": [
      "CONS: CONS_ID\n",
      "477420204194    1\n",
      "475920223725    1\n",
      "474620226651    1\n",
      "Name: count, dtype: int64\n",
      "POLE: CONS_ID\n",
      "477420204194    4\n",
      "474620226651    4\n",
      "475920223725    1\n",
      "Name: count, dtype: int64\n",
      "LINE: CONS_ID\n",
      "477420204194    4\n",
      "474620226651    4\n",
      "475920223725    1\n",
      "Name: count, dtype: int64\n",
      "SL: CONS_ID\n",
      "474620226651    2\n",
      "477420204194    1\n",
      "Name: count, dtype: int64\n"
     ]
    }
   ],
   "source": [
    "jdict = get_online_sample(pdata)"
   ]
  },
  {
   "cell_type": "code",
   "execution_count": 4,
   "metadata": {},
   "outputs": [],
   "source": [
    "jcons = json.loads(jdict['CONS'])"
   ]
  },
  {
   "cell_type": "code",
   "execution_count": 5,
   "metadata": {},
   "outputs": [
    {
     "data": {
      "text/plain": [
       "'단양지사'"
      ]
     },
     "execution_count": 5,
     "metadata": {},
     "output_type": "execute_result"
    }
   ],
   "source": [
    "jcons[0]['OFFICE_NAME']"
   ]
  },
  {
   "cell_type": "code",
   "execution_count": 6,
   "metadata": {},
   "outputs": [
    {
     "data": {
      "text/plain": [
       "3"
      ]
     },
     "execution_count": 6,
     "metadata": {},
     "output_type": "execute_result"
    }
   ],
   "source": [
    "len(jcons)"
   ]
  },
  {
   "cell_type": "code",
   "execution_count": null,
   "metadata": {},
   "outputs": [],
   "source": []
  }
 ],
 "metadata": {
  "kernelspec": {
   "display_name": "t213p310",
   "language": "python",
   "name": "python3"
  },
  "language_info": {
   "codemirror_mode": {
    "name": "ipython",
    "version": 3
   },
   "file_extension": ".py",
   "mimetype": "text/x-python",
   "name": "python",
   "nbconvert_exporter": "python",
   "pygments_lexer": "ipython3",
   "version": "3.10.13"
  }
 },
 "nbformat": 4,
 "nbformat_minor": 2
}
