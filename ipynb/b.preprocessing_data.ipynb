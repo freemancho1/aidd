{
 "cells": [
  {
   "cell_type": "markdown",
   "metadata": {},
   "source": [
    "#### 개요\n",
    "학습대상 레코드와 컬러으로 구성된 데이터를 대상으로 배치/온라인 전처리 수행\n",
    "\n",
    "##### 주요 작업\n",
    "* 공사비 전처리(NaN, 컬럼추가)\n",
    "* 전주/전선/인입선 갯 수 계산\n",
    "* 데이터 전처리 및 공사비 데이터에 추가\n",
    "  * 전주/전선/인입선 순으로 진행\n",
    "\n",
    "##### 향후 추가할 사항(옵션)\n",
    "* 전주/전선에 대한 순서 지정(좌표정보 처리)\n",
    "* 사번 데이터 문자 정보 추가(중요도 하)\n",
    "* 향후 작업이 필요할 경우 아래 코드 참조\n",
    "  * aidd-back240313/batch/preprocessing.py"
   ]
  },
  {
   "cell_type": "code",
   "execution_count": 1,
   "metadata": {},
   "outputs": [],
   "source": [
    "import re\n",
    "import pandas as pd\n",
    "\n",
    "import aidd.sys.config as cfg\n",
    "from aidd.utils.data_io import save_data\n",
    "from aidd.utils.data_io import read_pickle, save_pickle\n",
    "\n",
    "# 이 부분은 IPYNB에서 작업할 경우 만 필요함\n",
    "# * IPYNB에서 merge.ipynb와 preprocessing.ipynb가 끈어져 추가한 부분임\n",
    "from aidd.utils.data_io import get_merged_data"
   ]
  },
  {
   "cell_type": "markdown",
   "metadata": {},
   "source": [
    "#### 병합 데이터 불러오기"
   ]
  },
  {
   "cell_type": "code",
   "execution_count": 2,
   "metadata": {},
   "outputs": [
    {
     "name": "stdout",
     "output_type": "stream",
     "text": [
      "Data Type: CONS, Size: (15335, 8), pTime: 0:00:00.030596\n",
      "Data Type: POLE, Size: (27896, 6), pTime: 0:00:00.035545\n",
      "Data Type: LINE, Size: (30348, 11), pTime: 0:00:00.075465\n",
      "Data Type: SL, Size: (17034, 6), pTime: 0:00:00.013458\n",
      "Data Type: CONS, Size: (3, 8), pTime: 0:00:00.001446\n",
      "Data Type: POLE, Size: (9, 6), pTime: 0:00:00.001036\n",
      "Data Type: LINE, Size: (9, 11), pTime: 0:00:00.001318\n",
      "Data Type: SL, Size: (3, 6), pTime: 0:00:00.000929\n"
     ]
    }
   ],
   "source": [
    "bdf_dict = get_merged_data()\n",
    "odf_dict = get_merged_data(mode='ONLINE', dtype={'CONS_ID': str})"
   ]
  },
  {
   "cell_type": "code",
   "execution_count": 3,
   "metadata": {},
   "outputs": [
    {
     "data": {
      "text/plain": [
       "Index(['CONS_ID', 'COMP_ID', 'POLE_SHAPE_CD', 'POLE_TYPE_CD', 'POLE_SPEC_CD',\n",
       "       'COORDINATE'],\n",
       "      dtype='object')"
      ]
     },
     "execution_count": 3,
     "metadata": {},
     "output_type": "execute_result"
    }
   ],
   "source": [
    "_df = odf_dict['POLE']\n",
    "_df.columns"
   ]
  },
  {
   "cell_type": "markdown",
   "metadata": {},
   "source": [
    "#### 전처리"
   ]
  },
  {
   "cell_type": "markdown",
   "metadata": {},
   "source": [
    "##### 공사비"
   ]
  },
  {
   "cell_type": "code",
   "execution_count": 4,
   "metadata": {},
   "outputs": [],
   "source": [
    "# 이후 클래스 작성 시 함수의 파라메터와 리턴값은 클래스의 전역변수로 변환\n",
    "def cons(df_dict=bdf_dict, is_batch=True):\n",
    "    df = df_dict['CONS']\n",
    "    print(f'최초 공사비 데이터 크기: {df.shape}')\n",
    "    \n",
    "    # 결측치 처리\n",
    "    df.fillna(0, inplace=True)\n",
    "        \n",
    "    # 일자정보 처리\n",
    "    # * '최종변경일시'를 이용해 다양한 일자정보 컬럼 추가\n",
    "    # * 참고로 일자정보가 날자형식이 아니면 날자형식으로 변환\n",
    "    if df.LAST_MOD_DATE.dtype != '<M8[ns]':\n",
    "        df.LAST_MOD_DATE = pd.to_datetime(df.LAST_MOD_DATE)\n",
    "    df['YEAR'] = df.LAST_MOD_DATE.dt.year\n",
    "    df['MONTH'] = df.LAST_MOD_DATE.dt.month\n",
    "    df['DAY'] = df.LAST_MOD_DATE.dt.day\n",
    "    df['DAYOFWEEK'] = df.LAST_MOD_DATE.dt.dayofweek\n",
    "    df['DAYOFYEAR'] = df.LAST_MOD_DATE.dt.dayofyear\n",
    "    df['YEAR_MONTH'] = df.LAST_MOD_DATE.dt.strftime(\"%Y%m\").astype(int)\n",
    "    \n",
    "    # 사번정보 처리\n",
    "    # '최종변경자사번(LAST_MOD_EID)'만 사용(최초등록자==최종변경자사번)\n",
    "    df['EID_NUMBER'] = df.LAST_MOD_EID.apply(\n",
    "        lambda x: re.findall(r'\\d+', x)[0]\n",
    "    ).astype(int)\n",
    "    \n",
    "    # 사업소명 숫자로 변환\n",
    "    # 모델학습 만을 생각하면 rank()함수를 사용할 수 있지만, \n",
    "    # rank를 사용하면 서비스시에 같은 값 다른 ranking을 제공하기 때문에 문제 발생\n",
    "    # 이를 해결하기 위해 학습시 사업소명을 저장하고 \n",
    "    # 서비스시 해당 사업소명리스트를 이용해 숫자로 변경해줘야 함.\n",
    "    if is_batch:\n",
    "        offc_list = df.OFFICE_NAME.unique().tolist()\n",
    "        save_pickle(offc_list, file_code='DUMP,OFFICE_LIST')\n",
    "    else:\n",
    "        offc_list = read_pickle(file_code='DUMP,OFFICE_LIST')\n",
    "    offc_idxs = []\n",
    "    for oname in df.OFFICE_NAME:\n",
    "        offc_idxs.append(offc_list.index(oname)) \n",
    "    df['OFFICE_NUMBER'] = offc_idxs\n",
    "    \n",
    "    # 필요 컬럼 추출\n",
    "    # 'CONT_CAP', 'EID_CODE_NUMBER' 추가 필요\n",
    "    df = df[cfg.COLS['PP']['CONS']['PP']]\n",
    "    print(f'컬럼 추가 후 공사비 데이터 크기: {df.shape}')\n",
    "    \n",
    "    if is_batch:\n",
    "        save_data(df, file_code='PP,CONS')\n",
    "    \n",
    "    return df"
   ]
  },
  {
   "cell_type": "code",
   "execution_count": 5,
   "metadata": {},
   "outputs": [
    {
     "name": "stdout",
     "output_type": "stream",
     "text": [
      "최초 공사비 데이터 크기: (15335, 8)\n",
      "컬럼 추가 후 공사비 데이터 크기: (15335, 14)\n"
     ]
    }
   ],
   "source": [
    "pb_df = cons()"
   ]
  },
  {
   "cell_type": "code",
   "execution_count": 6,
   "metadata": {},
   "outputs": [
    {
     "name": "stdout",
     "output_type": "stream",
     "text": [
      "<class 'pandas.core.frame.DataFrame'>\n",
      "RangeIndex: 15335 entries, 0 to 15334\n",
      "Data columns (total 14 columns):\n",
      " #   Column           Non-Null Count  Dtype         \n",
      "---  ------           --------------  -----         \n",
      " 0   CONS_ID          15335 non-null  object        \n",
      " 1   TOTAL_CONS_COST  15335 non-null  int64         \n",
      " 2   LAST_MOD_DATE    15335 non-null  datetime64[ns]\n",
      " 3   LAST_MOD_EID     15335 non-null  object        \n",
      " 4   OFFICE_NAME      15335 non-null  object        \n",
      " 5   CONT_CAP         15335 non-null  int64         \n",
      " 6   YEAR             15335 non-null  int32         \n",
      " 7   MONTH            15335 non-null  int32         \n",
      " 8   DAY              15335 non-null  int32         \n",
      " 9   DAYOFWEEK        15335 non-null  int32         \n",
      " 10  DAYOFYEAR        15335 non-null  int32         \n",
      " 11  YEAR_MONTH       15335 non-null  int64         \n",
      " 12  EID_NUMBER       15335 non-null  int64         \n",
      " 13  OFFICE_NUMBER    15335 non-null  int64         \n",
      "dtypes: datetime64[ns](1), int32(5), int64(5), object(3)\n",
      "memory usage: 1.3+ MB\n"
     ]
    }
   ],
   "source": [
    "pb_df.info()"
   ]
  },
  {
   "cell_type": "code",
   "execution_count": 7,
   "metadata": {},
   "outputs": [
    {
     "name": "stdout",
     "output_type": "stream",
     "text": [
      "최초 공사비 데이터 크기: (3, 8)\n",
      "컬럼 추가 후 공사비 데이터 크기: (3, 14)\n"
     ]
    }
   ],
   "source": [
    "po_df = cons(df_dict=odf_dict, is_batch=False)"
   ]
  },
  {
   "cell_type": "code",
   "execution_count": 8,
   "metadata": {},
   "outputs": [
    {
     "name": "stdout",
     "output_type": "stream",
     "text": [
      "<class 'pandas.core.frame.DataFrame'>\n",
      "RangeIndex: 3 entries, 0 to 2\n",
      "Data columns (total 14 columns):\n",
      " #   Column           Non-Null Count  Dtype         \n",
      "---  ------           --------------  -----         \n",
      " 0   CONS_ID          3 non-null      object        \n",
      " 1   TOTAL_CONS_COST  3 non-null      int64         \n",
      " 2   LAST_MOD_DATE    3 non-null      datetime64[ns]\n",
      " 3   LAST_MOD_EID     3 non-null      object        \n",
      " 4   OFFICE_NAME      3 non-null      object        \n",
      " 5   CONT_CAP         3 non-null      int64         \n",
      " 6   YEAR             3 non-null      int32         \n",
      " 7   MONTH            3 non-null      int32         \n",
      " 8   DAY              3 non-null      int32         \n",
      " 9   DAYOFWEEK        3 non-null      int32         \n",
      " 10  DAYOFYEAR        3 non-null      int32         \n",
      " 11  YEAR_MONTH       3 non-null      int64         \n",
      " 12  EID_NUMBER       3 non-null      int64         \n",
      " 13  OFFICE_NUMBER    3 non-null      int64         \n",
      "dtypes: datetime64[ns](1), int32(5), int64(5), object(3)\n",
      "memory usage: 404.0+ bytes\n"
     ]
    }
   ],
   "source": [
    "po_df.info()"
   ]
  },
  {
   "cell_type": "markdown",
   "metadata": {},
   "source": [
    "##### 설비 갯 수"
   ]
  },
  {
   "cell_type": "code",
   "execution_count": 9,
   "metadata": {},
   "outputs": [],
   "source": [
    "# 이후 클래스 작성 시 함수의 파라메터와 리턴값은 클래스의 전역변수로 변환\n",
    "def compute_and_check_facilities_count(\n",
    "    sdf=pb_df, df_dict=bdf_dict, is_batch=True):\n",
    "    \n",
    "    # 공사비 데이터에 카운트 컬럼 추가\n",
    "    mdf = sdf\n",
    "    # 공사번호별 설비 갯 수 계산\n",
    "    for key in cfg.DATA_SETs[1:]:\n",
    "        df = df_dict[key]\n",
    "        count_cons_ids = df.CONS_ID.value_counts()\n",
    "        col_name = f'{key}_CNT'\n",
    "        mdf = pd.merge(\n",
    "            mdf, count_cons_ids.rename(col_name),\n",
    "            left_on='CONS_ID', right_on=count_cons_ids.index, how='left'\n",
    "        )\n",
    "        # 해당 공사번호에 없는 설비는 NaN처리되며, 이 값을 0으로 변경\n",
    "        mdf[col_name] = mdf[col_name].fillna(0)  \n",
    "    print(f'설비 카운트가 추가된 공사비 데이터 크기: {mdf.shape}')\n",
    "    \n",
    "    # 모델 학습에 사용할 레코드 추출\n",
    "    # * 전주/전선 갯 수가 10개 이상인 경우 \n",
    "    modeling_records = \\\n",
    "        (mdf.POLE_CNT >= cfg.CONSTRAINTS['MIN_POLE_CNT']) & \\\n",
    "        (mdf.POLE_CNT <= cfg.CONSTRAINTS['MAX_POLE_CNT']) & \\\n",
    "        (mdf.LINE_CNT >= cfg.CONSTRAINTS['MIN_LINE_CNT']) & \\\n",
    "        (mdf.LINE_CNT <= cfg.CONSTRAINTS['MAX_LINE_CNT'])\n",
    "    mdf = mdf[modeling_records].reset_index(drop=True)\n",
    "    print(f'제약조건이 적용된 공사비 데이터 크기: {mdf.shape}')\n",
    "    \n",
    "    if is_batch:\n",
    "        save_data(mdf, file_code='PP,CONS')\n",
    "    return mdf"
   ]
  },
  {
   "cell_type": "code",
   "execution_count": 10,
   "metadata": {},
   "outputs": [
    {
     "name": "stdout",
     "output_type": "stream",
     "text": [
      "설비 카운트가 추가된 공사비 데이터 크기: (15335, 17)\n",
      "제약조건이 적용된 공사비 데이터 크기: (14729, 17)\n"
     ]
    }
   ],
   "source": [
    "pb_df = compute_and_check_facilities_count()"
   ]
  },
  {
   "cell_type": "code",
   "execution_count": 11,
   "metadata": {},
   "outputs": [
    {
     "name": "stdout",
     "output_type": "stream",
     "text": [
      "설비 카운트가 추가된 공사비 데이터 크기: (3, 17)\n",
      "제약조건이 적용된 공사비 데이터 크기: (3, 17)\n"
     ]
    }
   ],
   "source": [
    "po_df = compute_and_check_facilities_count(\n",
    "    sdf=po_df, df_dict=odf_dict, is_batch=False\n",
    ")"
   ]
  },
  {
   "cell_type": "code",
   "execution_count": 12,
   "metadata": {},
   "outputs": [
    {
     "data": {
      "text/html": [
       "<div>\n",
       "<style scoped>\n",
       "    .dataframe tbody tr th:only-of-type {\n",
       "        vertical-align: middle;\n",
       "    }\n",
       "\n",
       "    .dataframe tbody tr th {\n",
       "        vertical-align: top;\n",
       "    }\n",
       "\n",
       "    .dataframe thead th {\n",
       "        text-align: right;\n",
       "    }\n",
       "</style>\n",
       "<table border=\"1\" class=\"dataframe\">\n",
       "  <thead>\n",
       "    <tr style=\"text-align: right;\">\n",
       "      <th></th>\n",
       "      <th>CONS_ID</th>\n",
       "      <th>TOTAL_CONS_COST</th>\n",
       "      <th>LAST_MOD_DATE</th>\n",
       "      <th>LAST_MOD_EID</th>\n",
       "      <th>OFFICE_NAME</th>\n",
       "      <th>CONT_CAP</th>\n",
       "      <th>YEAR</th>\n",
       "      <th>MONTH</th>\n",
       "      <th>DAY</th>\n",
       "      <th>DAYOFWEEK</th>\n",
       "      <th>DAYOFYEAR</th>\n",
       "      <th>YEAR_MONTH</th>\n",
       "      <th>EID_NUMBER</th>\n",
       "      <th>OFFICE_NUMBER</th>\n",
       "      <th>POLE_CNT</th>\n",
       "      <th>LINE_CNT</th>\n",
       "      <th>SL_CNT</th>\n",
       "    </tr>\n",
       "  </thead>\n",
       "  <tbody>\n",
       "    <tr>\n",
       "      <th>0</th>\n",
       "      <td>477420204194</td>\n",
       "      <td>9076645</td>\n",
       "      <td>2020-12-23 11:50:39</td>\n",
       "      <td>MDE1900011</td>\n",
       "      <td>단양지사</td>\n",
       "      <td>3</td>\n",
       "      <td>2020</td>\n",
       "      <td>12</td>\n",
       "      <td>23</td>\n",
       "      <td>2</td>\n",
       "      <td>358</td>\n",
       "      <td>202012</td>\n",
       "      <td>1900011</td>\n",
       "      <td>0</td>\n",
       "      <td>4</td>\n",
       "      <td>4</td>\n",
       "      <td>1.0</td>\n",
       "    </tr>\n",
       "    <tr>\n",
       "      <th>1</th>\n",
       "      <td>475920223725</td>\n",
       "      <td>2176378</td>\n",
       "      <td>2022-11-24 10:42:22</td>\n",
       "      <td>MDP2100032</td>\n",
       "      <td>음성지사</td>\n",
       "      <td>3</td>\n",
       "      <td>2022</td>\n",
       "      <td>11</td>\n",
       "      <td>24</td>\n",
       "      <td>3</td>\n",
       "      <td>328</td>\n",
       "      <td>202211</td>\n",
       "      <td>2100032</td>\n",
       "      <td>5</td>\n",
       "      <td>1</td>\n",
       "      <td>1</td>\n",
       "      <td>0.0</td>\n",
       "    </tr>\n",
       "    <tr>\n",
       "      <th>2</th>\n",
       "      <td>474620226651</td>\n",
       "      <td>9512744</td>\n",
       "      <td>2023-04-04 08:27:05</td>\n",
       "      <td>MDP2300252</td>\n",
       "      <td>충주지사</td>\n",
       "      <td>5</td>\n",
       "      <td>2023</td>\n",
       "      <td>4</td>\n",
       "      <td>4</td>\n",
       "      <td>1</td>\n",
       "      <td>94</td>\n",
       "      <td>202304</td>\n",
       "      <td>2300252</td>\n",
       "      <td>10</td>\n",
       "      <td>4</td>\n",
       "      <td>4</td>\n",
       "      <td>2.0</td>\n",
       "    </tr>\n",
       "  </tbody>\n",
       "</table>\n",
       "</div>"
      ],
      "text/plain": [
       "        CONS_ID  TOTAL_CONS_COST       LAST_MOD_DATE LAST_MOD_EID OFFICE_NAME  \\\n",
       "0  477420204194          9076645 2020-12-23 11:50:39   MDE1900011        단양지사   \n",
       "1  475920223725          2176378 2022-11-24 10:42:22   MDP2100032        음성지사   \n",
       "2  474620226651          9512744 2023-04-04 08:27:05   MDP2300252        충주지사   \n",
       "\n",
       "   CONT_CAP  YEAR  MONTH  DAY  DAYOFWEEK  DAYOFYEAR  YEAR_MONTH  EID_NUMBER  \\\n",
       "0         3  2020     12   23          2        358      202012     1900011   \n",
       "1         3  2022     11   24          3        328      202211     2100032   \n",
       "2         5  2023      4    4          1         94      202304     2300252   \n",
       "\n",
       "   OFFICE_NUMBER  POLE_CNT  LINE_CNT  SL_CNT  \n",
       "0              0         4         4     1.0  \n",
       "1              5         1         1     0.0  \n",
       "2             10         4         4     2.0  "
      ]
     },
     "execution_count": 12,
     "metadata": {},
     "output_type": "execute_result"
    }
   ],
   "source": [
    "po_df"
   ]
  },
  {
   "cell_type": "code",
   "execution_count": 13,
   "metadata": {},
   "outputs": [
    {
     "data": {
      "text/html": [
       "<div>\n",
       "<style scoped>\n",
       "    .dataframe tbody tr th:only-of-type {\n",
       "        vertical-align: middle;\n",
       "    }\n",
       "\n",
       "    .dataframe tbody tr th {\n",
       "        vertical-align: top;\n",
       "    }\n",
       "\n",
       "    .dataframe thead th {\n",
       "        text-align: right;\n",
       "    }\n",
       "</style>\n",
       "<table border=\"1\" class=\"dataframe\">\n",
       "  <thead>\n",
       "    <tr style=\"text-align: right;\">\n",
       "      <th></th>\n",
       "      <th>CONS_ID</th>\n",
       "      <th>TOTAL_CONS_COST</th>\n",
       "      <th>LAST_MOD_DATE</th>\n",
       "      <th>LAST_MOD_EID</th>\n",
       "      <th>OFFICE_NAME</th>\n",
       "      <th>CONT_CAP</th>\n",
       "      <th>YEAR</th>\n",
       "      <th>MONTH</th>\n",
       "      <th>DAY</th>\n",
       "      <th>DAYOFWEEK</th>\n",
       "      <th>DAYOFYEAR</th>\n",
       "      <th>YEAR_MONTH</th>\n",
       "      <th>EID_NUMBER</th>\n",
       "      <th>OFFICE_NUMBER</th>\n",
       "      <th>POLE_CNT</th>\n",
       "      <th>LINE_CNT</th>\n",
       "      <th>SL_CNT</th>\n",
       "    </tr>\n",
       "  </thead>\n",
       "  <tbody>\n",
       "    <tr>\n",
       "      <th>75</th>\n",
       "      <td>477420204194</td>\n",
       "      <td>9076645</td>\n",
       "      <td>2020-12-23 11:50:39</td>\n",
       "      <td>MDE1900011</td>\n",
       "      <td>단양지사</td>\n",
       "      <td>3</td>\n",
       "      <td>2020</td>\n",
       "      <td>12</td>\n",
       "      <td>23</td>\n",
       "      <td>2</td>\n",
       "      <td>358</td>\n",
       "      <td>202012</td>\n",
       "      <td>1900011</td>\n",
       "      <td>0</td>\n",
       "      <td>4.0</td>\n",
       "      <td>4.0</td>\n",
       "      <td>1.0</td>\n",
       "    </tr>\n",
       "    <tr>\n",
       "      <th>7056</th>\n",
       "      <td>475920223725</td>\n",
       "      <td>2176378</td>\n",
       "      <td>2022-11-24 10:42:22</td>\n",
       "      <td>MDP2100032</td>\n",
       "      <td>음성지사</td>\n",
       "      <td>3</td>\n",
       "      <td>2022</td>\n",
       "      <td>11</td>\n",
       "      <td>24</td>\n",
       "      <td>3</td>\n",
       "      <td>328</td>\n",
       "      <td>202211</td>\n",
       "      <td>2100032</td>\n",
       "      <td>5</td>\n",
       "      <td>1.0</td>\n",
       "      <td>1.0</td>\n",
       "      <td>0.0</td>\n",
       "    </tr>\n",
       "    <tr>\n",
       "      <th>14551</th>\n",
       "      <td>474620226651</td>\n",
       "      <td>9512744</td>\n",
       "      <td>2023-04-04 08:27:05</td>\n",
       "      <td>MDP2300252</td>\n",
       "      <td>충주지사</td>\n",
       "      <td>5</td>\n",
       "      <td>2023</td>\n",
       "      <td>4</td>\n",
       "      <td>4</td>\n",
       "      <td>1</td>\n",
       "      <td>94</td>\n",
       "      <td>202304</td>\n",
       "      <td>2300252</td>\n",
       "      <td>10</td>\n",
       "      <td>4.0</td>\n",
       "      <td>4.0</td>\n",
       "      <td>2.0</td>\n",
       "    </tr>\n",
       "  </tbody>\n",
       "</table>\n",
       "</div>"
      ],
      "text/plain": [
       "            CONS_ID  TOTAL_CONS_COST       LAST_MOD_DATE LAST_MOD_EID  \\\n",
       "75     477420204194          9076645 2020-12-23 11:50:39   MDE1900011   \n",
       "7056   475920223725          2176378 2022-11-24 10:42:22   MDP2100032   \n",
       "14551  474620226651          9512744 2023-04-04 08:27:05   MDP2300252   \n",
       "\n",
       "      OFFICE_NAME  CONT_CAP  YEAR  MONTH  DAY  DAYOFWEEK  DAYOFYEAR  \\\n",
       "75           단양지사         3  2020     12   23          2        358   \n",
       "7056         음성지사         3  2022     11   24          3        328   \n",
       "14551        충주지사         5  2023      4    4          1         94   \n",
       "\n",
       "       YEAR_MONTH  EID_NUMBER  OFFICE_NUMBER  POLE_CNT  LINE_CNT  SL_CNT  \n",
       "75         202012     1900011              0       4.0       4.0     1.0  \n",
       "7056       202211     2100032              5       1.0       1.0     0.0  \n",
       "14551      202304     2300252             10       4.0       4.0     2.0  "
      ]
     },
     "execution_count": 13,
     "metadata": {},
     "output_type": "execute_result"
    }
   ],
   "source": [
    "pb_df[pb_df.CONS_ID.isin(po_df.CONS_ID)]"
   ]
  },
  {
   "cell_type": "markdown",
   "metadata": {},
   "source": [
    "##### 전주"
   ]
  },
  {
   "cell_type": "code",
   "execution_count": 14,
   "metadata": {},
   "outputs": [],
   "source": [
    "# 이후 클래스 작성 시 함수의 파라메터와 리턴값은 클래스의 전역변수로 변환\n",
    "def pole(sdf=pb_df, df_dict=bdf_dict, is_batch=True):\n",
    "    df = df_dict['POLE']\n",
    "    print(f'최초 전주 데이터 크기: {df.shape}')\n",
    "    \n",
    "    # 결측치 처리\n",
    "    df.fillna(0, inplace=True)\n",
    "    \n",
    "    # 코드형 컬럼 One-Hot Encoding\n",
    "    prefix = ['POLE_SHAPE', 'POLE_TYPE', 'POLE_SPEC']\n",
    "    columns = [x+'_CD' for x in prefix]\n",
    "    # 숫자형 값 통일(실수형이 아닌 값을 실수형으로 변환)\n",
    "    # (One-Hot Encoding시 동일한 컬럼값을 만들기 위해 실행)\n",
    "    if df.POLE_SPEC_CD.dtype != 'float64':\n",
    "        df['POLE_SPEC_CD'] = df['POLE_SPEC_CD'].astype(float)\n",
    "    df = pd.get_dummies(df, columns=columns, prefix=prefix)\n",
    "    # True, False값을 1, 0으로 변환\n",
    "    df = df.apply(lambda x: int(x) if isinstance(x, bool) else x)\n",
    "    \n",
    "    # 실시간 처리에서 동일 컬럼을 추가하기 위해 학습에서 나온 컬럼 리스트 저장\n",
    "    df_cols = df.columns.tolist()\n",
    "    if is_batch:\n",
    "        save_pickle(df_cols, file_code='DUMP,POLE_ONE_HOT_COLS')\n",
    "    else:\n",
    "        # 학습 당시 컬럼 불러오기\n",
    "        modeling_cols = read_pickle(file_code='DUMP,POLE_ONE_HOT_COLS')\n",
    "        # 실시간 처리에서 만들어 지지 않는 컬럼 추출\n",
    "        append_cols = [x for x in modeling_cols if x not in df_cols]\n",
    "        # 0으로 컬럼값 추가\n",
    "        df.loc[:, append_cols] = 0\n",
    "    print(f'One-Hot Encoding 결과: {df.shape}')\n",
    "    \n",
    "    # 공사비별 전주 데이터 합산\n",
    "    unique_cons_ids = df.CONS_ID.unique()\n",
    "    cons_id_pole_sums = []\n",
    "    # 합산대상 컬럼 리스트 추출\n",
    "    sum_cols = [col for col in df.columns if col.startswith('POLE_')]\n",
    "    # 공사번호별 합산(시간이 좀 걸림, 14700건 처리에 약 40초 소요)\n",
    "    for cid in unique_cons_ids:\n",
    "        cons_id_pole_sums.append(\n",
    "            [cid]+df[df.CONS_ID==cid][sum_cols].sum().values.tolist())\n",
    "    # 공사번호별로 합산된 전주 정보를 데이터프레임으로 변환\n",
    "    pole_sums_df = pd.DataFrame(\n",
    "        cons_id_pole_sums, columns=['CONS_ID'] + sum_cols)\n",
    "    \n",
    "    # 공사비 데이터와 전주정보 그룹 데이터 병합\n",
    "    pdf = pd.merge(\n",
    "        sdf, pole_sums_df,\n",
    "        left_on='CONS_ID', right_on='CONS_ID', how='left')\n",
    "    print(f'전주 그룹정보가 적용된 데이터 크기: {pdf.shape}')\n",
    "    \n",
    "    if is_batch:\n",
    "        save_data(pdf, file_code='PP,POLE')\n",
    "    return pdf"
   ]
  },
  {
   "cell_type": "code",
   "execution_count": 15,
   "metadata": {},
   "outputs": [
    {
     "name": "stdout",
     "output_type": "stream",
     "text": [
      "최초 전주 데이터 크기: (27896, 6)\n",
      "One-Hot Encoding 결과: (27896, 22)\n"
     ]
    },
    {
     "name": "stdout",
     "output_type": "stream",
     "text": [
      "전주 그룹정보가 적용된 데이터 크기: (14729, 36)\n"
     ]
    }
   ],
   "source": [
    "pb_df = pole()"
   ]
  },
  {
   "cell_type": "code",
   "execution_count": 16,
   "metadata": {},
   "outputs": [
    {
     "name": "stdout",
     "output_type": "stream",
     "text": [
      "최초 전주 데이터 크기: (9, 6)\n",
      "One-Hot Encoding 결과: (9, 22)\n",
      "전주 그룹정보가 적용된 데이터 크기: (3, 36)\n"
     ]
    }
   ],
   "source": [
    "po_df = pole(sdf=po_df, df_dict=odf_dict, is_batch=False)"
   ]
  },
  {
   "cell_type": "markdown",
   "metadata": {},
   "source": [
    "##### 전선"
   ]
  },
  {
   "cell_type": "code",
   "execution_count": 17,
   "metadata": {},
   "outputs": [],
   "source": [
    "# 이후 클래스 작성 시 함수의 파라메터와 리턴값은 클래스의 전역변수로 변환\n",
    "def line(sdf=pb_df, df_dict=bdf_dict, is_batch=True):\n",
    "    df = df_dict['LINE']\n",
    "    print(f'최초 전선 데이터 크기: {df.shape}')\n",
    "    \n",
    "    # 숫자형 값 통일(실수형이 아닌 값을 실수형으로 변환)\n",
    "    # (One-Hot Encoding시 동일한 컬럼값을 만들기 위해 실행)\n",
    "    if df.LINE_SPEC_CD.dtype != 'float64':\n",
    "        df['LINE_SPEC_CD'] = df['LINE_SPEC_CD'].astype(float)\n",
    "    if df.NEUTRAL_SPEC_CD.dtype != 'float64':\n",
    "        df['NEUTRAL_SPEC_CD'] = df['NEUTRAL_SPEC_CD'].astype(float)   \n",
    "    # 중성선규격코드(NEUTRAL_SPEC_CD)에 0.0과 NaN이 존재(NaN=>999.0 변환)\n",
    "    df['NEUTRAL_SPEC_CD'] = df['NEUTRAL_SPEC_CD'].fillna(999.0)\n",
    "    # 중성선종류코드(NEUTRAL_TYPE_CD)의 NaN값을 문자열 'NaN'으로 치환\n",
    "    df.NEUTRAL_TYPE_CD = df.NEUTRAL_TYPE_CD.fillna('NaN')\n",
    "    # 결선방식이 41인 값이 1개만 존재하기 때문에 많이 있는 43으로 치환\n",
    "    df.WIRING_SCHEME = df.WIRING_SCHEME.replace(41, 43)\n",
    "    # 전선 전체길이 추가: = 선로길이(SPAN) * 전선 갯 수(PHASE)\n",
    "    df.loc[:, 'LINE_LENGTH'] = df.SPAN * df.LINE_PHASE_CD\n",
    "\n",
    "    # 결측치 처리\n",
    "    df.fillna(0, inplace=True)\n",
    "    \n",
    "    # 코드형 컬럼 One-Hot Encoding\n",
    "    # WIRING_SCHEME은 마지막에 '_CD'가 붙지 않음\n",
    "    prefix = ['WIRING_SCHEME', 'LINE_TYPE', 'LINE_SPEC', 'LINE_PHASE',\n",
    "              'NEUTRAL_TYPE', 'NEUTRAL_SPEC']\n",
    "    columns = [x+'_CD' for x in prefix if x != 'WIRING_SCHEME']\n",
    "    columns += ['WIRING_SCHEME']\n",
    "    df = pd.get_dummies(df, columns=columns, prefix=prefix)\n",
    "    # True, False를 1, 0으로 변환\n",
    "    df = df.apply(lambda x: int(x) if isinstance(x, bool) else x)\n",
    "    # 실시간 처리에서 동일 컬럼을 추가하기 위해 학습에서 나올 컬럼리스트 저장\n",
    "    df_cols = df.columns.tolist()\n",
    "    if is_batch:\n",
    "        save_pickle(df_cols, file_code='DUMP,LINE_ONE_HOT_COLS')\n",
    "    else:\n",
    "        modeling_cols = read_pickle('DUMP,LINE_ONE_HOT_COLS')\n",
    "        append_cols = [col for col in modeling_cols if col not in df_cols]\n",
    "        df.loc[:, append_cols] = 0\n",
    "    print(f'전선 One-Hot Encoding 결과: {df.shape}')\n",
    "    \n",
    "    # 공사비별 전선 데이터 합산\n",
    "    unique_cons_ids = df.CONS_ID.unique()\n",
    "    cons_id_line_sums = []\n",
    "    sum_cols = ['SPAN'] + df.columns.tolist()[5:]\n",
    "    for cid in unique_cons_ids:\n",
    "        cons_id_line_sums.append(\n",
    "            [cid]+df[df.CONS_ID==cid][sum_cols].sum().values.tolist())\n",
    "    # 공사번호별로 합산된 전주 정보를 데이터프레임으로 변환\n",
    "    line_sums_df = pd.DataFrame(\n",
    "        cons_id_line_sums, columns=['CONS_ID']+sum_cols)\n",
    "    \n",
    "    # 공사비 데이터와 전주 그룹 데이터 병합\n",
    "    pdf = pd.merge(\n",
    "        sdf, line_sums_df,\n",
    "        left_on='CONS_ID', right_on='CONS_ID', how='left')\n",
    "    print(f'전선 그룹정보가 적용된 데이터 크기: {pdf.shape}')\n",
    "    \n",
    "    if is_batch:\n",
    "        save_data(pdf, file_code='PP,LINE')\n",
    "    return pdf"
   ]
  },
  {
   "cell_type": "code",
   "execution_count": 18,
   "metadata": {},
   "outputs": [
    {
     "name": "stdout",
     "output_type": "stream",
     "text": [
      "최초 전선 데이터 크기: (30348, 11)\n",
      "전선 One-Hot Encoding 결과: (30348, 48)\n"
     ]
    },
    {
     "name": "stdout",
     "output_type": "stream",
     "text": [
      "전선 그룹정보가 적용된 데이터 크기: (14729, 80)\n",
      "최초 전선 데이터 크기: (9, 11)\n",
      "전선 One-Hot Encoding 결과: (9, 48)\n",
      "전선 그룹정보가 적용된 데이터 크기: (3, 80)\n"
     ]
    }
   ],
   "source": [
    "pb_df = line()\n",
    "po_df = line(po_df, df_dict=odf_dict, is_batch=False)"
   ]
  },
  {
   "cell_type": "markdown",
   "metadata": {},
   "source": [
    "##### 인입선"
   ]
  },
  {
   "cell_type": "code",
   "execution_count": 19,
   "metadata": {},
   "outputs": [],
   "source": [
    "# 이후 클래스 작성 시 함수의 파라메터와 리턴값은 클래스의 전역변수로 변환\n",
    "def sl(sdf=pb_df, df_dict=bdf_dict, is_batch=True):\n",
    "    df = df_dict['SL']\n",
    "    print(f'최초 인입선 데이터 크기: {df.shape}')\n",
    "    \n",
    "    # 숫자형 값 통일(실수형이 아닌 값을 실수형으로 변환)\n",
    "    # (One-Hot Encoding시 동일한 컬럼값을 만들기 위해 실행)\n",
    "    if df.SL_SPEC_CD.dtype != 'float64':\n",
    "        df['SL_SPEC_CD'] = df['SL_SPEC_CD'].astype(float)\n",
    "    # 결측치 처리\n",
    "    df.fillna(0, inplace=True)\n",
    "    \n",
    "    # 코드형 컬럼 One-Hot Encoding\n",
    "    prefix = ['SL_TYPE', 'SL_SPEC']\n",
    "    columns = [col+'_CD' for col in prefix]\n",
    "    df = pd.get_dummies(df, columns=columns, prefix=prefix)\n",
    "    df = df.apply(lambda x: int(x) if isinstance(x, bool) else x)\n",
    "    # 실시간 처리에서 동일 컬럼을 추가하기 위해 학습에서 나올 컬럼리스트 저장\n",
    "    df_cols = df.columns.tolist()\n",
    "    if is_batch:\n",
    "        save_pickle(df_cols, file_code='DUMP,SL_ONE_HOT_COLS')\n",
    "    else:\n",
    "        modeling_cols = read_pickle('DUMP,SL_ONE_HOT_COLS')\n",
    "        append_cols = [col for col in modeling_cols if col not in df_cols]\n",
    "        df.loc[:, append_cols] = 0\n",
    "    print(f'인입선 One-Hot Encoding 결과: {df.shape}')\n",
    "    \n",
    "    # 공사비별 인입선 데이터 합산\n",
    "    unique_cons_ids = df.CONS_ID.unique()\n",
    "    cons_id_sl_sums = []\n",
    "    sum_cols = df.columns.tolist()[2:]\n",
    "    for cid in unique_cons_ids:\n",
    "        _df = df[df.CONS_ID==cid]\n",
    "        sl_sums = _df[sum_cols].sum().values.tolist()\n",
    "        sl_comp_id_cnt = _df.COMP_ID.nunique()\n",
    "        cons_id_sl_sums.append(\n",
    "            [cid, sl_comp_id_cnt, _df.shape[0]] + sl_sums)\n",
    "    # 데이터프레임 만들기\n",
    "    sl_sums_df = pd.DataFrame(\n",
    "        cons_id_sl_sums, \n",
    "        columns=['CONS_ID', 'SL_COMP_ID_CNT', 'REAL_SL_CNT', 'SL_SPAN_SUM'] \\\n",
    "              + sum_cols[1:]\n",
    "    )\n",
    "    \n",
    "    # 공사비 데이터와 인입선 그룹 데이터 병합\n",
    "    pdf = pd.merge(\n",
    "        sdf, sl_sums_df,\n",
    "        left_on='CONS_ID', right_on='CONS_ID', how='left'\n",
    "    )\n",
    "    print(f'인입선 그룹정보가 적용된 데이터 크기: {pdf.shape}')\n",
    "    \n",
    "    # 최종 완료시점에서 NaN값을 0으로 처리\n",
    "    # 온라인 작업 시 인입선이 없거나 전주가 없는 작업 등에서 NaN가 올 수 있음\n",
    "    pdf.fillna(0, inplace=True)\n",
    "    # 모델링 시점과 서비스 시점의 데이터프레임 순서를 동일하게 하기 위해\n",
    "    # 모델링 시점의 컬럼 순서를 저장해 서비스 시점에서 컬럼 순서를 재배치\n",
    "    # One-Hot Encoding시점에 데이터 컬럼의 순서가 변경될 수 있음.\n",
    "    if is_batch:\n",
    "        last_pp_cols = pdf.columns\n",
    "        save_pickle(last_pp_cols, file_code='DUMP,LAST_PP_COLS')\n",
    "    else:\n",
    "        last_pp_cols = read_pickle('DUMP,LAST_PP_COLS')\n",
    "        pdf = pdf.reindex(columns=last_pp_cols)\n",
    "        \n",
    "    if is_batch:\n",
    "        save_data(pdf, file_code='PP,SL')\n",
    "    return pdf\n",
    "    "
   ]
  },
  {
   "cell_type": "code",
   "execution_count": 20,
   "metadata": {},
   "outputs": [
    {
     "name": "stdout",
     "output_type": "stream",
     "text": [
      "최초 인입선 데이터 크기: (17034, 6)\n",
      "인입선 One-Hot Encoding 결과: (17034, 30)\n",
      "인입선 그룹정보가 적용된 데이터 크기: (14729, 110)\n",
      "최초 인입선 데이터 크기: (3, 6)\n",
      "인입선 One-Hot Encoding 결과: (3, 30)\n",
      "인입선 그룹정보가 적용된 데이터 크기: (3, 110)\n"
     ]
    }
   ],
   "source": [
    "pb_df = sl()\n",
    "po_df = sl(po_df, df_dict=odf_dict, is_batch=False)"
   ]
  },
  {
   "cell_type": "code",
   "execution_count": 21,
   "metadata": {},
   "outputs": [],
   "source": [
    "# 온라인 시험용 최종 전처리 데이터 저장\n",
    "save_data(po_df, file_code='ONLINE')"
   ]
  },
  {
   "cell_type": "code",
   "execution_count": 22,
   "metadata": {},
   "outputs": [
    {
     "data": {
      "text/html": [
       "<div>\n",
       "<style scoped>\n",
       "    .dataframe tbody tr th:only-of-type {\n",
       "        vertical-align: middle;\n",
       "    }\n",
       "\n",
       "    .dataframe tbody tr th {\n",
       "        vertical-align: top;\n",
       "    }\n",
       "\n",
       "    .dataframe thead th {\n",
       "        text-align: right;\n",
       "    }\n",
       "</style>\n",
       "<table border=\"1\" class=\"dataframe\">\n",
       "  <thead>\n",
       "    <tr style=\"text-align: right;\">\n",
       "      <th></th>\n",
       "      <th>CONS_ID</th>\n",
       "      <th>TOTAL_CONS_COST</th>\n",
       "      <th>LAST_MOD_DATE</th>\n",
       "      <th>LAST_MOD_EID</th>\n",
       "      <th>OFFICE_NAME</th>\n",
       "      <th>CONT_CAP</th>\n",
       "      <th>YEAR</th>\n",
       "      <th>MONTH</th>\n",
       "      <th>DAY</th>\n",
       "      <th>DAYOFWEEK</th>\n",
       "      <th>...</th>\n",
       "      <th>SL_SPEC_16.0</th>\n",
       "      <th>SL_SPEC_22.0</th>\n",
       "      <th>SL_SPEC_25.0</th>\n",
       "      <th>SL_SPEC_35.0</th>\n",
       "      <th>SL_SPEC_38.0</th>\n",
       "      <th>SL_SPEC_60.0</th>\n",
       "      <th>SL_SPEC_70.0</th>\n",
       "      <th>SL_SPEC_100.0</th>\n",
       "      <th>SL_SPEC_120.0</th>\n",
       "      <th>SL_SPEC_240.0</th>\n",
       "    </tr>\n",
       "  </thead>\n",
       "  <tbody>\n",
       "    <tr>\n",
       "      <th>0</th>\n",
       "      <td>477420204194</td>\n",
       "      <td>9076645</td>\n",
       "      <td>2020-12-23 11:50:39</td>\n",
       "      <td>MDE1900011</td>\n",
       "      <td>단양지사</td>\n",
       "      <td>3</td>\n",
       "      <td>2020</td>\n",
       "      <td>12</td>\n",
       "      <td>23</td>\n",
       "      <td>2</td>\n",
       "      <td>...</td>\n",
       "      <td>0.0</td>\n",
       "      <td>0.0</td>\n",
       "      <td>0.0</td>\n",
       "      <td>0.0</td>\n",
       "      <td>0.0</td>\n",
       "      <td>0.0</td>\n",
       "      <td>0.0</td>\n",
       "      <td>0.0</td>\n",
       "      <td>0.0</td>\n",
       "      <td>0.0</td>\n",
       "    </tr>\n",
       "    <tr>\n",
       "      <th>1</th>\n",
       "      <td>475920223725</td>\n",
       "      <td>2176378</td>\n",
       "      <td>2022-11-24 10:42:22</td>\n",
       "      <td>MDP2100032</td>\n",
       "      <td>음성지사</td>\n",
       "      <td>3</td>\n",
       "      <td>2022</td>\n",
       "      <td>11</td>\n",
       "      <td>24</td>\n",
       "      <td>3</td>\n",
       "      <td>...</td>\n",
       "      <td>0.0</td>\n",
       "      <td>0.0</td>\n",
       "      <td>0.0</td>\n",
       "      <td>0.0</td>\n",
       "      <td>0.0</td>\n",
       "      <td>0.0</td>\n",
       "      <td>0.0</td>\n",
       "      <td>0.0</td>\n",
       "      <td>0.0</td>\n",
       "      <td>0.0</td>\n",
       "    </tr>\n",
       "    <tr>\n",
       "      <th>2</th>\n",
       "      <td>474620226651</td>\n",
       "      <td>9512744</td>\n",
       "      <td>2023-04-04 08:27:05</td>\n",
       "      <td>MDP2300252</td>\n",
       "      <td>충주지사</td>\n",
       "      <td>5</td>\n",
       "      <td>2023</td>\n",
       "      <td>4</td>\n",
       "      <td>4</td>\n",
       "      <td>1</td>\n",
       "      <td>...</td>\n",
       "      <td>0.0</td>\n",
       "      <td>0.0</td>\n",
       "      <td>0.0</td>\n",
       "      <td>0.0</td>\n",
       "      <td>0.0</td>\n",
       "      <td>0.0</td>\n",
       "      <td>0.0</td>\n",
       "      <td>0.0</td>\n",
       "      <td>0.0</td>\n",
       "      <td>0.0</td>\n",
       "    </tr>\n",
       "  </tbody>\n",
       "</table>\n",
       "<p>3 rows × 110 columns</p>\n",
       "</div>"
      ],
      "text/plain": [
       "        CONS_ID  TOTAL_CONS_COST       LAST_MOD_DATE LAST_MOD_EID OFFICE_NAME  \\\n",
       "0  477420204194          9076645 2020-12-23 11:50:39   MDE1900011        단양지사   \n",
       "1  475920223725          2176378 2022-11-24 10:42:22   MDP2100032        음성지사   \n",
       "2  474620226651          9512744 2023-04-04 08:27:05   MDP2300252        충주지사   \n",
       "\n",
       "   CONT_CAP  YEAR  MONTH  DAY  DAYOFWEEK  ...  SL_SPEC_16.0  SL_SPEC_22.0  \\\n",
       "0         3  2020     12   23          2  ...           0.0           0.0   \n",
       "1         3  2022     11   24          3  ...           0.0           0.0   \n",
       "2         5  2023      4    4          1  ...           0.0           0.0   \n",
       "\n",
       "   SL_SPEC_25.0  SL_SPEC_35.0  SL_SPEC_38.0  SL_SPEC_60.0  SL_SPEC_70.0  \\\n",
       "0           0.0           0.0           0.0           0.0           0.0   \n",
       "1           0.0           0.0           0.0           0.0           0.0   \n",
       "2           0.0           0.0           0.0           0.0           0.0   \n",
       "\n",
       "   SL_SPEC_100.0  SL_SPEC_120.0  SL_SPEC_240.0  \n",
       "0            0.0            0.0            0.0  \n",
       "1            0.0            0.0            0.0  \n",
       "2            0.0            0.0            0.0  \n",
       "\n",
       "[3 rows x 110 columns]"
      ]
     },
     "execution_count": 22,
     "metadata": {},
     "output_type": "execute_result"
    }
   ],
   "source": [
    "po_df"
   ]
  },
  {
   "cell_type": "code",
   "execution_count": 23,
   "metadata": {},
   "outputs": [
    {
     "data": {
      "text/plain": [
       "Index(['CONS_ID', 'TOTAL_CONS_COST', 'LAST_MOD_DATE', 'LAST_MOD_EID',\n",
       "       'OFFICE_NAME', 'CONT_CAP', 'YEAR', 'MONTH', 'DAY', 'DAYOFWEEK',\n",
       "       ...\n",
       "       'SL_SPEC_16.0', 'SL_SPEC_22.0', 'SL_SPEC_25.0', 'SL_SPEC_35.0',\n",
       "       'SL_SPEC_38.0', 'SL_SPEC_60.0', 'SL_SPEC_70.0', 'SL_SPEC_100.0',\n",
       "       'SL_SPEC_120.0', 'SL_SPEC_240.0'],\n",
       "      dtype='object', length=110)"
      ]
     },
     "execution_count": 23,
     "metadata": {},
     "output_type": "execute_result"
    }
   ],
   "source": [
    "po_df.columns"
   ]
  },
  {
   "cell_type": "code",
   "execution_count": null,
   "metadata": {},
   "outputs": [],
   "source": []
  }
 ],
 "metadata": {
  "kernelspec": {
   "display_name": "t213p310",
   "language": "python",
   "name": "python3"
  },
  "language_info": {
   "codemirror_mode": {
    "name": "ipython",
    "version": 3
   },
   "file_extension": ".py",
   "mimetype": "text/x-python",
   "name": "python",
   "nbconvert_exporter": "python",
   "pygments_lexer": "ipython3",
   "version": "3.10.13"
  }
 },
 "nbformat": 4,
 "nbformat_minor": 2
}
