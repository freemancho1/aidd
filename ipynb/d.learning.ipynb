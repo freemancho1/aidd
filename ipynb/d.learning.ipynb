{
 "cells": [
  {
   "cell_type": "markdown",
   "metadata": {},
   "source": [
    "#### back/aidd2 참조(DL=aiddd)"
   ]
  },
  {
   "cell_type": "code",
   "execution_count": 1,
   "metadata": {},
   "outputs": [],
   "source": [
    "import pandas as pd\n",
    "\n",
    "# 사용할 모델\n",
    "# from sklearn.linear_model import Lasso, Ridge, LinearRegression\n",
    "# from sklearn.neighbors import KNeighborsRegressor\n",
    "# from sklearn.tree import DecisionTreeRegressor\n",
    "# from sklearn.ensemble import RandomForestRegressor\n",
    "# from sklearn.ensemble import GradientBoostingRegressor\n",
    "# from sklearn.linear_model import ElasticNet\n",
    "# from xgboost import XGBRegressor\n",
    "# import lightgbm as lgbm\n",
    "\n",
    "from aidd.modeling.evaluations import regression_evals\n",
    "\n",
    "import aidd.sys.config as cfg\n",
    "from aidd.utils.data_io import get_modeling_data\n",
    "from aidd.utils.data_io import read_data, save_data\n",
    "from aidd.utils.data_io import read_pickle, save_pickle"
   ]
  },
  {
   "cell_type": "code",
   "execution_count": 26,
   "metadata": {},
   "outputs": [],
   "source": [
    "def ml_model_fit_evals(mkey=None, pc_mode=None, mdata=None):\n",
    "    model = cfg.MODELS['ML'][mkey]\n",
    "    data = {}\n",
    "    print(f'MODEL KEY: {mkey}, POLE_CNT: {pc_mode}')\n",
    "    for key in cfg.DATA_MD_TYPE:\n",
    "        data[key] = mdata[pc_mode][key]\n",
    "    print(f\"{pc_mode}: {data['TRAIN_X'].shape}\")"
   ]
  },
  {
   "cell_type": "code",
   "execution_count": 27,
   "metadata": {},
   "outputs": [
    {
     "name": "stdout",
     "output_type": "stream",
     "text": [
      "MODEL KEY: LIN, POLE_CNT: ALL\n",
      "ALL: (11783, 104)\n",
      "MODEL KEY: LIN, POLE_CNT: 1\n",
      "1: (7000, 104)\n",
      "MODEL KEY: LIN, POLE_CNT: N1\n",
      "N1: (4783, 104)\n",
      "MODEL KEY: LASSO, POLE_CNT: ALL\n",
      "ALL: (11783, 104)\n",
      "MODEL KEY: LASSO, POLE_CNT: 1\n",
      "1: (7000, 104)\n",
      "MODEL KEY: LASSO, POLE_CNT: N1\n",
      "N1: (4783, 104)\n"
     ]
    }
   ],
   "source": [
    "modeling_data = get_modeling_data()\n",
    "for model_key in cfg.MODELS_KEY:\n",
    "    for pc_key in cfg.DATA_PC_TYPE:\n",
    "        ml_model_fit_evals(mkey=model_key, pc_mode=pc_key, mdata=modeling_data)"
   ]
  },
  {
   "cell_type": "code",
   "execution_count": null,
   "metadata": {},
   "outputs": [],
   "source": []
  }
 ],
 "metadata": {
  "kernelspec": {
   "display_name": "t213p310",
   "language": "python",
   "name": "python3"
  },
  "language_info": {
   "codemirror_mode": {
    "name": "ipython",
    "version": 3
   },
   "file_extension": ".py",
   "mimetype": "text/x-python",
   "name": "python",
   "nbconvert_exporter": "python",
   "pygments_lexer": "ipython3",
   "version": "3.10.12"
  }
 },
 "nbformat": 4,
 "nbformat_minor": 2
}
