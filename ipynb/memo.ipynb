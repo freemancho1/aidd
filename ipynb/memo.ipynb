{
 "cells": [
  {
   "cell_type": "code",
   "execution_count": null,
   "metadata": {},
   "outputs": [],
   "source": [
    "{'ALL': {'MODEL': GradientBoostingRegressor(),\n",
    "  'SCORE': 0.735515216890051,\n",
    "  'MODEL_KEY': 'GBR'},\n",
    " '1': {'MODEL': ElasticNet(alpha=0.1, random_state=1234),\n",
    "  'SCORE': 0.39347203777461004,\n",
    "  'MODEL_KEY': 'EN'},\n",
    " 'N1': {'MODEL': GradientBoostingRegressor(),\n",
    "  'SCORE': 0.7406817663067857,\n",
    "  'MODEL_KEY': 'GBR'}}"
   ]
  }
 ],
 "metadata": {
  "language_info": {
   "name": "python"
  }
 },
 "nbformat": 4,
 "nbformat_minor": 2
}
