{
 "cells": [
  {
   "cell_type": "markdown",
   "metadata": {},
   "source": [
    "#### back/aidd2 참조(DL=aiddd)"
   ]
  },
  {
   "cell_type": "code",
   "execution_count": 1,
   "metadata": {},
   "outputs": [],
   "source": [
    "import pandas as pd\n",
    "\n",
    "# 사용할 모델\n",
    "# from sklearn.linear_model import Lasso, Ridge, LinearRegression\n",
    "# from sklearn.neighbors import KNeighborsRegressor\n",
    "# from sklearn.tree import DecisionTreeRegressor\n",
    "# from sklearn.ensemble import RandomForestRegressor\n",
    "# from sklearn.ensemble import GradientBoostingRegressor\n",
    "# from sklearn.linear_model import ElasticNet\n",
    "# from xgboost import XGBRegressor\n",
    "# import lightgbm as lgbm\n",
    "\n",
    "from aidd.modeling.evaluations import regression_evals\n",
    "\n",
    "import aidd.sys.config as cfg\n",
    "from aidd.utils.data_io import get_modeling_data\n",
    "from aidd.utils.data_io import read_data, save_data\n",
    "from aidd.utils.data_io import read_pickle, save_pickle"
   ]
  },
  {
   "cell_type": "code",
   "execution_count": 2,
   "metadata": {},
   "outputs": [],
   "source": [
    "def ml_model_fit_evals(mkey=None, pc_mode=None, mdata=None):\n",
    "    model = cfg.MODELS['ML'][mkey]\n",
    "    data = {}\n",
    "    for key in cfg.DATA_MD_TYPE:\n",
    "        data[key] = mdata[pc_mode][key]\n",
    "    model.fit(data['TRAIN_X'], data['TRAIN_y'])\n",
    "    predictions = model.predict(data['TEST_X'])\n",
    "    evals = regression_evals(y=data['TEST_y'].to_numpy(), p=predictions)"
   ]
  },
  {
   "cell_type": "code",
   "execution_count": 3,
   "metadata": {},
   "outputs": [
    {
     "name": "stdout",
     "output_type": "stream",
     "text": [
      "LIN: ALL\n",
      "MAPE: 0.204666(20.4666), R2SCORE: 0.692894\n",
      "LIN: 1\n",
      "MAPE: 2375238174.144366(237523817414.4366), R2SCORE: -465982172421760829358080.000000\n",
      "LIN: N1\n",
      "MAPE: 0.182171(18.2171), R2SCORE: 0.689521\n",
      "LASSO: ALL\n"
     ]
    },
    {
     "name": "stderr",
     "output_type": "stream",
     "text": [
      "/home/freeman/anaconda3/envs/t213p310/lib/python3.10/site-packages/sklearn/linear_model/_coordinate_descent.py:678: ConvergenceWarning: Objective did not converge. You might want to increase the number of iterations, check the scale of the features or consider increasing regularisation. Duality gap: 2.790e+16, tolerance: 1.911e+13\n",
      "  model = cd_fast.enet_coordinate_descent(\n"
     ]
    },
    {
     "name": "stdout",
     "output_type": "stream",
     "text": [
      "MAPE: 0.204596(20.4596), R2SCORE: 0.693014\n",
      "LASSO: 1\n"
     ]
    },
    {
     "name": "stderr",
     "output_type": "stream",
     "text": [
      "/home/freeman/anaconda3/envs/t213p310/lib/python3.10/site-packages/sklearn/linear_model/_coordinate_descent.py:678: ConvergenceWarning: Objective did not converge. You might want to increase the number of iterations, check the scale of the features or consider increasing regularisation. Duality gap: 1.102e+16, tolerance: 3.633e+12\n",
      "  model = cd_fast.enet_coordinate_descent(\n"
     ]
    },
    {
     "name": "stdout",
     "output_type": "stream",
     "text": [
      "MAPE: 0.199774(19.9774), R2SCORE: 0.381027\n",
      "LASSO: N1\n"
     ]
    },
    {
     "name": "stderr",
     "output_type": "stream",
     "text": [
      "/home/freeman/anaconda3/envs/t213p310/lib/python3.10/site-packages/sklearn/linear_model/_coordinate_descent.py:678: ConvergenceWarning: Objective did not converge. You might want to increase the number of iterations, check the scale of the features or consider increasing regularisation. Duality gap: 1.653e+16, tolerance: 1.070e+13\n",
      "  model = cd_fast.enet_coordinate_descent(\n"
     ]
    },
    {
     "name": "stdout",
     "output_type": "stream",
     "text": [
      "MAPE: 0.181053(18.1053), R2SCORE: 0.693565\n",
      "RIDGE: ALL\n",
      "MAPE: 0.204568(20.4568), R2SCORE: 0.693010\n",
      "RIDGE: 1\n",
      "MAPE: 0.200052(20.0052), R2SCORE: 0.379253\n",
      "RIDGE: N1\n",
      "MAPE: 0.181065(18.1065), R2SCORE: 0.693574\n",
      "KNR: ALL\n",
      "MAPE: 0.226565(22.6565), R2SCORE: 0.571359\n",
      "KNR: 1\n",
      "MAPE: 0.214147(21.4147), R2SCORE: 0.278203\n",
      "KNR: N1\n",
      "MAPE: 0.194855(19.4855), R2SCORE: 0.526694\n",
      "DTR: ALL\n",
      "MAPE: 0.264223(26.4223), R2SCORE: 0.450682\n",
      "DTR: 1\n",
      "MAPE: 0.283517(28.3517), R2SCORE: -0.326057\n",
      "DTR: N1\n",
      "MAPE: 0.252577(25.2577), R2SCORE: 0.419518\n",
      "RFR: ALL\n"
     ]
    },
    {
     "name": "stderr",
     "output_type": "stream",
     "text": [
      "/home/freeman/anaconda3/envs/t213p310/lib/python3.10/site-packages/sklearn/base.py:1474: DataConversionWarning: A column-vector y was passed when a 1d array was expected. Please change the shape of y to (n_samples,), for example using ravel().\n",
      "  return fit_method(estimator, *args, **kwargs)\n"
     ]
    },
    {
     "name": "stdout",
     "output_type": "stream",
     "text": [
      "MAPE: 0.202846(20.2846), R2SCORE: 0.708190\n",
      "RFR: 1\n"
     ]
    },
    {
     "name": "stderr",
     "output_type": "stream",
     "text": [
      "/home/freeman/anaconda3/envs/t213p310/lib/python3.10/site-packages/sklearn/base.py:1474: DataConversionWarning: A column-vector y was passed when a 1d array was expected. Please change the shape of y to (n_samples,), for example using ravel().\n",
      "  return fit_method(estimator, *args, **kwargs)\n"
     ]
    },
    {
     "name": "stdout",
     "output_type": "stream",
     "text": [
      "MAPE: 0.202054(20.2054), R2SCORE: 0.350822\n",
      "RFR: N1\n"
     ]
    },
    {
     "name": "stderr",
     "output_type": "stream",
     "text": [
      "/home/freeman/anaconda3/envs/t213p310/lib/python3.10/site-packages/sklearn/base.py:1474: DataConversionWarning: A column-vector y was passed when a 1d array was expected. Please change the shape of y to (n_samples,), for example using ravel().\n",
      "  return fit_method(estimator, *args, **kwargs)\n"
     ]
    },
    {
     "name": "stdout",
     "output_type": "stream",
     "text": [
      "MAPE: 0.178414(17.8414), R2SCORE: 0.715880\n",
      "GBR: ALL\n"
     ]
    },
    {
     "name": "stderr",
     "output_type": "stream",
     "text": [
      "/home/freeman/anaconda3/envs/t213p310/lib/python3.10/site-packages/sklearn/ensemble/_gb.py:668: DataConversionWarning: A column-vector y was passed when a 1d array was expected. Please change the shape of y to (n_samples, ), for example using ravel().\n",
      "  y = column_or_1d(y, warn=True)  # TODO: Is this still required?\n"
     ]
    },
    {
     "name": "stdout",
     "output_type": "stream",
     "text": [
      "MAPE: 0.197792(19.7792), R2SCORE: 0.716269\n",
      "GBR: 1\n"
     ]
    },
    {
     "name": "stderr",
     "output_type": "stream",
     "text": [
      "/home/freeman/anaconda3/envs/t213p310/lib/python3.10/site-packages/sklearn/ensemble/_gb.py:668: DataConversionWarning: A column-vector y was passed when a 1d array was expected. Please change the shape of y to (n_samples, ), for example using ravel().\n",
      "  y = column_or_1d(y, warn=True)  # TODO: Is this still required?\n"
     ]
    },
    {
     "name": "stdout",
     "output_type": "stream",
     "text": [
      "MAPE: 0.193701(19.3701), R2SCORE: 0.375068\n",
      "GBR: N1\n"
     ]
    },
    {
     "name": "stderr",
     "output_type": "stream",
     "text": [
      "/home/freeman/anaconda3/envs/t213p310/lib/python3.10/site-packages/sklearn/ensemble/_gb.py:668: DataConversionWarning: A column-vector y was passed when a 1d array was expected. Please change the shape of y to (n_samples, ), for example using ravel().\n",
      "  y = column_or_1d(y, warn=True)  # TODO: Is this still required?\n"
     ]
    },
    {
     "name": "stdout",
     "output_type": "stream",
     "text": [
      "MAPE: 0.172369(17.2369), R2SCORE: 0.719988\n",
      "EN: ALL\n",
      "MAPE: 0.203997(20.3997), R2SCORE: 0.694395\n",
      "EN: 1\n",
      "MAPE: 0.198624(19.8624), R2SCORE: 0.385698\n",
      "EN: N1\n",
      "MAPE: 0.181463(18.1463), R2SCORE: 0.694417\n",
      "XGR: ALL\n",
      "MAPE: 0.335646(33.5646), R2SCORE: 0.584892\n",
      "XGR: 1\n",
      "MAPE: 0.232508(23.2508), R2SCORE: 0.313550\n",
      "XGR: N1\n",
      "MAPE: 0.283051(28.3051), R2SCORE: 0.570615\n"
     ]
    }
   ],
   "source": [
    "modeling_data = get_modeling_data()\n",
    "for model_key in cfg.MODELS_KEY:\n",
    "    for pc_key in cfg.DATA_PC_TYPE:\n",
    "        print(f'{model_key}: {pc_key}')\n",
    "        ml_model_fit_evals(mkey=model_key, pc_mode=pc_key, mdata=modeling_data) "
   ]
  },
  {
   "cell_type": "markdown",
   "metadata": {},
   "source": [
    "LIN: ALL\n",
    "MAPE: 410442364.717153(41044236471.7152), R2SCORE: -5658079310307389341696.000000\n",
    "LIN: 1\n",
    "MAPE: 2661290129.230298(266129012923.0302), R2SCORE: -587615931137107569934336.000000\n",
    "LIN: N1\n",
    "MAPE: 24150570354.408085(2415057035440.8057), R2SCORE: -303790773427110919798784.000000\n",
    "LASSO: ALL\n",
    "/home/freeman/anaconda3/envs/t213p310/lib/python3.10/site-packages/sklearn/linear_model/_coordinate_descent.py:678: ConvergenceWarning: Objective did not converge. You might want to increase the number of iterations, check the scale of the features or consider increasing regularisation. Duality gap: 2.919e+16, tolerance: 1.925e+13\n",
    "  model = cd_fast.enet_coordinate_descent(\n",
    "MAPE: 0.204296(20.4296), R2SCORE: 0.711945\n",
    "LASSO: 1\n",
    "/home/freeman/anaconda3/envs/t213p310/lib/python3.10/site-packages/sklearn/linear_model/_coordinate_descent.py:678: ConvergenceWarning: Objective did not converge. You might want to increase the number of iterations, check the scale of the features or consider increasing regularisation. Duality gap: 1.136e+16, tolerance: 3.636e+12\n",
    "  model = cd_fast.enet_coordinate_descent(\n",
    "MAPE: 0.203727(20.3727), R2SCORE: 0.398521\n",
    "LASSO: N1\n",
    "/home/freeman/anaconda3/envs/t213p310/lib/python3.10/site-packages/sklearn/linear_model/_coordinate_descent.py:678: ConvergenceWarning: Objective did not converge. You might want to increase the number of iterations, check the scale of the features or consider increasing regularisation. Duality gap: 1.785e+16, tolerance: 1.123e+13\n",
    "  model = cd_fast.enet_coordinate_descent(\n",
    "MAPE: 0.182789(18.2789), R2SCORE: 0.694949\n",
    "RIDGE: ALL\n",
    "MAPE: 0.204357(20.4357), R2SCORE: 0.711652\n",
    "RIDGE: 1\n",
    "MAPE: 0.203735(20.3735), R2SCORE: 0.397145\n",
    "RIDGE: N1\n",
    "MAPE: 0.182691(18.2691), R2SCORE: 0.695475\n",
    "KNR: ALL\n",
    "MAPE: 0.216438(21.6438), R2SCORE: 0.589180\n",
    "KNR: 1\n",
    "MAPE: 0.218812(21.8812), R2SCORE: 0.282372\n",
    "KNR: N1\n",
    "MAPE: 0.180381(18.0381), R2SCORE: 0.556343\n",
    "DTR: ALL\n",
    "MAPE: 0.279160(27.9160), R2SCORE: 0.407090\n",
    "DTR: 1\n",
    "MAPE: 0.268765(26.8765), R2SCORE: -0.144382\n",
    "DTR: N1\n",
    "MAPE: 0.243174(24.3174), R2SCORE: 0.407387\n",
    "RFR: ALL\n",
    "/home/freeman/anaconda3/envs/t213p310/lib/python3.10/site-packages/sklearn/base.py:1474: DataConversionWarning: A column-vector y was passed when a 1d array was expected. Please change the shape of y to (n_samples,), for example using ravel().\n",
    "  return fit_method(estimator, *args, **kwargs)\n",
    "MAPE: 0.199609(19.9609), R2SCORE: 0.731498\n",
    "RFR: 1\n",
    "/home/freeman/anaconda3/envs/t213p310/lib/python3.10/site-packages/sklearn/base.py:1474: DataConversionWarning: A column-vector y was passed when a 1d array was expected. Please change the shape of y to (n_samples,), for example using ravel().\n",
    "  return fit_method(estimator, *args, **kwargs)\n",
    "MAPE: 0.207169(20.7169), R2SCORE: 0.405163\n",
    "RFR: N1\n",
    "/home/freeman/anaconda3/envs/t213p310/lib/python3.10/site-packages/sklearn/base.py:1474: DataConversionWarning: A column-vector y was passed when a 1d array was expected. Please change the shape of y to (n_samples,), for example using ravel().\n",
    "  return fit_method(estimator, *args, **kwargs)\n",
    "MAPE: 0.181536(18.1536), R2SCORE: 0.725297\n",
    "GBR: ALL\n",
    "/home/freeman/anaconda3/envs/t213p310/lib/python3.10/site-packages/sklearn/ensemble/_gb.py:668: DataConversionWarning: A column-vector y was passed when a 1d array was expected. Please change the shape of y to (n_samples, ), for example using ravel().\n",
    "  y = column_or_1d(y, warn=True)  # TODO: Is this still required?\n",
    "MAPE: 0.190382(19.0382), R2SCORE: 0.740569\n",
    "GBR: 1\n",
    "/home/freeman/anaconda3/envs/t213p310/lib/python3.10/site-packages/sklearn/ensemble/_gb.py:668: DataConversionWarning: A column-vector y was passed when a 1d array was expected. Please change the shape of y to (n_samples, ), for example using ravel().\n",
    "  y = column_or_1d(y, warn=True)  # TODO: Is this still required?\n",
    "MAPE: 0.194942(19.4942), R2SCORE: 0.425616\n",
    "GBR: N1\n",
    "/home/freeman/anaconda3/envs/t213p310/lib/python3.10/site-packages/sklearn/ensemble/_gb.py:668: DataConversionWarning: A column-vector y was passed when a 1d array was expected. Please change the shape of y to (n_samples, ), for example using ravel().\n",
    "  y = column_or_1d(y, warn=True)  # TODO: Is this still required?\n",
    "MAPE: 0.168799(16.8799), R2SCORE: 0.753067\n",
    "EN: ALL\n",
    "MAPE: 0.204518(20.4518), R2SCORE: 0.710745\n",
    "EN: 1\n",
    "MAPE: 0.202126(20.2126), R2SCORE: 0.397987\n",
    "EN: N1\n",
    "MAPE: 0.183312(18.3312), R2SCORE: 0.696957\n",
    "XGR: ALL\n",
    "MAPE: 0.335388(33.5388), R2SCORE: 0.611188\n",
    "XGR: 1\n",
    "MAPE: 0.235862(23.5862), R2SCORE: 0.310215\n",
    "XGR: N1\n",
    "MAPE: 0.277625(27.7625), R2SCORE: 0.611597"
   ]
  },
  {
   "cell_type": "code",
   "execution_count": null,
   "metadata": {},
   "outputs": [],
   "source": []
  }
 ],
 "metadata": {
  "kernelspec": {
   "display_name": "t213p310",
   "language": "python",
   "name": "python3"
  },
  "language_info": {
   "codemirror_mode": {
    "name": "ipython",
    "version": 3
   },
   "file_extension": ".py",
   "mimetype": "text/x-python",
   "name": "python",
   "nbconvert_exporter": "python",
   "pygments_lexer": "ipython3",
   "version": "3.10.12"
  }
 },
 "nbformat": 4,
 "nbformat_minor": 2
}
