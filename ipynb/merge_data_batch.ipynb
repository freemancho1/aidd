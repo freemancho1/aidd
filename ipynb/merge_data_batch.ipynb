{
 "cells": [
  {
   "cell_type": "markdown",
   "metadata": {},
   "source": [
    "### Data Merge - Batch\n",
    "* Online Sample Data: 477420204194, 474620226651"
   ]
  },
  {
   "cell_type": "markdown",
   "metadata": {},
   "source": [
    "#### 할일\n",
    "* STEP-01. 각 데이터 타입별 대상 레코드 및 컬럼 추출\n",
    "* STEP-02. 공사비별 전주/전선/인입선 갯 수 계산\n",
    "* STEP-0x. 컬럼 추가(생성)\n",
    "* STEP-0x. 전주 순서 계산"
   ]
  },
  {
   "cell_type": "code",
   "execution_count": 1,
   "metadata": {},
   "outputs": [],
   "source": [
    "import os\n",
    "import sys\n",
    "\n",
    "import aidd.sys.config as cfg\n",
    "from aidd.batch.data_manager import get_provide_data, read_data"
   ]
  },
  {
   "cell_type": "code",
   "execution_count": 2,
   "metadata": {},
   "outputs": [
    {
     "name": "stdout",
     "output_type": "stream",
     "text": [
      "[38cb1c83ad54][2024-03-12 20:00:35.687429] 제공받은 데이터 불러오기 시작\n",
      "[38cb1c83ad54][2024-03-12 20:00:54.724610]   읽은 데이터: CONS, 데이터 크기: (19052, 143), 처리시간: 0:00:19.037123\n",
      "[38cb1c83ad54][2024-03-12 20:01:12.224971]   읽은 데이터: POLE, 데이터 크기: (38533, 63), 처리시간: 0:00:17.500285\n",
      "[38cb1c83ad54][2024-03-12 20:01:33.899514]   읽은 데이터: LINE, 데이터 크기: (40019, 77), 처리시간: 0:00:21.674465\n",
      "[38cb1c83ad54][2024-03-12 20:01:42.847396]   읽은 데이터: SL, 데이터 크기: (22632, 57), 처리시간: 0:00:08.947801\n",
      "[38cb1c83ad54][2024-03-12 20:01:42.847465] 제공받은 데이터 불러오기 종료, 최종 처리시간: 0:01:07.160038\n"
     ]
    }
   ],
   "source": [
    "pdata = get_provide_data()"
   ]
  },
  {
   "cell_type": "markdown",
   "metadata": {},
   "source": [
    "#### 학습대상 추출\n",
    "각 데이터별로 학습대상 레코드와 컬럼 추출"
   ]
  },
  {
   "cell_type": "code",
   "execution_count": 6,
   "metadata": {},
   "outputs": [
    {
     "name": "stdout",
     "output_type": "stream",
     "text": [
      "공사비 데이터: 원본-(19052, 143), 학습대상-(15335, 8)\n"
     ]
    }
   ],
   "source": [
    "# 공사비 데이터 학습대상 레코드/컬럼 추출\n",
    "df = pdata['CONS']\n",
    "## [전처리]: 조건 적용(이 조건을 만족하지 않으면 제외), \n",
    "##           단, 실시간 처리시 총 공사비는 제외\n",
    "modeling_records = \\\n",
    "    (df.ACC_TYPE_NAME == cfg.COND_ACC_TYPE_NAME) & \\\n",
    "    (df.CONT_CAP < cfg.COND_MAX_CONT_CAP) & \\\n",
    "    (df.CONS_TYPE_CD == cfg.COND_CONS_TYPE_CD) & \\\n",
    "    (df.TOTAL_CONS_COST < cfg.COND_MAX_TOTAL_CONS_COST)\n",
    "cons_df = df[modeling_records].reset_index(drop=True)\n",
    "cons_df = cons_df[cfg.CONS_COLS].copy()\n",
    "\n",
    "print(f'공사비 데이터: 원본-{df.shape}, 학습대상-{cons_df.shape}')"
   ]
  },
  {
   "cell_type": "code",
   "execution_count": 24,
   "metadata": {},
   "outputs": [
    {
     "name": "stdout",
     "output_type": "stream",
     "text": [
      "전주 데이터: 원본-(38533, 63), 학습대상-(27896, 6)\n"
     ]
    }
   ],
   "source": [
    "# 전주 데이터 학습대상 레코드/컬럼 추출\n",
    "df = pdata['POLE']\n",
    "pole_df = df[df.CONS_ID.isin(cons_df.CONS_ID)]\n",
    "pole_df = pole_df[cfg.POLE_COLS]\n",
    "\n",
    "print(f'전주 데이터: 원본-{df.shape}, 학습대상-{pole_df.shape}')"
   ]
  },
  {
   "cell_type": "code",
   "execution_count": 25,
   "metadata": {},
   "outputs": [
    {
     "name": "stdout",
     "output_type": "stream",
     "text": [
      "전선 데이터: 원본-(40019, 77), 학습대상-(30348, 11)\n"
     ]
    }
   ],
   "source": [
    "# 전선 데이터 학습대상 레코드/컬럼 추출\n",
    "df = pdata['LINE']\n",
    "line_df = df[df.CONS_ID.isin(cons_df.CONS_ID)]\n",
    "line_df = line_df[cfg.LINE_COLS]\n",
    "\n",
    "print(f'전선 데이터: 원본-{df.shape}, 학습대상-{line_df.shape}')"
   ]
  },
  {
   "cell_type": "code",
   "execution_count": 26,
   "metadata": {},
   "outputs": [
    {
     "name": "stdout",
     "output_type": "stream",
     "text": [
      "인입선 데이터: 원본-(22632, 57), 학습대상-(17034, 6)\n"
     ]
    }
   ],
   "source": [
    "# 인입선 데이터 학습대상 레코드/컬럼 추출\n",
    "df = pdata['SL']\n",
    "sl_df = df[df.CONS_ID.isin(cons_df.CONS_ID)]\n",
    "sl_df = sl_df[cfg.SL_COLS]\n",
    "\n",
    "print(f'인입선 데이터: 원본-{df.shape}, 학습대상-{sl_df.shape}')"
   ]
  },
  {
   "cell_type": "code",
   "execution_count": 28,
   "metadata": {},
   "outputs": [
    {
     "name": "stdout",
     "output_type": "stream",
     "text": [
      "<class 'pandas.core.frame.DataFrame'>\n",
      "Index: 17034 entries, 17 to 22631\n",
      "Data columns (total 6 columns):\n",
      " #   Column      Non-Null Count  Dtype  \n",
      "---  ------      --------------  -----  \n",
      " 0   CONS_ID     17034 non-null  object \n",
      " 1   COMP_ID     17034 non-null  object \n",
      " 2   SL_TYPE_CD  17034 non-null  object \n",
      " 3   SL_SPEC_CD  17034 non-null  float64\n",
      " 4   SPAN        17034 non-null  int64  \n",
      " 5   SUPERVISOR  17034 non-null  int64  \n",
      "dtypes: float64(1), int64(2), object(3)\n",
      "memory usage: 931.5+ KB\n"
     ]
    }
   ],
   "source": [
    "sl_df.info()"
   ]
  },
  {
   "cell_type": "code",
   "execution_count": 29,
   "metadata": {},
   "outputs": [
    {
     "name": "stderr",
     "output_type": "stream",
     "text": [
      "/home/freeman/projects/aidd/batch/data_manager.py:34: DtypeWarning: Columns (0) have mixed types. Specify dtype option on import or set low_memory=False.\n",
      "  return pd.read_csv(file_path, **kwargs)\n"
     ]
    }
   ],
   "source": [
    "df = read_data('PP', 'SL')"
   ]
  },
  {
   "cell_type": "code",
   "execution_count": 30,
   "metadata": {},
   "outputs": [
    {
     "data": {
      "text/plain": [
       "(11384, 157)"
      ]
     },
     "execution_count": 30,
     "metadata": {},
     "output_type": "execute_result"
    }
   ],
   "source": [
    "df.shape"
   ]
  },
  {
   "cell_type": "code",
   "execution_count": 31,
   "metadata": {},
   "outputs": [
    {
     "data": {
      "text/html": [
       "<div>\n",
       "<style scoped>\n",
       "    .dataframe tbody tr th:only-of-type {\n",
       "        vertical-align: middle;\n",
       "    }\n",
       "\n",
       "    .dataframe tbody tr th {\n",
       "        vertical-align: top;\n",
       "    }\n",
       "\n",
       "    .dataframe thead th {\n",
       "        text-align: right;\n",
       "    }\n",
       "</style>\n",
       "<table border=\"1\" class=\"dataframe\">\n",
       "  <thead>\n",
       "    <tr style=\"text-align: right;\">\n",
       "      <th></th>\n",
       "      <th>CONS_ID</th>\n",
       "      <th>TOTAL_CONS_COST</th>\n",
       "      <th>LAST_MOD_DATE</th>\n",
       "      <th>LAST_MOD_EID</th>\n",
       "      <th>OFFICE_NAME</th>\n",
       "      <th>EID_CODE</th>\n",
       "      <th>CONT_CAP</th>\n",
       "      <th>YEAR</th>\n",
       "      <th>MONTH</th>\n",
       "      <th>DAY</th>\n",
       "      <th>...</th>\n",
       "      <th>SL_SPEC_10.0</th>\n",
       "      <th>SL_SPEC_16.0</th>\n",
       "      <th>SL_SPEC_22.0</th>\n",
       "      <th>SL_SPEC_25.0</th>\n",
       "      <th>SL_SPEC_35.0</th>\n",
       "      <th>SL_SPEC_38.0</th>\n",
       "      <th>SL_SPEC_60.0</th>\n",
       "      <th>SL_SPEC_70.0</th>\n",
       "      <th>SL_SPEC_100.0</th>\n",
       "      <th>SL_SPEC_120.0</th>\n",
       "    </tr>\n",
       "  </thead>\n",
       "  <tbody>\n",
       "    <tr>\n",
       "      <th>5456</th>\n",
       "      <td>475920223725</td>\n",
       "      <td>2176378</td>\n",
       "      <td>2022-11-24 10:42:22</td>\n",
       "      <td>MDP2100032</td>\n",
       "      <td>음성지사</td>\n",
       "      <td>MDP</td>\n",
       "      <td>3</td>\n",
       "      <td>2022</td>\n",
       "      <td>11</td>\n",
       "      <td>24</td>\n",
       "      <td>...</td>\n",
       "      <td>NaN</td>\n",
       "      <td>NaN</td>\n",
       "      <td>NaN</td>\n",
       "      <td>NaN</td>\n",
       "      <td>NaN</td>\n",
       "      <td>NaN</td>\n",
       "      <td>NaN</td>\n",
       "      <td>NaN</td>\n",
       "      <td>NaN</td>\n",
       "      <td>NaN</td>\n",
       "    </tr>\n",
       "    <tr>\n",
       "      <th>1513</th>\n",
       "      <td>442720224406</td>\n",
       "      <td>3869929</td>\n",
       "      <td>2022-07-04 18:11:07</td>\n",
       "      <td>MDO2100010</td>\n",
       "      <td>동청주지사</td>\n",
       "      <td>MDO</td>\n",
       "      <td>3</td>\n",
       "      <td>2022</td>\n",
       "      <td>7</td>\n",
       "      <td>4</td>\n",
       "      <td>...</td>\n",
       "      <td>NaN</td>\n",
       "      <td>NaN</td>\n",
       "      <td>NaN</td>\n",
       "      <td>NaN</td>\n",
       "      <td>NaN</td>\n",
       "      <td>NaN</td>\n",
       "      <td>NaN</td>\n",
       "      <td>NaN</td>\n",
       "      <td>NaN</td>\n",
       "      <td>NaN</td>\n",
       "    </tr>\n",
       "    <tr>\n",
       "      <th>6714</th>\n",
       "      <td>474920225034</td>\n",
       "      <td>2775023</td>\n",
       "      <td>2023-02-09 16:16:05</td>\n",
       "      <td>MDP2112857</td>\n",
       "      <td>제천지사</td>\n",
       "      <td>MDP</td>\n",
       "      <td>3</td>\n",
       "      <td>2023</td>\n",
       "      <td>2</td>\n",
       "      <td>9</td>\n",
       "      <td>...</td>\n",
       "      <td>NaN</td>\n",
       "      <td>NaN</td>\n",
       "      <td>NaN</td>\n",
       "      <td>NaN</td>\n",
       "      <td>NaN</td>\n",
       "      <td>NaN</td>\n",
       "      <td>NaN</td>\n",
       "      <td>NaN</td>\n",
       "      <td>NaN</td>\n",
       "      <td>NaN</td>\n",
       "    </tr>\n",
       "    <tr>\n",
       "      <th>7320</th>\n",
       "      <td>70HC20214015</td>\n",
       "      <td>2285533</td>\n",
       "      <td>2022-01-19 09:28:28</td>\n",
       "      <td>MDE1503586</td>\n",
       "      <td>증평괴산지사</td>\n",
       "      <td>MDE</td>\n",
       "      <td>3</td>\n",
       "      <td>2022</td>\n",
       "      <td>1</td>\n",
       "      <td>19</td>\n",
       "      <td>...</td>\n",
       "      <td>NaN</td>\n",
       "      <td>NaN</td>\n",
       "      <td>NaN</td>\n",
       "      <td>NaN</td>\n",
       "      <td>NaN</td>\n",
       "      <td>NaN</td>\n",
       "      <td>NaN</td>\n",
       "      <td>NaN</td>\n",
       "      <td>NaN</td>\n",
       "      <td>NaN</td>\n",
       "    </tr>\n",
       "    <tr>\n",
       "      <th>405</th>\n",
       "      <td>477420223953</td>\n",
       "      <td>2316850</td>\n",
       "      <td>2022-12-28 08:37:43</td>\n",
       "      <td>MDP2100146</td>\n",
       "      <td>단양지사</td>\n",
       "      <td>MDP</td>\n",
       "      <td>5</td>\n",
       "      <td>2022</td>\n",
       "      <td>12</td>\n",
       "      <td>28</td>\n",
       "      <td>...</td>\n",
       "      <td>NaN</td>\n",
       "      <td>NaN</td>\n",
       "      <td>NaN</td>\n",
       "      <td>NaN</td>\n",
       "      <td>NaN</td>\n",
       "      <td>NaN</td>\n",
       "      <td>NaN</td>\n",
       "      <td>NaN</td>\n",
       "      <td>NaN</td>\n",
       "      <td>NaN</td>\n",
       "    </tr>\n",
       "  </tbody>\n",
       "</table>\n",
       "<p>5 rows × 157 columns</p>\n",
       "</div>"
      ],
      "text/plain": [
       "           CONS_ID  TOTAL_CONS_COST        LAST_MOD_DATE LAST_MOD_EID  \\\n",
       "5456  475920223725          2176378  2022-11-24 10:42:22   MDP2100032   \n",
       "1513  442720224406          3869929  2022-07-04 18:11:07   MDO2100010   \n",
       "6714  474920225034          2775023  2023-02-09 16:16:05   MDP2112857   \n",
       "7320  70HC20214015          2285533  2022-01-19 09:28:28   MDE1503586   \n",
       "405   477420223953          2316850  2022-12-28 08:37:43   MDP2100146   \n",
       "\n",
       "     OFFICE_NAME EID_CODE  CONT_CAP  YEAR  MONTH  DAY  ...  SL_SPEC_10.0  \\\n",
       "5456        음성지사      MDP         3  2022     11   24  ...           NaN   \n",
       "1513       동청주지사      MDO         3  2022      7    4  ...           NaN   \n",
       "6714        제천지사      MDP         3  2023      2    9  ...           NaN   \n",
       "7320      증평괴산지사      MDE         3  2022      1   19  ...           NaN   \n",
       "405         단양지사      MDP         5  2022     12   28  ...           NaN   \n",
       "\n",
       "      SL_SPEC_16.0  SL_SPEC_22.0  SL_SPEC_25.0  SL_SPEC_35.0  SL_SPEC_38.0  \\\n",
       "5456           NaN           NaN           NaN           NaN           NaN   \n",
       "1513           NaN           NaN           NaN           NaN           NaN   \n",
       "6714           NaN           NaN           NaN           NaN           NaN   \n",
       "7320           NaN           NaN           NaN           NaN           NaN   \n",
       "405            NaN           NaN           NaN           NaN           NaN   \n",
       "\n",
       "      SL_SPEC_60.0  SL_SPEC_70.0  SL_SPEC_100.0  SL_SPEC_120.0  \n",
       "5456           NaN           NaN            NaN            NaN  \n",
       "1513           NaN           NaN            NaN            NaN  \n",
       "6714           NaN           NaN            NaN            NaN  \n",
       "7320           NaN           NaN            NaN            NaN  \n",
       "405            NaN           NaN            NaN            NaN  \n",
       "\n",
       "[5 rows x 157 columns]"
      ]
     },
     "execution_count": 31,
     "metadata": {},
     "output_type": "execute_result"
    }
   ],
   "source": [
    "df[df.SL_CNT==0].sample(5)"
   ]
  },
  {
   "cell_type": "code",
   "execution_count": null,
   "metadata": {},
   "outputs": [],
   "source": []
  }
 ],
 "metadata": {
  "kernelspec": {
   "display_name": "t213p310",
   "language": "python",
   "name": "python3"
  },
  "language_info": {
   "codemirror_mode": {
    "name": "ipython",
    "version": 3
   },
   "file_extension": ".py",
   "mimetype": "text/x-python",
   "name": "python",
   "nbconvert_exporter": "python",
   "pygments_lexer": "ipython3",
   "version": "3.10.13"
  }
 },
 "nbformat": 4,
 "nbformat_minor": 2
}
