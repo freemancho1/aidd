{
 "cells": [
  {
   "cell_type": "code",
   "execution_count": 3,
   "metadata": {},
   "outputs": [],
   "source": [
    "import pandas as pd\n",
    "\n",
    "import aidd.sys.config as cfg\n",
    "from aidd.utils.data_io import read_data\n",
    "from aidd.utils.data_io import read_pickle"
   ]
  },
  {
   "cell_type": "code",
   "execution_count": 4,
   "metadata": {},
   "outputs": [],
   "source": [
    "class Service:\n",
    "    def __init__(self):\n",
    "        self.mr_pkl = {     # modeling result pickle[scaler, model]\n",
    "            pckey: {\n",
    "                'SCALER': read_pickle(f'DUMP,SCALER,{pckey}'),\n",
    "                'MODEL': read_pickle(f'DUMP,MODELS,{pckey},BEST'),\n",
    "            } for pckey in cfg.DATA_PC_TYPE\n",
    "        }\n",
    "        # t_cols : training columns\n",
    "        self.t_cols = read_pickle(file_code='DUMP,MODELING_COLS')\n",
    "        \n",
    "    def predict(self, service_df):\n",
    "        df = service_df\n",
    "        r_df = df[['CONS_ID', 'TOTAL_CONS_COST']].copy()\n",
    "        r_tcc = []  # r_tcc: result total cons cost\n",
    "        X = df[self.t_cols]\n",
    "        \n",
    "        for _, row in X.iterrows():\n",
    "            row_df = pd.DataFrame(row).transpose()\n",
    "            # 인덱스 초기화: row_df의 첫 row의 인덱스를 '0'으로 통일\n",
    "            row_df.reset_index(drop=True, inplace=True)\n",
    "            # 각 row별로 pckey 저장\n",
    "            pckey = row_df.loc[0, cfg.PC_COL].astype(int)\n",
    "            # 각 전주 갯 수 별 스케일러와 해당 갯 수의 최고 메델 가져오기\n",
    "            if pckey == 1:\n",
    "                scaler = self.mr_pkl['1']['SCALER']\n",
    "                model = self.mr_pkl['1']['MODEL']\n",
    "            else:\n",
    "                scaler = self.mr_pkl['N1']['SCALER']\n",
    "                model = self.mr_pkl['N1']['MODEL']\n",
    "            # 전체 데이터에 대한 스케일러와 최고 모델 가져오기\n",
    "            a_scaler = self.mr_pkl['ALL']['SCALER']\n",
    "            a_model = self.mr_pkl['ALL']['MODEL']\n",
    "            \n",
    "            pred = model.predict(scaler.transform(row_df))[0]\n",
    "            a_pred = a_model.predict(a_scaler.transform(row_df))[0]\n",
    "            r_tcc.append([pred, a_pred])\n",
    "        r_df.loc[:, ['PCKEY_TCC', 'ALL_TCC']] = r_tcc\n",
    "        return r_df"
   ]
  },
  {
   "cell_type": "code",
   "execution_count": 5,
   "metadata": {},
   "outputs": [],
   "source": [
    "svc = Service()"
   ]
  },
  {
   "cell_type": "code",
   "execution_count": 6,
   "metadata": {},
   "outputs": [
    {
     "name": "stderr",
     "output_type": "stream",
     "text": [
      "/home/freeman/anaconda3/envs/t213p310/lib/python3.10/site-packages/sklearn/base.py:450: UserWarning: X does not have valid feature names, but GradientBoostingRegressor was fitted with feature names\n",
      "  warnings.warn(\n",
      "/home/freeman/anaconda3/envs/t213p310/lib/python3.10/site-packages/sklearn/base.py:450: UserWarning: X does not have valid feature names, but GradientBoostingRegressor was fitted with feature names\n",
      "  warnings.warn(\n",
      "/home/freeman/anaconda3/envs/t213p310/lib/python3.10/site-packages/sklearn/base.py:450: UserWarning: X does not have valid feature names, but ElasticNet was fitted with feature names\n",
      "  warnings.warn(\n",
      "/home/freeman/anaconda3/envs/t213p310/lib/python3.10/site-packages/sklearn/base.py:450: UserWarning: X does not have valid feature names, but GradientBoostingRegressor was fitted with feature names\n",
      "  warnings.warn(\n",
      "/home/freeman/anaconda3/envs/t213p310/lib/python3.10/site-packages/sklearn/base.py:450: UserWarning: X does not have valid feature names, but GradientBoostingRegressor was fitted with feature names\n",
      "  warnings.warn(\n",
      "/home/freeman/anaconda3/envs/t213p310/lib/python3.10/site-packages/sklearn/base.py:450: UserWarning: X does not have valid feature names, but GradientBoostingRegressor was fitted with feature names\n",
      "  warnings.warn(\n"
     ]
    },
    {
     "data": {
      "text/html": [
       "<div>\n",
       "<style scoped>\n",
       "    .dataframe tbody tr th:only-of-type {\n",
       "        vertical-align: middle;\n",
       "    }\n",
       "\n",
       "    .dataframe tbody tr th {\n",
       "        vertical-align: top;\n",
       "    }\n",
       "\n",
       "    .dataframe thead th {\n",
       "        text-align: right;\n",
       "    }\n",
       "</style>\n",
       "<table border=\"1\" class=\"dataframe\">\n",
       "  <thead>\n",
       "    <tr style=\"text-align: right;\">\n",
       "      <th></th>\n",
       "      <th>CONS_ID</th>\n",
       "      <th>TOTAL_CONS_COST</th>\n",
       "      <th>PCKEY_TCC</th>\n",
       "      <th>ALL_TCC</th>\n",
       "    </tr>\n",
       "  </thead>\n",
       "  <tbody>\n",
       "    <tr>\n",
       "      <th>0</th>\n",
       "      <td>477420204194</td>\n",
       "      <td>9076645</td>\n",
       "      <td>1.171366e+07</td>\n",
       "      <td>1.417120e+07</td>\n",
       "    </tr>\n",
       "    <tr>\n",
       "      <th>1</th>\n",
       "      <td>475920223725</td>\n",
       "      <td>2176378</td>\n",
       "      <td>4.123722e+06</td>\n",
       "      <td>4.277902e+06</td>\n",
       "    </tr>\n",
       "    <tr>\n",
       "      <th>2</th>\n",
       "      <td>474620226651</td>\n",
       "      <td>9512744</td>\n",
       "      <td>1.046310e+07</td>\n",
       "      <td>1.325429e+07</td>\n",
       "    </tr>\n",
       "  </tbody>\n",
       "</table>\n",
       "</div>"
      ],
      "text/plain": [
       "        CONS_ID  TOTAL_CONS_COST     PCKEY_TCC       ALL_TCC\n",
       "0  477420204194          9076645  1.171366e+07  1.417120e+07\n",
       "1  475920223725          2176378  4.123722e+06  4.277902e+06\n",
       "2  474620226651          9512744  1.046310e+07  1.325429e+07"
      ]
     },
     "execution_count": 6,
     "metadata": {},
     "output_type": "execute_result"
    }
   ],
   "source": [
    "svc_df = read_data('ONLINE')\n",
    "pred_df = svc.predict(svc_df)"
   ]
  },
  {
   "cell_type": "code",
   "execution_count": 7,
   "metadata": {},
   "outputs": [
    {
     "name": "stdout",
     "output_type": "stream",
     "text": [
      " p: 9076645.0 vs 11713656.003436096 = 29.053\n",
      "ap: 9076645.0 vs 14171198.12148257 = 56.128\n",
      " p: 2176378.0 vs 4123721.775615843 = 89.476\n",
      "ap: 2176378.0 vs 4277901.706869179 = 96.561\n",
      " p: 9512744.0 vs 10463101.806429254 = 9.990\n",
      "ap: 9512744.0 vs 13254288.579833094 = 39.332\n"
     ]
    }
   ],
   "source": [
    "for _, row in pred_df.iterrows():\n",
    "    y = row['TOTAL_CONS_COST']\n",
    "    p = row['PCKEY_TCC']\n",
    "    ap = row['ALL_TCC']\n",
    "    print(f' p: {y} vs {p} = {abs(y-p)/y*100:.3f}')\n",
    "    print(f'ap: {y} vs {ap} = {abs(y-ap)/y*100:.3f}')"
   ]
  },
  {
   "cell_type": "code",
   "execution_count": null,
   "metadata": {},
   "outputs": [],
   "source": []
  }
 ],
 "metadata": {
  "kernelspec": {
   "display_name": "t213p310",
   "language": "python",
   "name": "python3"
  },
  "language_info": {
   "codemirror_mode": {
    "name": "ipython",
    "version": 3
   },
   "file_extension": ".py",
   "mimetype": "text/x-python",
   "name": "python",
   "nbconvert_exporter": "python",
   "pygments_lexer": "ipython3",
   "version": "3.10.12"
  }
 },
 "nbformat": 4,
 "nbformat_minor": 2
}
