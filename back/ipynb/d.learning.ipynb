{
 "cells": [
  {
   "cell_type": "code",
   "execution_count": 3,
   "metadata": {},
   "outputs": [],
   "source": [
    "import pandas as pd\n",
    "from sklearn.exceptions import ConvergenceWarning\n",
    "\n",
    "import aidd.sys.config as cfg\n",
    "from aidd.utils.data_io import get_modeling_data\n",
    "from aidd.utils.data_io import read_data, save_data\n",
    "from aidd.utils.data_io import read_pickle, save_pickle\n",
    "from aidd.modeling.evaluations import regression_evals"
   ]
  },
  {
   "cell_type": "code",
   "execution_count": 4,
   "metadata": {},
   "outputs": [],
   "source": [
    "class Learning:\n",
    "    def __init__(self, mdata=None):\n",
    "        self.mdata = mdata\n",
    "        self.best = {\n",
    "            pc: {'MODEL': None, 'SCORE': 0, 'MODEL_KEY': ''} \\\n",
    "                for pc in cfg.DATA_PC_TYPE\n",
    "        }\n",
    "        self.history = {}\n",
    "        self._run()\n",
    "        \n",
    "    def _run(self):\n",
    "        if self.mdata is None:\n",
    "            self.mdata = get_modeling_data()\n",
    "        for mkey in cfg.MODELS_KEY:\n",
    "            for pckey in cfg.DATA_PC_TYPE:\n",
    "                self._ml_model_fit_evals(mkey=mkey, pckey=pckey)\n",
    "        # 최고 모델 저장\n",
    "        for pckey in cfg.DATA_PC_TYPE:\n",
    "            save_pickle(self.best[pckey]['MODEL'], \n",
    "                        file_code=f'DUMP,MODELS,{pckey},BEST')\n",
    "        save_pickle(self.history, file_code='DUMP,MODELING_HISTORY')\n",
    "                \n",
    "    def _ml_model_fit_evals(self, mkey=None, pckey=None):\n",
    "        # print(f'MODEL: {mkey}, POLE_CNT: {pckey}')\n",
    "        model = cfg.MODELS['ML'][mkey]\n",
    "        data = {key: self.mdata[pckey][key] for key in cfg.DATA_MD_TYPE}\n",
    "        train_y = data['TRAIN_y'].to_numpy().reshape(-1)\n",
    "        try:\n",
    "            # model.fit(data['TRAIN_X'], data['TRAIN_y'])\n",
    "            model.fit(data['TRAIN_X'], train_y)\n",
    "        except ConvergenceWarning as ce:\n",
    "            # 모델이 정상적으로 수렴되지 않을 때 발생하는 오류로,\n",
    "            # LASSO 알고리즘으로 메델 생성시 발생함(무시해도 됨)\n",
    "            pass\n",
    "        pred = model.predict(data['TEST_X'])\n",
    "        evals = regression_evals(y=data['TEST_y'].to_numpy(), p=pred, verbose=0)\n",
    "        self._save_history(mkey, pckey, evals, model)\n",
    "        \n",
    "    def _save_history(self, mkey=None, pckey=None, evals=None, model=None):\n",
    "        # 알고리즘별, 전주 숫자별 모델 저장\n",
    "        save_pickle(model, file_code=f'DUMP,MODELS,{pckey},{mkey}')\n",
    "        # 학습결과 저장\n",
    "        self.history[f'({mkey}, {pckey})'] = evals\n",
    "        # 전주 숫자별 최고 모델 선별(r2score가 가장 높은 모델)\n",
    "        if self.best[pckey]['SCORE'] < evals[2]:\n",
    "            self.best[pckey].update({\n",
    "                'SCORE': evals[2], 'MODEL': model, 'MODEL_KEY': mkey\n",
    "            })"
   ]
  },
  {
   "cell_type": "code",
   "execution_count": 5,
   "metadata": {},
   "outputs": [
    {
     "name": "stderr",
     "output_type": "stream",
     "text": [
      "/home/freeman/anaconda3/envs/t213p310/lib/python3.10/site-packages/sklearn/linear_model/_coordinate_descent.py:647: ConvergenceWarning: Objective did not converge. You might want to increase the number of iterations, check the scale of the features or consider increasing regularisation. Duality gap: 2.896e+16, tolerance: 1.927e+13\n",
      "  model = cd_fast.enet_coordinate_descent(\n",
      "/home/freeman/anaconda3/envs/t213p310/lib/python3.10/site-packages/sklearn/linear_model/_coordinate_descent.py:647: ConvergenceWarning: Objective did not converge. You might want to increase the number of iterations, check the scale of the features or consider increasing regularisation. Duality gap: 1.109e+16, tolerance: 3.693e+12\n",
      "  model = cd_fast.enet_coordinate_descent(\n",
      "/home/freeman/anaconda3/envs/t213p310/lib/python3.10/site-packages/sklearn/linear_model/_coordinate_descent.py:647: ConvergenceWarning: Objective did not converge. You might want to increase the number of iterations, check the scale of the features or consider increasing regularisation. Duality gap: 1.668e+16, tolerance: 1.088e+13\n",
      "  model = cd_fast.enet_coordinate_descent(\n"
     ]
    }
   ],
   "source": [
    "ml = Learning()"
   ]
  },
  {
   "cell_type": "code",
   "execution_count": 6,
   "metadata": {},
   "outputs": [
    {
     "data": {
      "text/plain": [
       "{'ALL': {'MODEL': GradientBoostingRegressor(),\n",
       "  'SCORE': 0.7353331721227276,\n",
       "  'MODEL_KEY': 'GBR'},\n",
       " '1': {'MODEL': ElasticNet(alpha=0.1, random_state=1234),\n",
       "  'SCORE': 0.39347203777461004,\n",
       "  'MODEL_KEY': 'EN'},\n",
       " 'N1': {'MODEL': GradientBoostingRegressor(),\n",
       "  'SCORE': 0.7402007481164794,\n",
       "  'MODEL_KEY': 'GBR'}}"
      ]
     },
     "execution_count": 6,
     "metadata": {},
     "output_type": "execute_result"
    }
   ],
   "source": [
    "ml.best"
   ]
  },
  {
   "cell_type": "code",
   "execution_count": null,
   "metadata": {},
   "outputs": [],
   "source": []
  }
 ],
 "metadata": {
  "kernelspec": {
   "display_name": "t213p310",
   "language": "python",
   "name": "python3"
  },
  "language_info": {
   "codemirror_mode": {
    "name": "ipython",
    "version": 3
   },
   "file_extension": ".py",
   "mimetype": "text/x-python",
   "name": "python",
   "nbconvert_exporter": "python",
   "pygments_lexer": "ipython3",
   "version": "3.10.12"
  }
 },
 "nbformat": 4,
 "nbformat_minor": 2
}
