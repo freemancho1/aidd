{
 "cells": [
  {
   "cell_type": "code",
   "execution_count": 1,
   "metadata": {},
   "outputs": [],
   "source": [
    "DATA_SETs = ['CONS', 'POLE', 'LINE', 'SL']"
   ]
  },
  {
   "cell_type": "code",
   "execution_count": 2,
   "metadata": {},
   "outputs": [],
   "source": [
    "a = {\n",
    "    name: f'STEP{i+1}_{name}.txt' for i, name in enumerate(DATA_SETs)\n",
    "}"
   ]
  },
  {
   "cell_type": "code",
   "execution_count": 3,
   "metadata": {},
   "outputs": [
    {
     "data": {
      "text/plain": [
       "{'CONS': 'STEP1_CONS.txt',\n",
       " 'POLE': 'STEP2_POLE.txt',\n",
       " 'LINE': 'STEP3_LINE.txt',\n",
       " 'SL': 'STEP4_SL.txt'}"
      ]
     },
     "execution_count": 3,
     "metadata": {},
     "output_type": "execute_result"
    }
   ],
   "source": [
    "a"
   ]
  },
  {
   "cell_type": "code",
   "execution_count": 5,
   "metadata": {},
   "outputs": [
    {
     "name": "stdout",
     "output_type": "stream",
     "text": [
      "['[aaa]', '[bbb]', '[ccc]', '[Ellipsis]']\n"
     ]
    }
   ],
   "source": [
    "original_list = ['aaa', 'bbb', 'ccc', ...]\n",
    "\n",
    "new_list = [f\"[{item}]\" for item in original_list]\n",
    "\n",
    "print(new_list)"
   ]
  },
  {
   "cell_type": "code",
   "execution_count": 6,
   "metadata": {},
   "outputs": [
    {
     "data": {
      "text/plain": [
       "\"['CONS']['POLE']['LINE']['SL']\""
      ]
     },
     "execution_count": 6,
     "metadata": {},
     "output_type": "execute_result"
    }
   ],
   "source": [
    "a = ''.join([f\"['{item}']\" for item in DATA_SETs])\n",
    "a"
   ]
  },
  {
   "cell_type": "code",
   "execution_count": 2,
   "metadata": {},
   "outputs": [
    {
     "name": "stdout",
     "output_type": "stream",
     "text": [
      "                   mape         umape       r2score           mae  \\\n",
      "LIN   ALL  5.189937e+06  5.189937e+06 -2.988416e+16  1.265047e+13   \n",
      "      1    2.107144e-01  2.107144e-01  3.821416e-01  8.289435e+05   \n",
      "      N1   1.419533e+08  1.419533e+08 -8.789252e+20  4.174068e+15   \n",
      "LASSO ALL  1.987840e-01  1.987840e-01  7.269860e-01  1.077774e+06   \n",
      "      1    2.098221e-01  2.098221e-01  3.812445e-01  8.255925e+05   \n",
      "      N1   1.839669e-01  1.839669e-01  6.859223e-01  1.550789e+06   \n",
      "RIDGE ALL  1.987171e-01  1.987171e-01  7.269733e-01  1.077624e+06   \n",
      "      1    2.098043e-01  2.098043e-01  3.814191e-01  8.255444e+05   \n",
      "      N1   1.840130e-01  1.840130e-01  6.857559e-01  1.551836e+06   \n",
      "\n",
      "                    mse          rmse  \n",
      "LIN   ALL  4.714613e+29  6.866304e+14  \n",
      "      1    2.828818e+12  1.681909e+06  \n",
      "      N1   2.083772e+34  1.443528e+17  \n",
      "LASSO ALL  4.307149e+12  2.075367e+06  \n",
      "      1    2.832926e+12  1.683130e+06  \n",
      "      N1   7.446213e+12  2.728775e+06  \n",
      "RIDGE ALL  4.307350e+12  2.075416e+06  \n",
      "      1    2.832127e+12  1.682892e+06  \n",
      "      N1   7.450156e+12  2.729497e+06  \n"
     ]
    }
   ],
   "source": [
    "import pandas as pd\n",
    "\n",
    "# 데이터 생성\n",
    "data = {\n",
    "    ('LIN', 'ALL'): [5189936.549247661, 5189936.549247662, -2.988415810492055e+16, 12650470932021.633, 4.714613056777825e+29, 686630399616695.1],\n",
    "    ('LIN', '1'): [0.2107143918573783, 0.21071439185737856, 0.38214162594138357, 828943.4514807999, 2828818403166.9795, 1681909.1542550626],\n",
    "    ('LIN', 'N1'): [141953282.77290672, 141953282.77290672, -8.789252110713919e+20, 4174067996538525.5, 2.083772097761093e+34, 1.4435276574285277e+17],\n",
    "    ('LASSO', 'ALL'): [0.19878400724104744, 0.1987840072410476, 0.7269860445107795, 1077774.006331687, 4307148806779.0117, 2075367.1498746942],\n",
    "    ('LASSO', '1'): [0.20982210384413863, 0.20982210384413888, 0.3812445011555079, 825592.4947794115, 2832925821971.6353, 1683129.7697954355],\n",
    "    ('LASSO', 'N1'): [0.18396686829813283, 0.18396686829813294, 0.6859222530472114, 1550789.0072146573, 7446213140593.711, 2728775.025646803],\n",
    "    ('RIDGE', 'ALL'): [0.19871707539754138, 0.19871707539754135, 0.7269732661259737, 1077623.5462860386, 4307350402352.287, 2075415.7179592447],\n",
    "    ('RIDGE', '1'): [0.20980426355134826, 0.2098042635513485, 0.3814190535840216, 825544.3811191943, 2832126646719.136, 1682892.3455524824],\n",
    "    ('RIDGE', 'N1'): [0.18401296702052639, 0.18401296702052652, 0.6857559291833112, 1551836.2837220735, 7450156377429.125, 2729497.4587694937]\n",
    "}\n",
    "\n",
    "# 인덱스 생성\n",
    "index = pd.MultiIndex.from_tuples(data.keys())\n",
    "\n",
    "# 데이터프레임 생성\n",
    "df = pd.DataFrame(data.values(), index=index, columns=['mape', 'umape', 'r2score', 'mae', 'mse', 'rmse'])\n",
    "\n",
    "print(df)"
   ]
  },
  {
   "cell_type": "code",
   "execution_count": null,
   "metadata": {},
   "outputs": [],
   "source": []
  }
 ],
 "metadata": {
  "kernelspec": {
   "display_name": "t213p310",
   "language": "python",
   "name": "python3"
  },
  "language_info": {
   "codemirror_mode": {
    "name": "ipython",
    "version": 3
   },
   "file_extension": ".py",
   "mimetype": "text/x-python",
   "name": "python",
   "nbconvert_exporter": "python",
   "pygments_lexer": "ipython3",
   "version": "3.10.12"
  }
 },
 "nbformat": 4,
 "nbformat_minor": 2
}
