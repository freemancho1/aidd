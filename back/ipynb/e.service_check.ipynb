{
 "cells": [
  {
   "cell_type": "code",
   "execution_count": 1,
   "metadata": {},
   "outputs": [],
   "source": [
    "import pandas as pd\n",
    "\n",
    "import aidd.sys.config as cfg\n",
    "from aidd.utils.data_io import read_data, save_data\n",
    "from aidd.utils.data_io import read_pickle, save_pickle\n",
    "\n",
    "from aidd.modeling.evaluations import user_mape"
   ]
  },
  {
   "cell_type": "code",
   "execution_count": 2,
   "metadata": {},
   "outputs": [],
   "source": [
    "# POLE_CNT 별로 스케일러와 최고 성능의 모델 불러오기\n",
    "ms_data = {     # ms: modeling result data\n",
    "    pckey: {\n",
    "        'SCALER': read_pickle(f'DUMP,SCALER,{pckey}'),\n",
    "        'MODEL': read_pickle(f'DUMP,MODELS,{pckey},BEST')\n",
    "    } for pckey in cfg.DATA_PC_TYPE\n",
    "}"
   ]
  },
  {
   "cell_type": "code",
   "execution_count": 3,
   "metadata": {},
   "outputs": [],
   "source": [
    "# 전처리된 서비스 데이터 불러오기\n",
    "df = read_data('ONLINE')"
   ]
  },
  {
   "cell_type": "code",
   "execution_count": 4,
   "metadata": {},
   "outputs": [],
   "source": [
    "# 임시 코드: 서비스 데이터와 학습 데이터의 컬럼 순서 확인\n",
    "_bdf = read_data('PP,SL', dtype={'CONS_ID': str})\n",
    "_o_cols = df.columns.tolist()\n",
    "_b_cols = _bdf.columns.tolist()\n",
    "for idx in range(len(_o_cols)):\n",
    "    if _o_cols[idx] != _b_cols[idx]:\n",
    "        raise('컬럼이 일치하지 않음')"
   ]
  },
  {
   "cell_type": "code",
   "execution_count": 5,
   "metadata": {},
   "outputs": [],
   "source": [
    "del _bdf, _o_cols, _b_cols"
   ]
  },
  {
   "cell_type": "code",
   "execution_count": 6,
   "metadata": {},
   "outputs": [],
   "source": [
    "return_df = df[['CONS_ID', 'TOTAL_CONS_COST']].copy()\n",
    "return_tcc = []     # tcc: total cons cost\n",
    "# 모델에 사용한 컬럼정보 불러오기\n",
    "training_cols = read_pickle(file_code='DUMP,MODELING_COLS')"
   ]
  },
  {
   "cell_type": "code",
   "execution_count": 7,
   "metadata": {},
   "outputs": [],
   "source": [
    "# 임시 코드: 모델링 코드와 서비스 컬럼 데이터 다시 확인\n",
    "_temp_cols = df.columns[5:].tolist()\n",
    "for idx in range(len(_temp_cols)):\n",
    "    if _temp_cols[idx] != training_cols[idx]:\n",
    "        raise('컬럼이 일치하지 않음')\n",
    "del _temp_cols"
   ]
  },
  {
   "cell_type": "code",
   "execution_count": 8,
   "metadata": {},
   "outputs": [],
   "source": [
    "X = df[training_cols].copy()"
   ]
  },
  {
   "cell_type": "code",
   "execution_count": 9,
   "metadata": {},
   "outputs": [
    {
     "name": "stderr",
     "output_type": "stream",
     "text": [
      "/home/freeman/anaconda3/envs/t213p310/lib/python3.10/site-packages/sklearn/base.py:450: UserWarning: X does not have valid feature names, but GradientBoostingRegressor was fitted with feature names\n",
      "  warnings.warn(\n",
      "/home/freeman/anaconda3/envs/t213p310/lib/python3.10/site-packages/sklearn/base.py:450: UserWarning: X does not have valid feature names, but GradientBoostingRegressor was fitted with feature names\n",
      "  warnings.warn(\n",
      "/home/freeman/anaconda3/envs/t213p310/lib/python3.10/site-packages/sklearn/base.py:450: UserWarning: X does not have valid feature names, but ElasticNet was fitted with feature names\n",
      "  warnings.warn(\n",
      "/home/freeman/anaconda3/envs/t213p310/lib/python3.10/site-packages/sklearn/base.py:450: UserWarning: X does not have valid feature names, but GradientBoostingRegressor was fitted with feature names\n",
      "  warnings.warn(\n",
      "/home/freeman/anaconda3/envs/t213p310/lib/python3.10/site-packages/sklearn/base.py:450: UserWarning: X does not have valid feature names, but GradientBoostingRegressor was fitted with feature names\n",
      "  warnings.warn(\n",
      "/home/freeman/anaconda3/envs/t213p310/lib/python3.10/site-packages/sklearn/base.py:450: UserWarning: X does not have valid feature names, but GradientBoostingRegressor was fitted with feature names\n",
      "  warnings.warn(\n"
     ]
    }
   ],
   "source": [
    "for _, row in X.iterrows():\n",
    "    row_df = pd.DataFrame(row).transpose()\n",
    "    # 인덱스 초기화: 이 작업을 수행해야 각 df의 첫 번째 인덱스가 0이 됨\n",
    "    # 0으로 해야 레코드의 POLE_CNT를 추출해 각각의 스케일러와 모델에 적용해 줄 수 있음\n",
    "    row_df.reset_index(drop=True, inplace=True)\n",
    "    pckey = row_df.loc[0, 'POLE_CNT'].astype(int)\n",
    "    if pckey == 1:\n",
    "        scaler = ms_data['1']['SCALER']\n",
    "        model = ms_data['1']['MODEL']\n",
    "    else:\n",
    "        scaler = ms_data['N1']['SCALER']\n",
    "        model = ms_data['N1']['MODEL']\n",
    "    ascaler = ms_data['ALL']['SCALER']\n",
    "    amodel = ms_data['ALL']['MODEL']\n",
    "    \n",
    "    s_data = scaler.transform(row_df)\n",
    "    as_data = ascaler.transform(row_df)\n",
    "    p = model.predict(s_data)[0]\n",
    "    ap = amodel.predict(as_data)[0]\n",
    "    return_tcc.append([p, ap])"
   ]
  },
  {
   "cell_type": "code",
   "execution_count": 10,
   "metadata": {},
   "outputs": [
    {
     "data": {
      "text/plain": [
       "[[11713656.003436096, 14171198.12148257],\n",
       " [4123721.775615843, 4277901.706869179],\n",
       " [10463101.806429254, 13254288.579833094]]"
      ]
     },
     "execution_count": 10,
     "metadata": {},
     "output_type": "execute_result"
    }
   ],
   "source": [
    "return_tcc"
   ]
  },
  {
   "cell_type": "code",
   "execution_count": 11,
   "metadata": {},
   "outputs": [
    {
     "data": {
      "text/html": [
       "<div>\n",
       "<style scoped>\n",
       "    .dataframe tbody tr th:only-of-type {\n",
       "        vertical-align: middle;\n",
       "    }\n",
       "\n",
       "    .dataframe tbody tr th {\n",
       "        vertical-align: top;\n",
       "    }\n",
       "\n",
       "    .dataframe thead th {\n",
       "        text-align: right;\n",
       "    }\n",
       "</style>\n",
       "<table border=\"1\" class=\"dataframe\">\n",
       "  <thead>\n",
       "    <tr style=\"text-align: right;\">\n",
       "      <th></th>\n",
       "      <th>CONS_ID</th>\n",
       "      <th>TOTAL_CONS_COST</th>\n",
       "    </tr>\n",
       "  </thead>\n",
       "  <tbody>\n",
       "    <tr>\n",
       "      <th>0</th>\n",
       "      <td>477420204194</td>\n",
       "      <td>9076645</td>\n",
       "    </tr>\n",
       "    <tr>\n",
       "      <th>1</th>\n",
       "      <td>475920223725</td>\n",
       "      <td>2176378</td>\n",
       "    </tr>\n",
       "    <tr>\n",
       "      <th>2</th>\n",
       "      <td>474620226651</td>\n",
       "      <td>9512744</td>\n",
       "    </tr>\n",
       "  </tbody>\n",
       "</table>\n",
       "</div>"
      ],
      "text/plain": [
       "        CONS_ID  TOTAL_CONS_COST\n",
       "0  477420204194          9076645\n",
       "1  475920223725          2176378\n",
       "2  474620226651          9512744"
      ]
     },
     "execution_count": 11,
     "metadata": {},
     "output_type": "execute_result"
    }
   ],
   "source": [
    "return_df"
   ]
  },
  {
   "cell_type": "code",
   "execution_count": 12,
   "metadata": {},
   "outputs": [],
   "source": [
    "return_df.loc[:, ['ALL_TCC', 'PCKEY_TCC']] = return_tcc"
   ]
  },
  {
   "cell_type": "code",
   "execution_count": 13,
   "metadata": {},
   "outputs": [
    {
     "data": {
      "text/html": [
       "<div>\n",
       "<style scoped>\n",
       "    .dataframe tbody tr th:only-of-type {\n",
       "        vertical-align: middle;\n",
       "    }\n",
       "\n",
       "    .dataframe tbody tr th {\n",
       "        vertical-align: top;\n",
       "    }\n",
       "\n",
       "    .dataframe thead th {\n",
       "        text-align: right;\n",
       "    }\n",
       "</style>\n",
       "<table border=\"1\" class=\"dataframe\">\n",
       "  <thead>\n",
       "    <tr style=\"text-align: right;\">\n",
       "      <th></th>\n",
       "      <th>CONS_ID</th>\n",
       "      <th>TOTAL_CONS_COST</th>\n",
       "      <th>ALL_TCC</th>\n",
       "      <th>PCKEY_TCC</th>\n",
       "    </tr>\n",
       "  </thead>\n",
       "  <tbody>\n",
       "    <tr>\n",
       "      <th>0</th>\n",
       "      <td>477420204194</td>\n",
       "      <td>9076645</td>\n",
       "      <td>1.171366e+07</td>\n",
       "      <td>1.417120e+07</td>\n",
       "    </tr>\n",
       "    <tr>\n",
       "      <th>1</th>\n",
       "      <td>475920223725</td>\n",
       "      <td>2176378</td>\n",
       "      <td>4.123722e+06</td>\n",
       "      <td>4.277902e+06</td>\n",
       "    </tr>\n",
       "    <tr>\n",
       "      <th>2</th>\n",
       "      <td>474620226651</td>\n",
       "      <td>9512744</td>\n",
       "      <td>1.046310e+07</td>\n",
       "      <td>1.325429e+07</td>\n",
       "    </tr>\n",
       "  </tbody>\n",
       "</table>\n",
       "</div>"
      ],
      "text/plain": [
       "        CONS_ID  TOTAL_CONS_COST       ALL_TCC     PCKEY_TCC\n",
       "0  477420204194          9076645  1.171366e+07  1.417120e+07\n",
       "1  475920223725          2176378  4.123722e+06  4.277902e+06\n",
       "2  474620226651          9512744  1.046310e+07  1.325429e+07"
      ]
     },
     "execution_count": 13,
     "metadata": {},
     "output_type": "execute_result"
    }
   ],
   "source": [
    "return_df"
   ]
  },
  {
   "cell_type": "code",
   "execution_count": 15,
   "metadata": {},
   "outputs": [
    {
     "name": "stdout",
     "output_type": "stream",
     "text": [
      " p: 9076645 vs 11713656.003436096 = 29.053\n",
      "ap: 9076645 vs 14171198.12148257 = 56.128\n",
      " p: 2176378 vs 4123721.775615843 = 89.476\n",
      "ap: 2176378 vs 4277901.706869179 = 96.561\n",
      " p: 9512744 vs 10463101.806429254 = 9.990\n",
      "ap: 9512744 vs 13254288.579833094 = 39.332\n"
     ]
    }
   ],
   "source": [
    "for idx, row in return_df.iterrows():\n",
    "    y = return_df.loc[idx, 'TOTAL_CONS_COST']\n",
    "    p = return_df.loc[idx, 'ALL_TCC']\n",
    "    ap = return_df.loc[idx, 'PCKEY_TCC']\n",
    "    print(f' p: {y} vs {p} = {abs(y-p)/y*100:.3f}')\n",
    "    print(f'ap: {y} vs {ap} = {abs(y-ap)/y*100:.3f}')"
   ]
  },
  {
   "cell_type": "code",
   "execution_count": null,
   "metadata": {},
   "outputs": [],
   "source": []
  }
 ],
 "metadata": {
  "kernelspec": {
   "display_name": "t213p310",
   "language": "python",
   "name": "python3"
  },
  "language_info": {
   "codemirror_mode": {
    "name": "ipython",
    "version": 3
   },
   "file_extension": ".py",
   "mimetype": "text/x-python",
   "name": "python",
   "nbconvert_exporter": "python",
   "pygments_lexer": "ipython3",
   "version": "3.10.12"
  }
 },
 "nbformat": 4,
 "nbformat_minor": 2
}
