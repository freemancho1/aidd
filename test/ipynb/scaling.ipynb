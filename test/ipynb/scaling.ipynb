{
 "cells": [
  {
   "cell_type": "code",
   "execution_count": 1,
   "metadata": {},
   "outputs": [],
   "source": [
    "from aidd.batch.data_manager import read_data\n",
    "from aidd.batch.scaler import Scaling"
   ]
  },
  {
   "cell_type": "code",
   "execution_count": 2,
   "metadata": {},
   "outputs": [
    {
     "name": "stderr",
     "output_type": "stream",
     "text": [
      "/home/freeman/projects/aidd/batch/data_manager.py:34: DtypeWarning: Columns (0) have mixed types. Specify dtype option on import or set low_memory=False.\n",
      "  return pd.read_csv(file_path, **kwargs)\n"
     ]
    }
   ],
   "source": [
    "pdf = read_data('PP', 'SL')"
   ]
  },
  {
   "cell_type": "code",
   "execution_count": 3,
   "metadata": {},
   "outputs": [
    {
     "data": {
      "text/plain": [
       "(11384, 157)"
      ]
     },
     "execution_count": 3,
     "metadata": {},
     "output_type": "execute_result"
    }
   ],
   "source": [
    "pdf.shape"
   ]
  },
  {
   "cell_type": "code",
   "execution_count": 4,
   "metadata": {},
   "outputs": [
    {
     "name": "stdout",
     "output_type": "stream",
     "text": [
      "[70c75f2ed4bf][2024-02-29 15:35:33.342924] 배치 전처리 데이터 스케일링 시작\n",
      "[975fd13d23ad][2024-02-29 15:35:33.343520]   학습대상 데이터 분리 시작\n",
      "[975fd13d23ad][2024-02-29 15:35:33.343605]     전체 학습대상 데이터 크기: (11384, 157)\n",
      "[975fd13d23ad][2024-02-29 15:35:33.368622]     전체 학습대상 컬럼 데이터 크기: (11384, 141)\n",
      "[975fd13d23ad][2024-02-29 15:35:33.872725]     학습 데이터 크기(DMODE=ALL): 전체(11384, 141), 훈련(9107, 141), 시험(2277, 141)\n",
      "[975fd13d23ad][2024-02-29 15:35:34.306562]     학습 데이터 크기(DMODE=1): 전체(7365, 141), 훈련(5892, 141), 시험(1473, 141)\n",
      "[975fd13d23ad][2024-02-29 15:35:34.576966]     학습 데이터 크기(DMODE=N1): 전체(4019, 141), 훈련(3215, 141), 시험(804, 141)\n",
      "[975fd13d23ad][2024-02-29 15:35:34.731392]   학습대상 데이터 분리 종료, 최종 처리시간: 0:00:01.387854\n",
      "[d03f5c27ba61][2024-02-29 15:35:34.731550]   학습대상 데이터 스케일링 시작\n",
      "[d03f5c27ba61][2024-02-29 15:35:40.156065]   학습대상 데이터 스케일링 종료, 최종 처리시간: 0:00:05.424474\n",
      "[70c75f2ed4bf][2024-02-29 15:35:40.156416] 배치 전처리 데이터 스케일링 종료, 최종 처리시간: 0:00:06.813491\n"
     ]
    }
   ],
   "source": [
    "s = Scaling(pdf)"
   ]
  },
  {
   "cell_type": "code",
   "execution_count": 5,
   "metadata": {},
   "outputs": [
    {
     "data": {
      "text/plain": [
       "dict_keys(['X', 'y', 'TRAIN_X_ALL', 'TRAIN_y_ALL', 'TEST_X_ALL', 'TEST_y_ALL', 'TRAIN_X_1', 'TRAIN_y_1', 'TEST_X_1', 'TEST_y_1', 'TRAIN_X_N1', 'TRAIN_y_N1', 'TEST_X_N1', 'TEST_y_N1'])"
      ]
     },
     "execution_count": 5,
     "metadata": {},
     "output_type": "execute_result"
    }
   ],
   "source": [
    "s.data.keys()"
   ]
  },
  {
   "cell_type": "code",
   "execution_count": 6,
   "metadata": {},
   "outputs": [
    {
     "data": {
      "text/plain": [
       "dict_keys(['ALL_TRAIN_X_ALL', 'ALL_TEST_X_ALL', 'SPC_TRAIN_X_ALL', 'SPC_TEST_X_ALL', 'ALL_TRAIN_X_1', 'ALL_TEST_X_1', 'SPC_TRAIN_X_1', 'SPC_TEST_X_1', 'ALL_TRAIN_X_N1', 'ALL_TEST_X_N1', 'SPC_TRAIN_X_N1', 'SPC_TEST_X_N1'])"
      ]
     },
     "execution_count": 6,
     "metadata": {},
     "output_type": "execute_result"
    }
   ],
   "source": [
    "s.sdata.keys()"
   ]
  },
  {
   "cell_type": "code",
   "execution_count": null,
   "metadata": {},
   "outputs": [],
   "source": []
  }
 ],
 "metadata": {
  "kernelspec": {
   "display_name": "t213p310",
   "language": "python",
   "name": "python3"
  },
  "language_info": {
   "codemirror_mode": {
    "name": "ipython",
    "version": 3
   },
   "file_extension": ".py",
   "mimetype": "text/x-python",
   "name": "python",
   "nbconvert_exporter": "python",
   "pygments_lexer": "ipython3",
   "version": "3.10.12"
  }
 },
 "nbformat": 4,
 "nbformat_minor": 2
}
