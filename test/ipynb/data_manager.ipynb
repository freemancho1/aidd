{
 "cells": [
  {
   "cell_type": "code",
   "execution_count": 2,
   "metadata": {},
   "outputs": [],
   "source": [
    "from aidd.batch import data_manager as dm"
   ]
  },
  {
   "cell_type": "code",
   "execution_count": 3,
   "metadata": {},
   "outputs": [
    {
     "name": "stdout",
     "output_type": "stream",
     "text": [
      "[0d04fa3b960e][2024-02-23 17:47:15.650361] 제공받은 데이터 불러오기 시작\n",
      "[0d04fa3b960e][2024-02-23 17:47:44.189275]   읽은 데이터: CONS, 데이터 크기: (19052, 143), 처리시간: 0:00:28.538745\n",
      "[0d04fa3b960e][2024-02-23 17:48:08.869814]   읽은 데이터: POLE, 데이터 크기: (38533, 63), 처리시간: 0:00:24.680402\n",
      "[0d04fa3b960e][2024-02-23 17:48:40.285598]   읽은 데이터: LINE, 데이터 크기: (40019, 77), 처리시간: 0:00:31.415651\n",
      "[0d04fa3b960e][2024-02-23 17:48:52.906297]   읽은 데이터: SL, 데이터 크기: (22632, 57), 처리시간: 0:00:12.620560\n",
      "[0d04fa3b960e][2024-02-23 17:48:52.906395] 제공받은 데이터 불러오기 종료, 최종 처리시간: 0:01:37.256046\n"
     ]
    }
   ],
   "source": [
    "pdata = dm.get_provide_data()"
   ]
  },
  {
   "cell_type": "code",
   "execution_count": 6,
   "metadata": {},
   "outputs": [
    {
     "ename": "KeyError",
     "evalue": "'CCONS'",
     "output_type": "error",
     "traceback": [
      "\u001b[0;31m---------------------------------------------------------------------------\u001b[0m",
      "\u001b[0;31mKeyError\u001b[0m                                  Traceback (most recent call last)",
      "Cell \u001b[0;32mIn[6], line 1\u001b[0m\n\u001b[0;32m----> 1\u001b[0m \u001b[43mpdata\u001b[49m\u001b[43m[\u001b[49m\u001b[38;5;124;43m'\u001b[39;49m\u001b[38;5;124;43mCCONS\u001b[39;49m\u001b[38;5;124;43m'\u001b[39;49m\u001b[43m]\u001b[49m\n",
      "\u001b[0;31mKeyError\u001b[0m: 'CCONS'"
     ]
    }
   ],
   "source": [
    "pdata['CCONS']"
   ]
  },
  {
   "cell_type": "code",
   "execution_count": 7,
   "metadata": {},
   "outputs": [],
   "source": [
    "df = pdata['CONS']"
   ]
  },
  {
   "cell_type": "code",
   "execution_count": null,
   "metadata": {},
   "outputs": [],
   "source": []
  }
 ],
 "metadata": {
  "kernelspec": {
   "display_name": "t213p310",
   "language": "python",
   "name": "python3"
  },
  "language_info": {
   "codemirror_mode": {
    "name": "ipython",
    "version": 3
   },
   "file_extension": ".py",
   "mimetype": "text/x-python",
   "name": "python",
   "nbconvert_exporter": "python",
   "pygments_lexer": "ipython3",
   "version": "3.10.12"
  }
 },
 "nbformat": 4,
 "nbformat_minor": 2
}
