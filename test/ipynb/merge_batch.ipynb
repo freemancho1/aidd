{
 "cells": [
  {
   "cell_type": "markdown",
   "metadata": {},
   "source": [
    "#### 개요\n",
    "학습용으로 제공받은 데이터를 전처리에 사용할 수 있도록 공사비 단위로 하나의 레코드로 취합하는 역활을 수행하며, 학습 대상이 아닌 불필요한 컬럼을 제거함\n",
    "* STEP01: 각 데이터 셋에서 학습대상 레코드와 컬럼 추출\n",
    "* STEP02: 공사비별 전주/전선/인입선 갯 수 계산\n",
    "* STEP03: 컬럼 추가\n",
    "* STEP99: 전주순서 계산(이번 생에는 순서 계산은 안 할 예정임)"
   ]
  },
  {
   "cell_type": "code",
   "execution_count": 1,
   "metadata": {},
   "outputs": [],
   "source": [
    "import os\n",
    "import sys\n",
    "import pandas as pd\n",
    "\n",
    "import aidd.sys.config as cfg\n",
    "from aidd.batch.data_manager import get_provide_data, read_data\n",
    "from aidd.online.data_manager import get_online_sample"
   ]
  },
  {
   "cell_type": "code",
   "execution_count": 2,
   "metadata": {},
   "outputs": [
    {
     "name": "stdout",
     "output_type": "stream",
     "text": [
      "[3b945f25ddb8][2024-03-13 15:56:19.736632] 제공받은 데이터 불러오기 시작\n",
      "[3b945f25ddb8][2024-03-13 15:56:48.346202]   읽은 데이터: CONS, 데이터 크기: (19052, 143), 처리시간: 0:00:28.609502\n",
      "[3b945f25ddb8][2024-03-13 15:57:13.028312]   읽은 데이터: POLE, 데이터 크기: (38533, 63), 처리시간: 0:00:24.681971\n",
      "[3b945f25ddb8][2024-03-13 15:57:44.790351]   읽은 데이터: LINE, 데이터 크기: (40019, 77), 처리시간: 0:00:31.761891\n",
      "[3b945f25ddb8][2024-03-13 15:57:57.811890]   읽은 데이터: SL, 데이터 크기: (22632, 57), 처리시간: 0:00:13.021239\n",
      "[3b945f25ddb8][2024-03-13 15:57:57.811973] 제공받은 데이터 불러오기 종료, 최종 처리시간: 0:01:38.075344\n"
     ]
    }
   ],
   "source": [
    "pdata = get_provide_data()"
   ]
  },
  {
   "cell_type": "markdown",
   "metadata": {},
   "source": [
    "#### STEP01: 학습대상 추출"
   ]
  },
  {
   "cell_type": "code",
   "execution_count": 3,
   "metadata": {},
   "outputs": [],
   "source": [
    "# 모델에 사용할 데이터 딕셔너리\n",
    "mdict = {}\n",
    "\n",
    "# 공사비 데이터 학습대상 레코드/컬럼 추출\n",
    "key = 'CONS'\n",
    "df = pdata[key]\n",
    "# (전주/전선 수를 제외한) 공사비 데이터 부분에서 학습 대상 레코드 조건\n",
    "# * 접수종류명(ACC_TYPE_NAME), 계약전력(CONT_CAP),\n",
    "# * 공사형태코드(CONS_TYPE_CD), 총공사비(TOTAL_CONS_COST)\n",
    "modeling_records = \\\n",
    "    (df.ACC_TYPE_NAME == cfg.COND_ACC_TYPE_NAME) & \\\n",
    "    (df.CONT_CAP < cfg.COND_MAX_CONT_CAP) & \\\n",
    "    (df.CONS_TYPE_CD == cfg.COND_CONS_TYPE_CD) & \\\n",
    "    (df.TOTAL_CONS_COST < cfg.COND_MAX_TOTAL_CONS_COST)\n",
    "df = df[modeling_records].reset_index(drop=True)\n",
    "cons_df = df[cfg.MODELING_COLS[key]]\n",
    "mdict[key] = cons_df"
   ]
  },
  {
   "cell_type": "code",
   "execution_count": 4,
   "metadata": {},
   "outputs": [],
   "source": [
    "# 전주/전선/인입선 데이터 학습대상 레코드/컬럼 추출\n",
    "# * 레크도는 공사비에 있는 공사번호를 대상으로 함\n",
    "for key in cfg.DATA_TYPE[1:]:\n",
    "    df = pdata[key]\n",
    "    df = df[df.CONS_ID.isin(cons_df.CONS_ID)]\n",
    "    mdict[key] = df[cfg.MODELING_COLS[key]]"
   ]
  },
  {
   "cell_type": "code",
   "execution_count": 5,
   "metadata": {},
   "outputs": [
    {
     "name": "stdout",
     "output_type": "stream",
     "text": [
      "CONS: (15335, 8)\n",
      "POLE: (27896, 6)\n",
      "LINE: (30348, 11)\n",
      "SL: (17034, 6)\n"
     ]
    }
   ],
   "source": [
    "# (참조용)데이터 셋 별 공사대상 레코드/컬럼 크기 확인\n",
    "for key in cfg.DATA_TYPE:\n",
    "    print(f'{key}: {mdict[key].shape}')"
   ]
  },
  {
   "cell_type": "markdown",
   "metadata": {},
   "source": [
    "#### STEP02: 공사비별 전주/전선/인입선 갯 수 계산\n",
    "* 전주/전선 갯 수가 10개 이상인 레코드 제거"
   ]
  },
  {
   "cell_type": "code",
   "execution_count": 6,
   "metadata": {},
   "outputs": [
    {
     "name": "stdout",
     "output_type": "stream",
     "text": [
      "MDF: (15335, 11)\n"
     ]
    }
   ],
   "source": [
    "# 여기서부터 모델 학습에 사용할 데이터프레임 생성(mdf)\n",
    "mdf = cons_df\n",
    "for key in cfg.DATA_TYPE[1:]:\n",
    "    df = mdict[key]\n",
    "    count_cons_ids = df.CONS_ID.value_counts()\n",
    "    col_name = f'{key}_CNT'\n",
    "    mdf = pd.merge(\n",
    "        mdf, count_cons_ids.rename(col_name),\n",
    "        left_on='CONS_ID', right_on=count_cons_ids.index, how='left'\n",
    "    )\n",
    "    # 해당 공사번호에 없는 설비는 NaN처리 되며, 이 값을 0으로 변경\n",
    "    mdf[col_name].fillna(0, inplace=True)\n",
    "\n",
    "print(f'MDF: {mdf.shape}') "
   ]
  },
  {
   "cell_type": "code",
   "execution_count": 7,
   "metadata": {},
   "outputs": [
    {
     "name": "stdout",
     "output_type": "stream",
     "text": [
      "MDF: (14729, 11)\n"
     ]
    }
   ],
   "source": [
    "# 모델 학습에 사용할 레코드 추출\n",
    "# * 전주/전선 갯 수가 10개 이상인 경우 \n",
    "modeling_records = \\\n",
    "    (mdf.POLE_CNT >= cfg.COND_MIN_POLE_COUNT) & \\\n",
    "    (mdf.POLE_CNT <= cfg.COND_MAX_POLE_COUNT) & \\\n",
    "    (mdf.LINE_CNT >= cfg.COND_MIN_LINE_COUNT) & \\\n",
    "    (mdf.LINE_CNT <= cfg.COND_MAX_LINE_COUNT)\n",
    "mdf = mdf[modeling_records]\n",
    "\n",
    "print(f'MDF: {mdf.shape}')"
   ]
  },
  {
   "cell_type": "code",
   "execution_count": 8,
   "metadata": {},
   "outputs": [
    {
     "name": "stdout",
     "output_type": "stream",
     "text": [
      "<class 'pandas.core.frame.DataFrame'>\n",
      "Index: 14729 entries, 0 to 15334\n",
      "Data columns (total 11 columns):\n",
      " #   Column           Non-Null Count  Dtype         \n",
      "---  ------           --------------  -----         \n",
      " 0   CONS_ID          14729 non-null  object        \n",
      " 1   TOTAL_CONS_COST  14729 non-null  int64         \n",
      " 2   CONS_TYPE_CD     14729 non-null  int64         \n",
      " 3   LAST_MOD_DATE    14729 non-null  datetime64[ns]\n",
      " 4   LAST_MOD_EID     14729 non-null  object        \n",
      " 5   OFFICE_NAME      14729 non-null  object        \n",
      " 6   CONT_CAP         14729 non-null  int64         \n",
      " 7   ACC_TYPE_NAME    14729 non-null  object        \n",
      " 8   POLE_CNT         14729 non-null  float64       \n",
      " 9   LINE_CNT         14729 non-null  float64       \n",
      " 10  SL_CNT           14729 non-null  float64       \n",
      "dtypes: datetime64[ns](1), float64(3), int64(3), object(4)\n",
      "memory usage: 1.3+ MB\n"
     ]
    }
   ],
   "source": [
    "mdf.info()"
   ]
  },
  {
   "cell_type": "code",
   "execution_count": null,
   "metadata": {},
   "outputs": [],
   "source": []
  }
 ],
 "metadata": {
  "kernelspec": {
   "display_name": "t213p310",
   "language": "python",
   "name": "python3"
  },
  "language_info": {
   "codemirror_mode": {
    "name": "ipython",
    "version": 3
   },
   "file_extension": ".py",
   "mimetype": "text/x-python",
   "name": "python",
   "nbconvert_exporter": "python",
   "pygments_lexer": "ipython3",
   "version": "3.10.12"
  }
 },
 "nbformat": 4,
 "nbformat_minor": 2
}
