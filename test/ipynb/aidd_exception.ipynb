{
 "cells": [
  {
   "cell_type": "code",
   "execution_count": 1,
   "metadata": {},
   "outputs": [],
   "source": [
    "from aidd.sys.utils import AiddException"
   ]
  },
  {
   "cell_type": "code",
   "execution_count": 2,
   "metadata": {},
   "outputs": [
    {
     "name": "stdout",
     "output_type": "stream",
     "text": [
      "데이터 경로를 생성하는 과정에 파일 코드를 제공하지 않았습니다.\n"
     ]
    },
    {
     "data": {
      "text/plain": [
       "aidd.sys.utils.AiddException('NO_FILE_CODE')"
      ]
     },
     "execution_count": 2,
     "metadata": {},
     "output_type": "execute_result"
    }
   ],
   "source": [
    "AiddException('NO_FILE_CODE')"
   ]
  },
  {
   "cell_type": "code",
   "execution_count": 3,
   "metadata": {},
   "outputs": [
    {
     "ename": "KeyError",
     "evalue": "'AA'",
     "output_type": "error",
     "traceback": [
      "\u001b[0;31m---------------------------------------------------------------------------\u001b[0m",
      "\u001b[0;31mKeyError\u001b[0m                                  Traceback (most recent call last)",
      "Cell \u001b[0;32mIn[3], line 1\u001b[0m\n\u001b[0;32m----> 1\u001b[0m \u001b[43mAiddException\u001b[49m\u001b[43m(\u001b[49m\u001b[38;5;124;43m'\u001b[39;49m\u001b[38;5;124;43mAA\u001b[39;49m\u001b[38;5;124;43m'\u001b[39;49m\u001b[43m)\u001b[49m\n",
      "File \u001b[0;32m~/projects/aidd/sys/utils.py:21\u001b[0m, in \u001b[0;36mAiddException.__init__\u001b[0;34m(self, err_code, value, super_err)\u001b[0m\n\u001b[1;32m     19\u001b[0m \u001b[38;5;28;01mdef\u001b[39;00m \u001b[38;5;21m__init__\u001b[39m(\u001b[38;5;28mself\u001b[39m, err_code\u001b[38;5;241m=\u001b[39m\u001b[38;5;28;01mNone\u001b[39;00m, value\u001b[38;5;241m=\u001b[39m\u001b[38;5;28;01mNone\u001b[39;00m, super_err\u001b[38;5;241m=\u001b[39m\u001b[38;5;28;01mNone\u001b[39;00m):\n\u001b[1;32m     20\u001b[0m     \u001b[38;5;28mself\u001b[39m\u001b[38;5;241m.\u001b[39mdelimiter \u001b[38;5;241m=\u001b[39m cfg\u001b[38;5;241m.\u001b[39mMESSAGE_DELIMITER\n\u001b[0;32m---> 21\u001b[0m     \u001b[38;5;28mself\u001b[39m\u001b[38;5;241m.\u001b[39mmessage \u001b[38;5;241m=\u001b[39m \u001b[43mmsg\u001b[49m\u001b[38;5;241;43m.\u001b[39;49m\u001b[43mERRORS\u001b[49m\u001b[43m[\u001b[49m\u001b[43merr_code\u001b[49m\u001b[43m]\u001b[49m\n\u001b[1;32m     22\u001b[0m     \u001b[38;5;28mprint\u001b[39m(\u001b[38;5;28mself\u001b[39m\u001b[38;5;241m.\u001b[39mmessage)\n",
      "\u001b[0;31mKeyError\u001b[0m: 'AA'"
     ]
    }
   ],
   "source": [
    "AiddException('AA')"
   ]
  },
  {
   "cell_type": "code",
   "execution_count": 2,
   "metadata": {},
   "outputs": [],
   "source": [
    "from aidd.sys.utils import Logs"
   ]
  },
  {
   "cell_type": "code",
   "execution_count": 3,
   "metadata": {},
   "outputs": [
    {
     "name": "stdout",
     "output_type": "stream",
     "text": [
      "[fde7dd796958][2024-02-23 14:12:30.802239] 배치 데이터 전처리 및 모델링 시작\n",
      "[07df1dc7c7ee][2024-02-23 14:12:30.802731]   제공받은 데이터 불러오기 시작\n",
      "[cf0b33abadaf][2024-02-23 14:12:30.802824]     배치 데이터 전처리 시작\n",
      "[cf0b33abadaf][2024-02-23 14:12:30.803062]     배치 데이터 전처리 종료, 최종 처리시간: 0:00:00.000235\n",
      "[07df1dc7c7ee][2024-02-23 14:12:30.803128]   제공받은 데이터 불러오기 종료, 최종 처리시간: 0:00:00.000400\n",
      "[fde7dd796958][2024-02-23 14:12:30.803181] 배치 데이터 전처리 및 모델링 종료, 최종 처리시간: 0:00:00.000956\n"
     ]
    }
   ],
   "source": [
    "log_depths = ['BATCH_MAIN', 'GET_PROVIDE_DATA', 'BATCH_PREPROCESSING']\n",
    "logs = []\n",
    "\n",
    "for key in log_depths:\n",
    "    logs.append(Logs(key))\n",
    "    \n",
    "for i in range(len(logs)-1,-1,-1):\n",
    "    logs[i].stop()"
   ]
  },
  {
   "cell_type": "code",
   "execution_count": 5,
   "metadata": {},
   "outputs": [
    {
     "name": "stdout",
     "output_type": "stream",
     "text": [
      "[f2d37b3e139c][2024-02-23 14:12:00.629873]     배치 데이터 전처리 종료, 최종 처리시간: 0:02:01.207735\n",
      "[dfda77692d24][2024-02-23 14:12:00.630032]   제공받은 데이터 불러오기 종료, 최종 처리시간: 0:02:01.208015\n",
      "[697487131c38][2024-02-23 14:12:00.630111] 배치 데이터 전처리 및 모델링 종료, 최종 처리시간: 0:02:01.208228\n"
     ]
    }
   ],
   "source": [
    "for i in range(len(logs)-1,-1,-1):\n",
    "    logs[i].stop()"
   ]
  },
  {
   "cell_type": "code",
   "execution_count": null,
   "metadata": {},
   "outputs": [],
   "source": []
  }
 ],
 "metadata": {
  "kernelspec": {
   "display_name": "t213p310",
   "language": "python",
   "name": "python3"
  },
  "language_info": {
   "codemirror_mode": {
    "name": "ipython",
    "version": 3
   },
   "file_extension": ".py",
   "mimetype": "text/x-python",
   "name": "python",
   "nbconvert_exporter": "python",
   "pygments_lexer": "ipython3",
   "version": "3.10.12"
  }
 },
 "nbformat": 4,
 "nbformat_minor": 2
}
