{
 "cells": [
  {
   "cell_type": "markdown",
   "metadata": {},
   "source": [
    "#### 개요\n",
    "학습대상 레코드와 컬럼으로 구성된 데이터를 대상으로 전처리 수행\n",
    "\n",
    "##### 진행사항\n",
    "아래 내용은 하나의 클래스에서 수행됨\n",
    "* STEP01: 공사비 데이터셋 전처리(NaN처리, 컬럼추가 등) \n",
    "* STEP02: 전주 데이터셋 전처리 및 공사비 데이터셋 병합\n",
    "\n",
    "##### 향후 추가할 사항\n",
    "여기서는 전주/전선에 대한 순서를 정하지 않음, 몇가지 컬럼 추가를 수행하지 않음\n",
    "* aidd-back240313/batch/preprocessing.py 참조"
   ]
  },
  {
   "cell_type": "code",
   "execution_count": 1,
   "metadata": {},
   "outputs": [],
   "source": [
    "import re\n",
    "import pandas as pd\n",
    "\n",
    "import aidd.sys.config as cfg\n",
    "from aidd.sys.utils import Logs, AiddException\n",
    "# 이 부분은 IPYNB에서 작업할 경우 만 필요함\n",
    "# * IPYNB에서 merge.ipynb와 preprocessing.ipynb가 끈어져 추가한 부분임\n",
    "from aidd.batch.data_manager import get_merged_data, load_pickle, save_pickle"
   ]
  },
  {
   "cell_type": "markdown",
   "metadata": {},
   "source": [
    "#### 공통 클래스 생성"
   ]
  },
  {
   "cell_type": "code",
   "execution_count": 2,
   "metadata": {},
   "outputs": [],
   "source": [
    "class Preprocessing():\n",
    "    def __init__(self, mdata, is_batch=True):\n",
    "        self._logs = Logs('PROPROCESSING')\n",
    "        if mdata is None:\n",
    "            raise AiddException('')\n",
    "        self.mdata = mdata\n",
    "        self.is_batch = is_batch\n",
    "        self.pdf = None\n",
    "        try:\n",
    "            self._run()\n",
    "        except AiddException as ae:\n",
    "            raise AiddException('PREPROCESSING_ERR', super_err=ae)\n",
    "        except Exception as e:\n",
    "            raise AiddException('PREPROCESSING_SERR', super_err=e)\n",
    "        finally:\n",
    "            self._logs.stop()\n",
    "        \n",
    "    def _run(self):\n",
    "        self._cons()\n",
    "        \n",
    "    def _cons(self):\n",
    "        logs = Logs('PP_CONS')\n",
    "        df = self.mdata['CONS']\n",
    "        logs.mid('SOURCE_SIZE', df.shape)\n",
    "        \n",
    "        # 결측치 처리\n",
    "        df.fillna(0, inplace=True)\n",
    "        \n",
    "        # 일자정보 처리\n",
    "        # * '최종변경일시'를 이용해 다양한 일자정보 컬럼 추가\n",
    "        df['YEAR'] = df.LAST_MOD_DATE.dt.year\n",
    "        df['MONTH'] = df.LAST_MOD_DATE.dt.month\n",
    "        df['DAY'] = df.LAST_MOD_DATE.dt.day\n",
    "        df['DAYOFWEEK'] = df.LAST_MOD_DATE.dt.dayofweek\n",
    "        df['DAYOFYEAR'] = df.LAST_MOD_DATE.dt.dayofyear\n",
    "        df['YEAR_MONTH'] = df.LAST_MOD_DATE.dt.strftime(\"%Y%m\").astype(int)\n",
    "        \n",
    "        # 사번정보 처리\n",
    "        # '최종변경자사번(LAST_MOD_EID)'만 사용(최초등록자==최종변경자사번)\n",
    "        df['EID_NUMBER'] = df.LAST_MOD_EID.apply(\n",
    "            lambda x: re.findall(r'\\d+', x)[0]\n",
    "        ).astype(int)\n",
    "        \n",
    "        # 사업소명 숫자로 변환\n",
    "        if self.is_batch:\n",
    "            olist = df.OFFICE_NAME.unique().tolist()\n",
    "            save_pickle(olist, pmode='PP_MEM', fcode='OFFICE_LIST')\n",
    "        else:\n",
    "            olist = load_pickle(pmode='PP_MEM', fcode='OFFICE_LIST')\n",
    "        print(olist)\n",
    "        "
   ]
  },
  {
   "cell_type": "code",
   "execution_count": 3,
   "metadata": {},
   "outputs": [
    {
     "name": "stdout",
     "output_type": "stream",
     "text": [
      "[080d6fdf07da][2024-03-14 17:51:23.787485] 모델 학습용 데이터 불러오기 시작\n",
      "[080d6fdf07da][2024-03-14 17:51:23.835770]   읽은 데이터: CONS, 데이터 크기: (14729, 11), 처리시간: 0:00:00.048196\n",
      "[080d6fdf07da][2024-03-14 17:51:23.883647]   읽은 데이터: POLE, 데이터 크기: (27896, 6), 처리시간: 0:00:00.047819\n",
      "[080d6fdf07da][2024-03-14 17:51:23.993737]   읽은 데이터: LINE, 데이터 크기: (30348, 11), 처리시간: 0:00:00.110013\n",
      "[080d6fdf07da][2024-03-14 17:51:24.030830]   읽은 데이터: SL, 데이터 크기: (17034, 6), 처리시간: 0:00:00.037011\n",
      "[080d6fdf07da][2024-03-14 17:51:24.030941] 모델 학습용 데이터 불러오기 종료, 최종 처리시간: 0:00:00.243460\n",
      "[b1a571a34e73][2024-03-14 17:51:24.031129] 모델 학습용 데이터 불러오기 시작\n",
      "[b1a571a34e73][2024-03-14 17:51:24.033590]   읽은 데이터: CONS, 데이터 크기: (3, 11), 처리시간: 0:00:00.002428\n",
      "[b1a571a34e73][2024-03-14 17:51:24.035342]   읽은 데이터: POLE, 데이터 크기: (9, 6), 처리시간: 0:00:00.001712\n",
      "[b1a571a34e73][2024-03-14 17:51:24.036990]   읽은 데이터: LINE, 데이터 크기: (9, 11), 처리시간: 0:00:00.001611\n",
      "[b1a571a34e73][2024-03-14 17:51:24.038251]   읽은 데이터: SL, 데이터 크기: (3, 6), 처리시간: 0:00:00.001230\n",
      "[b1a571a34e73][2024-03-14 17:51:24.038279] 모델 학습용 데이터 불러오기 종료, 최종 처리시간: 0:00:00.007149\n"
     ]
    }
   ],
   "source": [
    "bdata = get_merged_data(pmode='MB')\n",
    "odata = get_merged_data(pmode='MO')"
   ]
  },
  {
   "cell_type": "code",
   "execution_count": 4,
   "metadata": {},
   "outputs": [
    {
     "name": "stdout",
     "output_type": "stream",
     "text": [
      "[b6aaf2ea83a9][2024-03-14 17:51:24.050883] 데이터 전처리 시작\n",
      "[f7cfc0e10e40][2024-03-14 17:51:24.051471]   공사비 데이터 전처리 시작\n",
      "[f7cfc0e10e40][2024-03-14 17:51:24.051511]     공사비+설비갯수 원본 데이터 크기: (14729, 11)\n",
      "[b6aaf2ea83a9][2024-03-14 17:51:24.057432] 데이터 전처리 종료, 최종 처리시간: 0:00:00.006546\n"
     ]
    },
    {
     "ename": "AiddException",
     "evalue": "  배치 데이터 전처리 과정에서 시스템 에러가 발생했습니다.\n  Can only use .dt accessor with datetimelike values\n",
     "output_type": "error",
     "traceback": [
      "\u001b[0;31m---------------------------------------------------------------------------\u001b[0m",
      "\u001b[0;31mAttributeError\u001b[0m                            Traceback (most recent call last)",
      "Cell \u001b[0;32mIn[2], line 10\u001b[0m, in \u001b[0;36mPreprocessing.__init__\u001b[0;34m(self, mdata, is_batch)\u001b[0m\n\u001b[1;32m      9\u001b[0m \u001b[38;5;28;01mtry\u001b[39;00m:\n\u001b[0;32m---> 10\u001b[0m     \u001b[38;5;28;43mself\u001b[39;49m\u001b[38;5;241;43m.\u001b[39;49m\u001b[43m_run\u001b[49m\u001b[43m(\u001b[49m\u001b[43m)\u001b[49m\n\u001b[1;32m     11\u001b[0m \u001b[38;5;28;01mexcept\u001b[39;00m AiddException \u001b[38;5;28;01mas\u001b[39;00m ae:\n",
      "Cell \u001b[0;32mIn[2], line 19\u001b[0m, in \u001b[0;36mPreprocessing._run\u001b[0;34m(self)\u001b[0m\n\u001b[1;32m     18\u001b[0m \u001b[38;5;28;01mdef\u001b[39;00m \u001b[38;5;21m_run\u001b[39m(\u001b[38;5;28mself\u001b[39m):\n\u001b[0;32m---> 19\u001b[0m     \u001b[38;5;28;43mself\u001b[39;49m\u001b[38;5;241;43m.\u001b[39;49m\u001b[43m_cons\u001b[49m\u001b[43m(\u001b[49m\u001b[43m)\u001b[49m\n",
      "Cell \u001b[0;32mIn[2], line 31\u001b[0m, in \u001b[0;36mPreprocessing._cons\u001b[0;34m(self)\u001b[0m\n\u001b[1;32m     29\u001b[0m \u001b[38;5;66;03m# 일자정보 처리\u001b[39;00m\n\u001b[1;32m     30\u001b[0m \u001b[38;5;66;03m# * '최종변경일시'를 이용해 다양한 일자정보 컬럼 추가\u001b[39;00m\n\u001b[0;32m---> 31\u001b[0m df[\u001b[38;5;124m'\u001b[39m\u001b[38;5;124mYEAR\u001b[39m\u001b[38;5;124m'\u001b[39m] \u001b[38;5;241m=\u001b[39m \u001b[43mdf\u001b[49m\u001b[38;5;241;43m.\u001b[39;49m\u001b[43mLAST_MOD_DATE\u001b[49m\u001b[38;5;241;43m.\u001b[39;49m\u001b[43mdt\u001b[49m\u001b[38;5;241m.\u001b[39myear\n\u001b[1;32m     32\u001b[0m df[\u001b[38;5;124m'\u001b[39m\u001b[38;5;124mMONTH\u001b[39m\u001b[38;5;124m'\u001b[39m] \u001b[38;5;241m=\u001b[39m df\u001b[38;5;241m.\u001b[39mLAST_MOD_DATE\u001b[38;5;241m.\u001b[39mdt\u001b[38;5;241m.\u001b[39mmonth\n",
      "File \u001b[0;32m~/anaconda3/envs/t213p310/lib/python3.10/site-packages/pandas/core/generic.py:5989\u001b[0m, in \u001b[0;36mNDFrame.__getattr__\u001b[0;34m(self, name)\u001b[0m\n\u001b[1;32m   5988\u001b[0m     \u001b[38;5;28;01mreturn\u001b[39;00m \u001b[38;5;28mself\u001b[39m[name]\n\u001b[0;32m-> 5989\u001b[0m \u001b[38;5;28;01mreturn\u001b[39;00m \u001b[38;5;28;43mobject\u001b[39;49m\u001b[38;5;241;43m.\u001b[39;49m\u001b[38;5;21;43m__getattribute__\u001b[39;49m\u001b[43m(\u001b[49m\u001b[38;5;28;43mself\u001b[39;49m\u001b[43m,\u001b[49m\u001b[43m \u001b[49m\u001b[43mname\u001b[49m\u001b[43m)\u001b[49m\n",
      "File \u001b[0;32m~/anaconda3/envs/t213p310/lib/python3.10/site-packages/pandas/core/accessor.py:224\u001b[0m, in \u001b[0;36mCachedAccessor.__get__\u001b[0;34m(self, obj, cls)\u001b[0m\n\u001b[1;32m    223\u001b[0m     \u001b[38;5;28;01mreturn\u001b[39;00m \u001b[38;5;28mself\u001b[39m\u001b[38;5;241m.\u001b[39m_accessor\n\u001b[0;32m--> 224\u001b[0m accessor_obj \u001b[38;5;241m=\u001b[39m \u001b[38;5;28;43mself\u001b[39;49m\u001b[38;5;241;43m.\u001b[39;49m\u001b[43m_accessor\u001b[49m\u001b[43m(\u001b[49m\u001b[43mobj\u001b[49m\u001b[43m)\u001b[49m\n\u001b[1;32m    225\u001b[0m \u001b[38;5;66;03m# Replace the property with the accessor object. Inspired by:\u001b[39;00m\n\u001b[1;32m    226\u001b[0m \u001b[38;5;66;03m# https://www.pydanny.com/cached-property.html\u001b[39;00m\n\u001b[1;32m    227\u001b[0m \u001b[38;5;66;03m# We need to use object.__setattr__ because we overwrite __setattr__ on\u001b[39;00m\n\u001b[1;32m    228\u001b[0m \u001b[38;5;66;03m# NDFrame\u001b[39;00m\n",
      "File \u001b[0;32m~/anaconda3/envs/t213p310/lib/python3.10/site-packages/pandas/core/indexes/accessors.py:580\u001b[0m, in \u001b[0;36mCombinedDatetimelikeProperties.__new__\u001b[0;34m(cls, data)\u001b[0m\n\u001b[1;32m    578\u001b[0m     \u001b[38;5;28;01mreturn\u001b[39;00m PeriodProperties(data, orig)\n\u001b[0;32m--> 580\u001b[0m \u001b[38;5;28;01mraise\u001b[39;00m \u001b[38;5;167;01mAttributeError\u001b[39;00m(\u001b[38;5;124m\"\u001b[39m\u001b[38;5;124mCan only use .dt accessor with datetimelike values\u001b[39m\u001b[38;5;124m\"\u001b[39m)\n",
      "\u001b[0;31mAttributeError\u001b[0m: Can only use .dt accessor with datetimelike values",
      "\nDuring handling of the above exception, another exception occurred:\n",
      "\u001b[0;31mAiddException\u001b[0m                             Traceback (most recent call last)",
      "Cell \u001b[0;32mIn[4], line 1\u001b[0m\n\u001b[0;32m----> 1\u001b[0m pb \u001b[38;5;241m=\u001b[39m \u001b[43mPreprocessing\u001b[49m\u001b[43m(\u001b[49m\u001b[43mbdata\u001b[49m\u001b[43m)\u001b[49m\n\u001b[1;32m      2\u001b[0m po \u001b[38;5;241m=\u001b[39m Preprocessing(odata, is_batch\u001b[38;5;241m=\u001b[39m\u001b[38;5;28;01mFalse\u001b[39;00m)\n",
      "Cell \u001b[0;32mIn[2], line 14\u001b[0m, in \u001b[0;36mPreprocessing.__init__\u001b[0;34m(self, mdata, is_batch)\u001b[0m\n\u001b[1;32m     12\u001b[0m     \u001b[38;5;28;01mraise\u001b[39;00m AiddException(\u001b[38;5;124m'\u001b[39m\u001b[38;5;124mPREPROCESSING_ERR\u001b[39m\u001b[38;5;124m'\u001b[39m, super_err\u001b[38;5;241m=\u001b[39mae)\n\u001b[1;32m     13\u001b[0m \u001b[38;5;28;01mexcept\u001b[39;00m \u001b[38;5;167;01mException\u001b[39;00m \u001b[38;5;28;01mas\u001b[39;00m e:\n\u001b[0;32m---> 14\u001b[0m     \u001b[38;5;28;01mraise\u001b[39;00m AiddException(\u001b[38;5;124m'\u001b[39m\u001b[38;5;124mPREPROCESSING_SERR\u001b[39m\u001b[38;5;124m'\u001b[39m, super_err\u001b[38;5;241m=\u001b[39me)\n\u001b[1;32m     15\u001b[0m \u001b[38;5;28;01mfinally\u001b[39;00m:\n\u001b[1;32m     16\u001b[0m     \u001b[38;5;28mself\u001b[39m\u001b[38;5;241m.\u001b[39m_logs\u001b[38;5;241m.\u001b[39mstop()\n",
      "\u001b[0;31mAiddException\u001b[0m:   배치 데이터 전처리 과정에서 시스템 에러가 발생했습니다.\n  Can only use .dt accessor with datetimelike values\n"
     ]
    }
   ],
   "source": [
    "pb = Preprocessing(bdata)\n",
    "po = Preprocessing(odata, is_batch=False)"
   ]
  },
  {
   "cell_type": "code",
   "execution_count": null,
   "metadata": {},
   "outputs": [],
   "source": []
  }
 ],
 "metadata": {
  "kernelspec": {
   "display_name": "t213p310",
   "language": "python",
   "name": "python3"
  },
  "language_info": {
   "codemirror_mode": {
    "name": "ipython",
    "version": 3
   },
   "file_extension": ".py",
   "mimetype": "text/x-python",
   "name": "python",
   "nbconvert_exporter": "python",
   "pygments_lexer": "ipython3",
   "version": "3.10.12"
  }
 },
 "nbformat": 4,
 "nbformat_minor": 2
}
