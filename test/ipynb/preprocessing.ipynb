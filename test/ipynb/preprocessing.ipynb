{
 "cells": [
  {
   "cell_type": "markdown",
   "metadata": {},
   "source": [
    "# Start"
   ]
  },
  {
   "cell_type": "code",
   "execution_count": 1,
   "metadata": {},
   "outputs": [],
   "source": [
    "import pandas as pd\n",
    "\n",
    "from aidd.batch.data_manager import get_provide_data, get_rename_columns\n",
    "from aidd.batch.preprocessing import Preprocessing\n",
    "from aidd.sys.utils import AiddException"
   ]
  },
  {
   "cell_type": "markdown",
   "metadata": {},
   "source": [
    "# Load Data"
   ]
  },
  {
   "cell_type": "code",
   "execution_count": 2,
   "metadata": {},
   "outputs": [
    {
     "name": "stdout",
     "output_type": "stream",
     "text": [
      "[940a33983d55][2024-02-28 09:42:15.079987] 제공받은 데이터 불러오기 시작\n",
      "[940a33983d55][2024-02-28 09:42:43.034814]   읽은 데이터: CONS, 데이터 크기: (19052, 143), 처리시간: 0:00:27.954602\n",
      "[940a33983d55][2024-02-28 09:43:07.804938]   읽은 데이터: POLE, 데이터 크기: (38533, 63), 처리시간: 0:00:24.769959\n",
      "[940a33983d55][2024-02-28 09:43:39.673338]   읽은 데이터: LINE, 데이터 크기: (40019, 77), 처리시간: 0:00:31.868273\n",
      "[940a33983d55][2024-02-28 09:43:53.035455]   읽은 데이터: SL, 데이터 크기: (22632, 57), 처리시간: 0:00:13.361988\n",
      "[940a33983d55][2024-02-28 09:43:53.035553] 제공받은 데이터 불러오기 종료, 최종 처리시간: 0:01:37.955595\n"
     ]
    }
   ],
   "source": [
    "pdata = get_provide_data()"
   ]
  },
  {
   "cell_type": "markdown",
   "metadata": {},
   "source": [
    "# Pre-Processing"
   ]
  },
  {
   "cell_type": "code",
   "execution_count": 3,
   "metadata": {},
   "outputs": [
    {
     "name": "stdout",
     "output_type": "stream",
     "text": [
      "[1d45ab584729][2024-02-28 09:43:53.049974] 배치 데이터 전처리 시작\n",
      "[64293d987818][2024-02-28 09:43:53.050094]   공사비 데이터 전처리 시작\n",
      "[64293d987818][2024-02-28 09:43:53.801346]     공사비 데이터 1차 전처리 결과(데이터 크기): (15335, 16)\n",
      "[64293d987818][2024-02-28 09:43:53.893020]   공사비 데이터 전처리 종료, 최종 처리시간: 0:00:00.842914\n",
      "[394e141aafd8][2024-02-28 09:43:53.893116]   공비비 데이터별 설비 갯 수 계산 전처리 시작\n",
      "[394e141aafd8][2024-02-28 09:43:54.077541]     공사비 데이터별 설비 갯 수 계산 후 데이터 크기: (14729, 19)\n",
      "[394e141aafd8][2024-02-28 09:43:54.189445]   공비비 데이터별 설비 갯 수 계산 전처리 종료, 최종 처리시간: 0:00:00.296313\n",
      "[ad88cba43d43][2024-02-28 09:43:54.189768]   전주 데이터 전처리 시작\n",
      "[ad88cba43d43][2024-02-28 09:43:54.426532]     전주 데이터만 전처리한 결과(데이터 크기): (26921, 20)\n",
      "[1d45ab584729][2024-02-28 09:43:54.426630] 배치 데이터 전처리 종료, 최종 처리시간: 0:00:01.376665\n"
     ]
    }
   ],
   "source": [
    "try:\n",
    "    pp = Preprocessing(pdata)\n",
    "except AiddException as ae:\n",
    "    print(ae)\n",
    "except Exception as e:\n",
    "    print(f'SYS Error: {e}')"
   ]
  },
  {
   "cell_type": "markdown",
   "metadata": {},
   "source": [
    "# Test"
   ]
  },
  {
   "cell_type": "markdown",
   "metadata": {},
   "source": [
    "### Check Unique Data Type"
   ]
  },
  {
   "cell_type": "code",
   "execution_count": 5,
   "metadata": {},
   "outputs": [
    {
     "data": {
      "text/plain": [
       "numpy.ndarray"
      ]
     },
     "execution_count": 5,
     "metadata": {},
     "output_type": "execute_result"
    }
   ],
   "source": [
    "type(pp._ppoledf.CONS_ID.unique())"
   ]
  },
  {
   "cell_type": "code",
   "execution_count": 6,
   "metadata": {},
   "outputs": [],
   "source": [
    "summation_columns = [col for col in pp._ppoledf.columns if col.startswith('POLE_')]"
   ]
  },
  {
   "cell_type": "code",
   "execution_count": 7,
   "metadata": {},
   "outputs": [
    {
     "name": "stdout",
     "output_type": "stream",
     "text": [
      "POLE_SHAPE_G\n",
      "POLE_SHAPE_O\n",
      "POLE_SHAPE_V\n",
      "POLE_TYPE_1\n",
      "POLE_TYPE_B\n",
      "POLE_TYPE_C\n",
      "POLE_TYPE_E\n",
      "POLE_TYPE_H\n",
      "POLE_TYPE_M\n",
      "POLE_SPEC_6.0\n",
      "POLE_SPEC_8.0\n",
      "POLE_SPEC_10.0\n",
      "POLE_SPEC_11.0\n",
      "POLE_SPEC_12.0\n",
      "POLE_SPEC_14.0\n",
      "POLE_SPEC_16.0\n"
     ]
    }
   ],
   "source": [
    "for col in summation_columns:\n",
    "    print(col)"
   ]
  },
  {
   "cell_type": "code",
   "execution_count": 8,
   "metadata": {},
   "outputs": [],
   "source": [
    "ldf = pp.pdata['LINE']"
   ]
  },
  {
   "cell_type": "code",
   "execution_count": 9,
   "metadata": {},
   "outputs": [],
   "source": [
    "select_columns = [\n",
    "    'CONS_ID', 'COMP_ID', 'FROM_COMP_ID',\n",
    "    'WIRING_SCHEME', 'LINE_TYPE_CD', 'LINE_SPEC_CD', 'LINE_PHASE_CD',\n",
    "    'SPAN', 'NEUTRAL_TYPE_CD', 'NEUTRAL_SPEC_CD', 'COORDINATE'\n",
    "]"
   ]
  },
  {
   "cell_type": "code",
   "execution_count": 10,
   "metadata": {},
   "outputs": [],
   "source": [
    "ldf = ldf[select_columns]"
   ]
  },
  {
   "cell_type": "code",
   "execution_count": 12,
   "metadata": {},
   "outputs": [],
   "source": [
    "## 코드형 데이터 One-Hoe Encoding\n",
    "ldf = pd.get_dummies(\n",
    "    ldf, \n",
    "    columns=[\n",
    "        'WIRING_SCHEME', 'LINE_TYPE_CD', 'LINE_SPEC_CD', 'LINE_PHASE_CD',\n",
    "        'NEUTRAL_TYPE_CD', 'NEUTRAL_SPEC_CD'\n",
    "    ],\n",
    "    prefix=[\n",
    "        'WIRING_SCHEME', 'LINE_TYPE', 'LINE_SPEC', 'LINE_PHASE',\n",
    "        'NEUTRAL_TYPE', 'NEUTRAL_SPEC'\n",
    "    ]\n",
    ")"
   ]
  },
  {
   "cell_type": "code",
   "execution_count": 13,
   "metadata": {},
   "outputs": [
    {
     "data": {
      "text/plain": [
       "['CONS_ID',\n",
       " 'COMP_ID',\n",
       " 'FROM_COMP_ID',\n",
       " 'SPAN',\n",
       " 'COORDINATE',\n",
       " 'WIRING_SCHEME_13',\n",
       " 'WIRING_SCHEME_41',\n",
       " 'WIRING_SCHEME_43',\n",
       " 'LINE_TYPE_AO',\n",
       " 'LINE_TYPE_C1',\n",
       " 'LINE_TYPE_C2',\n",
       " 'LINE_TYPE_C4',\n",
       " 'LINE_TYPE_D2',\n",
       " 'LINE_TYPE_D4',\n",
       " 'LINE_TYPE_EW',\n",
       " 'LINE_TYPE_OC',\n",
       " 'LINE_TYPE_OW',\n",
       " 'LINE_SPEC_3.2',\n",
       " 'LINE_SPEC_22.0',\n",
       " 'LINE_SPEC_25.0',\n",
       " 'LINE_SPEC_32.0',\n",
       " 'LINE_SPEC_35.0',\n",
       " 'LINE_SPEC_38.0',\n",
       " 'LINE_SPEC_58.0',\n",
       " 'LINE_SPEC_60.0',\n",
       " 'LINE_SPEC_70.0',\n",
       " 'LINE_SPEC_100.0',\n",
       " 'LINE_SPEC_120.0',\n",
       " 'LINE_SPEC_150.0',\n",
       " 'LINE_PHASE_1',\n",
       " 'LINE_PHASE_2',\n",
       " 'LINE_PHASE_3',\n",
       " 'NEUTRAL_TYPE_AL',\n",
       " 'NEUTRAL_TYPE_AO',\n",
       " 'NEUTRAL_TYPE_C1',\n",
       " 'NEUTRAL_TYPE_OC',\n",
       " 'NEUTRAL_TYPE_OW',\n",
       " 'NEUTRAL_TYPE_WO',\n",
       " 'NEUTRAL_TYPE_ZZ',\n",
       " 'NEUTRAL_SPEC_0.0',\n",
       " 'NEUTRAL_SPEC_22.0',\n",
       " 'NEUTRAL_SPEC_32.0',\n",
       " 'NEUTRAL_SPEC_35.0',\n",
       " 'NEUTRAL_SPEC_38.0',\n",
       " 'NEUTRAL_SPEC_58.0',\n",
       " 'NEUTRAL_SPEC_60.0',\n",
       " 'NEUTRAL_SPEC_95.0',\n",
       " 'NEUTRAL_SPEC_100.0',\n",
       " 'NEUTRAL_SPEC_150.0']"
      ]
     },
     "execution_count": 13,
     "metadata": {},
     "output_type": "execute_result"
    }
   ],
   "source": [
    "ldf.columns.tolist()"
   ]
  },
  {
   "cell_type": "code",
   "execution_count": null,
   "metadata": {},
   "outputs": [],
   "source": []
  }
 ],
 "metadata": {
  "kernelspec": {
   "display_name": "t213p310",
   "language": "python",
   "name": "python3"
  },
  "language_info": {
   "codemirror_mode": {
    "name": "ipython",
    "version": 3
   },
   "file_extension": ".py",
   "mimetype": "text/x-python",
   "name": "python",
   "nbconvert_exporter": "python",
   "pygments_lexer": "ipython3",
   "version": "3.10.12"
  }
 },
 "nbformat": 4,
 "nbformat_minor": 2
}
