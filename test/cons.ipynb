{
 "cells": [
  {
   "cell_type": "code",
   "execution_count": 1,
   "metadata": {},
   "outputs": [],
   "source": [
    "import pandas as pd\n",
    "from aidd.sys.data_io import read_data"
   ]
  },
  {
   "cell_type": "code",
   "execution_count": 2,
   "metadata": {},
   "outputs": [],
   "source": [
    "cons_df = read_data('PROVIDE,SL')"
   ]
  },
  {
   "cell_type": "code",
   "execution_count": 3,
   "metadata": {},
   "outputs": [
    {
     "name": "stdout",
     "output_type": "stream",
     "text": [
      "<class 'pandas.core.frame.DataFrame'>\n",
      "RangeIndex: 22632 entries, 0 to 22631\n",
      "Data columns (total 57 columns):\n",
      " #   Column          Non-Null Count  Dtype         \n",
      "---  ------          --------------  -----         \n",
      " 0   공사번호            22632 non-null  object        \n",
      " 1   공사변경순번          22632 non-null  int64         \n",
      " 2   전산화번호           22632 non-null  object        \n",
      " 3   GISID           22632 non-null  int64         \n",
      " 4   공사구분코드          22632 non-null  object        \n",
      " 5   공사성격코드          22632 non-null  object        \n",
      " 6   가공지중구분코드        22632 non-null  object        \n",
      " 7   고객소유여부          22632 non-null  object        \n",
      " 8   인입구분코드          22632 non-null  object        \n",
      " 9   인입전선종류코드        22632 non-null  object        \n",
      " 10  고객공급선규격코드       22632 non-null  float64       \n",
      " 11  조수              22632 non-null  int64         \n",
      " 12  전선구분코드          22568 non-null  object        \n",
      " 13  지지물간거리          22632 non-null  int64         \n",
      " 14  보호장치코드          22384 non-null  float64       \n",
      " 15  전원측인입공사성격코드     9406 non-null   object        \n",
      " 16  전원측인입형태코드       9539 non-null   object        \n",
      " 17  가옥측인입공사특성코드     10801 non-null  object        \n",
      " 18  가옥측인입형태코드       10911 non-null  object        \n",
      " 19  지지대공사성격코드       6701 non-null   object        \n",
      " 20  지지대설치형태코드       7253 non-null   object        \n",
      " 21  지지대종류코드         7051 non-null   object        \n",
      " 22  지지대규격코드1        7045 non-null   float64       \n",
      " 23  지지대규격코드2        387 non-null    float64       \n",
      " 24  지지대규격코드3        365 non-null    float64       \n",
      " 25  설비조정코드          0 non-null      float64       \n",
      " 26  병행거리            22632 non-null  int64         \n",
      " 27  조가선공용여부         22632 non-null  object        \n",
      " 28  조가선선로길이         22632 non-null  int64         \n",
      " 29  보호장치공사특성코드      21917 non-null  object        \n",
      " 30  슬리브접속여부         22632 non-null  object        \n",
      " 31  기설설비유실여부        22632 non-null  object        \n",
      " 32  사업소코드           0 non-null      float64       \n",
      " 33  변전소코드           0 non-null      float64       \n",
      " 34  회선코드            0 non-null      float64       \n",
      " 35  기설설비상태코드        0 non-null      float64       \n",
      " 36  부하측접속제외여부       22632 non-null  object        \n",
      " 37  케이블헤더수량         22632 non-null  int64         \n",
      " 38  NDIS사업소코드       0 non-null      float64       \n",
      " 39  최초등록일시          22632 non-null  datetime64[ns]\n",
      " 40  최초등록자사번         22632 non-null  object        \n",
      " 41  최종변경일시          22632 non-null  datetime64[ns]\n",
      " 42  최종변경자사번         22632 non-null  object        \n",
      " 43  이설여부            1677 non-null   object        \n",
      " 44  보호장치개수          0 non-null      float64       \n",
      " 45  주상분리여부          0 non-null      float64       \n",
      " 46  영업배전_결속종류코드     1640 non-null   object        \n",
      " 47  결속_영업배전_공사성격코드  1640 non-null   object        \n",
      " 48  현장상태값           3338 non-null   float64       \n",
      " 49  다심케이블분기커버수      3338 non-null   float64       \n",
      " 50  사업소명            22632 non-null  object        \n",
      " 51  접수종류코드          22632 non-null  object        \n",
      " 52  접수종류명           22632 non-null  object        \n",
      " 53  공사형태코드          22632 non-null  int64         \n",
      " 54  공사형태명           22632 non-null  object        \n",
      " 55  계약전력            22632 non-null  int64         \n",
      " 56  X좌표-Y좌표         22632 non-null  object        \n",
      "dtypes: datetime64[ns](2), float64(15), int64(9), object(31)\n",
      "memory usage: 9.8+ MB\n"
     ]
    }
   ],
   "source": [
    "cons_df.info()"
   ]
  },
  {
   "cell_type": "code",
   "execution_count": 5,
   "metadata": {},
   "outputs": [
    {
     "data": {
      "text/plain": [
       "['사업소재료비금액', '사업소명']"
      ]
     },
     "execution_count": 5,
     "metadata": {},
     "output_type": "execute_result"
    }
   ],
   "source": [
    "[col for col in cons_df.columns if col.startswith('사업소')]"
   ]
  },
  {
   "cell_type": "code",
   "execution_count": 6,
   "metadata": {},
   "outputs": [
    {
     "data": {
      "text/plain": [
       "접수종류명\n",
       "신설(상용/임시)     16755\n",
       "신설(발전기)        1387\n",
       "공급방식변경증설        232\n",
       "증설              178\n",
       "계약종별변경증설        163\n",
       "공급지점변경           92\n",
       "단순공급방식변경         81\n",
       "해지후재사용(신규)       76\n",
       "계약단위합병           30\n",
       "신증설(예비전력)        29\n",
       "일부해지(신규)         19\n",
       "계약단위분할            9\n",
       "증설(발전기)           1\n",
       "Name: count, dtype: int64"
      ]
     },
     "execution_count": 6,
     "metadata": {},
     "output_type": "execute_result"
    }
   ],
   "source": [
    "cons_df['접수종류명'].value_counts()"
   ]
  },
  {
   "cell_type": "code",
   "execution_count": 4,
   "metadata": {},
   "outputs": [
    {
     "data": {
      "text/plain": [
       "['공사번호',\n",
       " '공사변경순번',\n",
       " '배전공사형태코드',\n",
       " '회사분공사비',\n",
       " '도급분공사비',\n",
       " '자본적금액',\n",
       " '수익적금액',\n",
       " '본사분재료비',\n",
       " '외자분재료비',\n",
       " '내자분재료비',\n",
       " '내자분저장품재료비',\n",
       " '내자분비저장품재료비',\n",
       " '사업소재료비금액',\n",
       " '도급분재료비',\n",
       " '지입재료비',\n",
       " '간접재료비',\n",
       " '작업부산물값',\n",
       " '잡재료비',\n",
       " '직접노무비',\n",
       " '간접노무비',\n",
       " '기계경비',\n",
       " '공구손료',\n",
       " '회사분경비',\n",
       " '도급분경비',\n",
       " '전선변압기코드번호',\n",
       " '전선변압기추가금액',\n",
       " '전선변압기조정금액',\n",
       " '인력분기준비용',\n",
       " '기계분기준비용',\n",
       " '할선분기준비용',\n",
       " '무정전기준비용',\n",
       " '신설기준비용',\n",
       " '철거기준비용',\n",
       " '일반관리비',\n",
       " '이윤',\n",
       " '총공사비',\n",
       " '재료비',\n",
       " '회사분재료비',\n",
       " '노무비',\n",
       " '경비',\n",
       " '전선기술노무비',\n",
       " '전선기술재료비',\n",
       " '전선기술경비',\n",
       " '운반비',\n",
       " '무정전기술노무비',\n",
       " '무정전기술경비',\n",
       " '도급분무정전기술노무비',\n",
       " '도급분무정전기술경비',\n",
       " '감리총공사비',\n",
       " '폐기물총공사비',\n",
       " '자동화총공사비',\n",
       " '도통시험총공사비',\n",
       " '전주가지지공법노무비',\n",
       " '전주가지지공법경비',\n",
       " '공통공사비',\n",
       " '가설공사비1',\n",
       " '가설공사비2',\n",
       " '공동장비비용',\n",
       " '현장관리비',\n",
       " '직접공사비',\n",
       " '회사분직접공사비',\n",
       " '도급분직접공사비',\n",
       " '간접공사비',\n",
       " '가공분단위시설별공사비',\n",
       " '지중분단위시설별공사비',\n",
       " '가공분회사분재료비',\n",
       " '지중분회사분재료비',\n",
       " '가공분도급분재료비',\n",
       " '지중분도급분재료비',\n",
       " '자본적비율',\n",
       " '수익적비율',\n",
       " '감리자본적금액',\n",
       " '감리수익적금액',\n",
       " '폐기자본적금액',\n",
       " '폐기수익적금액',\n",
       " '도통자본적금액',\n",
       " '도통수익적금액',\n",
       " '자동화자본적금액',\n",
       " '자동화수익적금액',\n",
       " '도급분자본적금액',\n",
       " '도급분수익적금액',\n",
       " '도급분자본적비율',\n",
       " '도급분수익적비율',\n",
       " '자본대비자본적비율',\n",
       " '수익대비수익적비율',\n",
       " '원형전주버팀목공법자재비',\n",
       " '원형전주버팀목공법노무비',\n",
       " '원형전주버팀목공법경비',\n",
       " '전주파쇄비',\n",
       " '기타자재파쇄비',\n",
       " '도급분원형전주버팀목공법자재비',\n",
       " '도급분원형전주버팀목공법노무비',\n",
       " '도급분원형전주버팀목공법경비',\n",
       " '아치형전주버팀목공법자재비',\n",
       " '아치형전주버팀목공법노무비',\n",
       " '아치형전주버팀목공법경비',\n",
       " '더블블레이드총공사비',\n",
       " '더블블레이드자본금액',\n",
       " '더블블레이드수익금',\n",
       " '고객부담일반관리비',\n",
       " '사급자재자체감리비',\n",
       " '고객부담자체감리비',\n",
       " '부대공사자체감리비',\n",
       " '신기술공종규격코드',\n",
       " '신기술공사비',\n",
       " '신기술적용대수',\n",
       " '신기술적용선로길이',\n",
       " '중공스크루로드총공사비',\n",
       " '중공스크루로드자본적금액',\n",
       " '중공스크루로드수익적금액',\n",
       " '복리후생비율',\n",
       " '소모품비율',\n",
       " '여비통신비율',\n",
       " '세금공과금비율',\n",
       " 'CUD상태코드',\n",
       " '손실보상금',\n",
       " '손실보상계수',\n",
       " '무정전전선이선공사비',\n",
       " '무정전전선이선특허사용료율',\n",
       " '방호대총공사비',\n",
       " '방호대자본적금액',\n",
       " '방호대수익적금액',\n",
       " '미관개선총공사비',\n",
       " '미관개선자본적금액',\n",
       " '미관개선수익적금액',\n",
       " '직접기본노무비',\n",
       " '제수당',\n",
       " '퇴직금액',\n",
       " '교통보조비용',\n",
       " '총직접노무비',\n",
       " '아치형전주버팀목공법일반관리비',\n",
       " '아치형전주버팀목공법이윤',\n",
       " '아치형전주버팀목공법기술료율',\n",
       " '최초등록일시',\n",
       " '최초등록자사번',\n",
       " '최종변경일시',\n",
       " '최종변경자사번',\n",
       " '사업소명',\n",
       " '접수종류코드',\n",
       " '접수종류명',\n",
       " '공사형태코드',\n",
       " '공사형태명',\n",
       " '계약전력']"
      ]
     },
     "execution_count": 4,
     "metadata": {},
     "output_type": "execute_result"
    }
   ],
   "source": [
    "[col for col in cons_df.columns]"
   ]
  },
  {
   "cell_type": "code",
   "execution_count": null,
   "metadata": {},
   "outputs": [],
   "source": []
  }
 ],
 "metadata": {
  "kernelspec": {
   "display_name": "t213p310",
   "language": "python",
   "name": "python3"
  },
  "language_info": {
   "codemirror_mode": {
    "name": "ipython",
    "version": 3
   },
   "file_extension": ".py",
   "mimetype": "text/x-python",
   "name": "python",
   "nbconvert_exporter": "python",
   "pygments_lexer": "ipython3",
   "version": "3.10.13"
  }
 },
 "nbformat": 4,
 "nbformat_minor": 2
}
