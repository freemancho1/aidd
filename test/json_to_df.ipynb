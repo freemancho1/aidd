{
 "cells": [
  {
   "cell_type": "code",
   "execution_count": 2,
   "metadata": {},
   "outputs": [],
   "source": [
    "import pandas as pd\n",
    "\n",
    "from aidd.sys.data_io import read_data\n",
    "from aidd.sys.json_io import get_sample_data, json_to_df"
   ]
  },
  {
   "cell_type": "code",
   "execution_count": 2,
   "metadata": {},
   "outputs": [],
   "source": [
    "samples = get_sample_data()"
   ]
  },
  {
   "cell_type": "code",
   "execution_count": 4,
   "metadata": {},
   "outputs": [],
   "source": [
    "json_dict, df_dict = json_to_df(samples)"
   ]
  },
  {
   "cell_type": "code",
   "execution_count": 5,
   "metadata": {},
   "outputs": [
    {
     "data": {
      "text/plain": [
       "dict_keys(['PRED_1', 'PRED_2', 'PRED_3'])"
      ]
     },
     "execution_count": 5,
     "metadata": {},
     "output_type": "execute_result"
    }
   ],
   "source": [
    "df_dict.keys()"
   ]
  },
  {
   "cell_type": "code",
   "execution_count": 6,
   "metadata": {},
   "outputs": [
    {
     "data": {
      "text/plain": [
       "dict_keys(['CONS', 'POLE', 'LINE', 'SL'])"
      ]
     },
     "execution_count": 6,
     "metadata": {},
     "output_type": "execute_result"
    }
   ],
   "source": [
    "df_dict['PRED_1'].keys()"
   ]
  },
  {
   "cell_type": "code",
   "execution_count": 7,
   "metadata": {},
   "outputs": [
    {
     "name": "stdout",
     "output_type": "stream",
     "text": [
      "<class 'pandas.core.frame.DataFrame'>\n",
      "RangeIndex: 1 entries, 0 to 0\n",
      "Data columns (total 11 columns):\n",
      " #   Column           Non-Null Count  Dtype \n",
      "---  ------           --------------  ----- \n",
      " 0   PRED_NO          1 non-null      int64 \n",
      " 1   PRED_TYPE        1 non-null      int64 \n",
      " 2   TOTAL_CONS_COST  1 non-null      int64 \n",
      " 3   POLE_CNT         1 non-null      int64 \n",
      " 4   LINE_CNT         1 non-null      int64 \n",
      " 5   SL_CNT           1 non-null      int64 \n",
      " 6   CONS_ID          1 non-null      object\n",
      " 7   LAST_MOD_DATE    1 non-null      object\n",
      " 8   OFFICE_NAME      1 non-null      object\n",
      " 9   CONT_CAP         1 non-null      int64 \n",
      " 10  ACC_TYPE_NAME    1 non-null      object\n",
      "dtypes: int64(7), object(4)\n",
      "memory usage: 216.0+ bytes\n"
     ]
    }
   ],
   "source": [
    "df_dict['PRED_1']['CONS'].info()"
   ]
  },
  {
   "cell_type": "code",
   "execution_count": 4,
   "metadata": {},
   "outputs": [],
   "source": [
    "line_df = read_data('MERGE,BATCH,LINE')"
   ]
  },
  {
   "cell_type": "code",
   "execution_count": 5,
   "metadata": {},
   "outputs": [
    {
     "data": {
      "text/plain": [
       "SPAN\n",
       "40     896\n",
       "38     839\n",
       "42     820\n",
       "35     809\n",
       "45     804\n",
       "      ... \n",
       "121      1\n",
       "130      1\n",
       "108      1\n",
       "105      1\n",
       "112      1\n",
       "Name: count, Length: 107, dtype: int64"
      ]
     },
     "execution_count": 5,
     "metadata": {},
     "output_type": "execute_result"
    }
   ],
   "source": [
    "line_df['SPAN'].value_counts()"
   ]
  },
  {
   "cell_type": "code",
   "execution_count": null,
   "metadata": {},
   "outputs": [],
   "source": []
  }
 ],
 "metadata": {
  "kernelspec": {
   "display_name": "t213p310",
   "language": "python",
   "name": "python3"
  },
  "language_info": {
   "codemirror_mode": {
    "name": "ipython",
    "version": 3
   },
   "file_extension": ".py",
   "mimetype": "text/x-python",
   "name": "python",
   "nbconvert_exporter": "python",
   "pygments_lexer": "ipython3",
   "version": "3.10.12"
  }
 },
 "nbformat": 4,
 "nbformat_minor": 2
}
